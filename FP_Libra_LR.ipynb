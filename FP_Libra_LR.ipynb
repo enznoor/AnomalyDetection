{
  "nbformat": 4,
  "nbformat_minor": 0,
  "metadata": {
    "colab": {
      "provenance": [],
      "collapsed_sections": [
        "wHpBS4kNLx9o",
        "vACBMqXLTUKR",
        "CvTpmQUfehzf"
      ],
      "authorship_tag": "ABX9TyNMt/+gQ1FFTRwVZaP3Mrpv",
      "include_colab_link": true
    },
    "kernelspec": {
      "name": "python3",
      "display_name": "Python 3"
    },
    "language_info": {
      "name": "python"
    }
  },
  "cells": [
    {
      "cell_type": "markdown",
      "metadata": {
        "id": "view-in-github",
        "colab_type": "text"
      },
      "source": [
        "<a href=\"https://colab.research.google.com/github/enznoor/AnomalyDetection/blob/main/FP_Libra_LR.ipynb\" target=\"_parent\"><img src=\"https://colab.research.google.com/assets/colab-badge.svg\" alt=\"Open In Colab\"/></a>"
      ]
    },
    {
      "cell_type": "code",
      "execution_count": null,
      "metadata": {
        "id": "huNXgyzj9IF1"
      },
      "outputs": [],
      "source": [
        "import pandas as pd\n",
        "import networkx as nx\n",
        "import numpy as np\n",
        "from google.colab import drive\n",
        "import matplotlib.pyplot as plt\n",
        "from sklearn.linear_model import LogisticRegression\n",
        "from sklearn.model_selection import train_test_split\n",
        "from sklearn.metrics import roc_curve, roc_auc_score , auc\n",
        "from sklearn.metrics import mean_squared_error\n",
        "from sklearn.metrics import confusion_matrix, classification_report, accuracy_score"
      ]
    },
    {
      "cell_type": "code",
      "source": [
        "#Load Data to memory\n",
        "drive.mount('/content/drive')"
      ],
      "metadata": {
        "colab": {
          "base_uri": "https://localhost:8080/"
        },
        "id": "JP4UfvNb9WyK",
        "outputId": "77f20464-e949-45d4-d57f-420e0bfe0fad"
      },
      "execution_count": null,
      "outputs": [
        {
          "output_type": "stream",
          "name": "stdout",
          "text": [
            "Drive already mounted at /content/drive; to attempt to forcibly remount, call drive.mount(\"/content/drive\", force_remount=True).\n"
          ]
        }
      ]
    },
    {
      "cell_type": "code",
      "source": [
        "BasePath='drive/MyDrive/Term_05/FinalProject/Dataset/'\n",
        "DF_LibraEgonet=pd.read_csv(BasePath+ 'Libra_ego_features.csv')\n",
        "DF_Librarwalk = pd.read_csv(BasePath+'Libra_rwalk_features_L1_R2.csv')"
      ],
      "metadata": {
        "id": "qJHlVPbN9ltA"
      },
      "execution_count": null,
      "outputs": []
    },
    {
      "cell_type": "code",
      "source": [
        "#df_node_features_ego=DF_LibraEgonet.sample(frac=0.1)\n"
      ],
      "metadata": {
        "id": "RGeYU-aywNW-"
      },
      "execution_count": null,
      "outputs": []
    },
    {
      "cell_type": "code",
      "source": [
        "df_node_features_ego=DF_LibraEgonet\n",
        "N = len(df_node_features_ego)      # number of nodes\n",
        "print('number of nodes:' , N)\n",
        "total_alerts = np.sum(df_node_features_ego[\"nr_alerts\"])  # number of (weighted) alerts\n",
        "print('number of (weighted) alerts',total_alerts)\n",
        "tpr_a_average = np.zeros(N)\n",
        "total_reports = np.sum(df_node_features_ego[\"nr_reports\"])  # number of (weighted) reports\n",
        "print('number of (weighted) reports',total_reports)\n",
        "tpr_r_average = np.zeros(N)"
      ],
      "metadata": {
        "colab": {
          "base_uri": "https://localhost:8080/"
        },
        "id": "TEoET1PQ-pc5",
        "outputId": "729dc0e4-db8f-4448-fcb8-d11ee8afaa2f"
      },
      "execution_count": null,
      "outputs": [
        {
          "output_type": "stream",
          "name": "stdout",
          "text": [
            "number of nodes: 385100\n",
            "number of (weighted) alerts 711.0\n",
            "number of (weighted) reports 17.0\n"
          ]
        }
      ]
    },
    {
      "cell_type": "code",
      "source": [
        "FeatureList=['f_degree_in','f_degree_out' , 'f_amount_in','f_amount_out','f_nr_trans_in','f_nr_trans_out','f_ego_nr_nodes',\n",
        "             'f_ego_nr_edges','f_egored_degree_in','f_egored_degree_out','f_egored_amount_in','f_egored_amount_out','f_egored_nr_trans_in',\n",
        "             'f_egored_nr_trans_out','f_egored_nr_nodes','f_egored_nr_edges']"
      ],
      "metadata": {
        "id": "Z-52uO0BBtWR"
      },
      "execution_count": null,
      "outputs": []
    },
    {
      "cell_type": "code",
      "source": [
        "FeatureList=['f_degree_in','f_degree_out' ,\n",
        "             'f_egored_amount_in','f_egored_amount_out']\n"
      ],
      "metadata": {
        "id": "-5J_ayadRhYb"
      },
      "execution_count": null,
      "outputs": []
    },
    {
      "cell_type": "code",
      "source": [
        "df_node_features_ego['NodeId'] = df_node_features_ego['NodeId'].astype(int)\n",
        "df_node_features_ego['f_degree_in'] = df_node_features_ego['f_degree_in'].astype(int)\n",
        "df_node_features_ego['f_degree_out'] = df_node_features_ego['f_degree_out'].astype(int)\n",
        "df_node_features_ego['f_amount_in'] = df_node_features_ego['f_amount_in'].astype(int)\n",
        "df_node_features_ego['f_amount_out'] = df_node_features_ego['f_amount_out'].astype(int)\n",
        "\n",
        "df_node_features_ego['f_nr_trans_in'] = df_node_features_ego['f_nr_trans_in'].astype(int)\n",
        "df_node_features_ego['f_nr_trans_out'] = df_node_features_ego['f_nr_trans_out'].astype(int)\n",
        "df_node_features_ego['f_ego_nr_nodes'] = df_node_features_ego['f_ego_nr_nodes'].astype(int)\n",
        "df_node_features_ego['f_ego_nr_edges'] = df_node_features_ego['f_ego_nr_edges'].astype(int)\n",
        "df_node_features_ego['f_egored_degree_in'] = df_node_features_ego['f_egored_degree_in'].astype(int)\n",
        "df_node_features_ego['f_egored_degree_out'] = df_node_features_ego['f_egored_degree_out'].astype(int)\n",
        "df_node_features_ego['f_egored_amount_in'] = df_node_features_ego['f_egored_amount_in'].astype(int)\n",
        "df_node_features_ego['f_egored_amount_out'] = df_node_features_ego['f_egored_amount_out'].astype(int)\n",
        "df_node_features_ego['f_egored_nr_trans_in'] = df_node_features_ego['f_egored_nr_trans_in'].astype(int)\n",
        "df_node_features_ego['f_egored_nr_trans_out'] = df_node_features_ego['f_egored_nr_trans_out'].astype(int)\n",
        "df_node_features_ego['f_egored_nr_nodes'] = df_node_features_ego['f_egored_nr_nodes'].astype(int)\n",
        "df_node_features_ego['f_egored_nr_edges'] = df_node_features_ego['f_egored_nr_edges'].astype(int)\n",
        "\n",
        "df_node_features_ego['nr_alerts'] = df_node_features_ego['nr_alerts'].astype(int)\n",
        "df_node_features_ego['nr_reports'] = df_node_features_ego['nr_reports'].astype(int)\n"
      ],
      "metadata": {
        "id": "gspv9BJTrYJI"
      },
      "execution_count": null,
      "outputs": []
    },
    {
      "cell_type": "code",
      "source": [
        "df_node_features_ego.head()"
      ],
      "metadata": {
        "colab": {
          "base_uri": "https://localhost:8080/",
          "height": 226
        },
        "id": "wzE3gcmtDk_t",
        "outputId": "20e8f679-9be2-4822-d6c7-54c8323e7500"
      },
      "execution_count": null,
      "outputs": [
        {
          "output_type": "execute_result",
          "data": {
            "text/plain": [
              "   NodeId  f_degree_in  f_degree_out  f_amount_in  f_amount_out  \\\n",
              "0       0            0             4            0         41160   \n",
              "1       1            0             1            0           646   \n",
              "2       2            0             1            0            60   \n",
              "3       3            0             1            0          1884   \n",
              "4       4            0             1            0           111   \n",
              "\n",
              "   f_nr_trans_in  f_nr_trans_out  f_ego_nr_nodes  f_ego_nr_edges  \\\n",
              "0              0               8               5               4   \n",
              "1              0               1               2               1   \n",
              "2              0               2               2               1   \n",
              "3              0               2               2               1   \n",
              "4              0               1               2               1   \n",
              "\n",
              "   f_egored_degree_in  f_egored_degree_out  f_egored_amount_in  \\\n",
              "0                   0                    0                   0   \n",
              "1                   0                    0                   0   \n",
              "2                   0                    0                   0   \n",
              "3                   0                    0                   0   \n",
              "4                   0                    0                   0   \n",
              "\n",
              "   f_egored_amount_out  f_egored_nr_trans_in  f_egored_nr_trans_out  \\\n",
              "0                    0                     0                      0   \n",
              "1                    0                     0                      0   \n",
              "2                    0                     0                      0   \n",
              "3                    0                     0                      0   \n",
              "4                    0                     0                      0   \n",
              "\n",
              "   f_egored_nr_nodes  f_egored_nr_edges  nr_alerts  nr_reports  \n",
              "0                  1                  0          0           0  \n",
              "1                  0                  0          0           0  \n",
              "2                  0                  0          0           0  \n",
              "3                  0                  0          0           0  \n",
              "4                  0                  0          0           0  "
            ],
            "text/html": [
              "\n",
              "  <div id=\"df-9d4d8d25-a75e-4bbf-949a-1d9c60799466\" class=\"colab-df-container\">\n",
              "    <div>\n",
              "<style scoped>\n",
              "    .dataframe tbody tr th:only-of-type {\n",
              "        vertical-align: middle;\n",
              "    }\n",
              "\n",
              "    .dataframe tbody tr th {\n",
              "        vertical-align: top;\n",
              "    }\n",
              "\n",
              "    .dataframe thead th {\n",
              "        text-align: right;\n",
              "    }\n",
              "</style>\n",
              "<table border=\"1\" class=\"dataframe\">\n",
              "  <thead>\n",
              "    <tr style=\"text-align: right;\">\n",
              "      <th></th>\n",
              "      <th>NodeId</th>\n",
              "      <th>f_degree_in</th>\n",
              "      <th>f_degree_out</th>\n",
              "      <th>f_amount_in</th>\n",
              "      <th>f_amount_out</th>\n",
              "      <th>f_nr_trans_in</th>\n",
              "      <th>f_nr_trans_out</th>\n",
              "      <th>f_ego_nr_nodes</th>\n",
              "      <th>f_ego_nr_edges</th>\n",
              "      <th>f_egored_degree_in</th>\n",
              "      <th>f_egored_degree_out</th>\n",
              "      <th>f_egored_amount_in</th>\n",
              "      <th>f_egored_amount_out</th>\n",
              "      <th>f_egored_nr_trans_in</th>\n",
              "      <th>f_egored_nr_trans_out</th>\n",
              "      <th>f_egored_nr_nodes</th>\n",
              "      <th>f_egored_nr_edges</th>\n",
              "      <th>nr_alerts</th>\n",
              "      <th>nr_reports</th>\n",
              "    </tr>\n",
              "  </thead>\n",
              "  <tbody>\n",
              "    <tr>\n",
              "      <th>0</th>\n",
              "      <td>0</td>\n",
              "      <td>0</td>\n",
              "      <td>4</td>\n",
              "      <td>0</td>\n",
              "      <td>41160</td>\n",
              "      <td>0</td>\n",
              "      <td>8</td>\n",
              "      <td>5</td>\n",
              "      <td>4</td>\n",
              "      <td>0</td>\n",
              "      <td>0</td>\n",
              "      <td>0</td>\n",
              "      <td>0</td>\n",
              "      <td>0</td>\n",
              "      <td>0</td>\n",
              "      <td>1</td>\n",
              "      <td>0</td>\n",
              "      <td>0</td>\n",
              "      <td>0</td>\n",
              "    </tr>\n",
              "    <tr>\n",
              "      <th>1</th>\n",
              "      <td>1</td>\n",
              "      <td>0</td>\n",
              "      <td>1</td>\n",
              "      <td>0</td>\n",
              "      <td>646</td>\n",
              "      <td>0</td>\n",
              "      <td>1</td>\n",
              "      <td>2</td>\n",
              "      <td>1</td>\n",
              "      <td>0</td>\n",
              "      <td>0</td>\n",
              "      <td>0</td>\n",
              "      <td>0</td>\n",
              "      <td>0</td>\n",
              "      <td>0</td>\n",
              "      <td>0</td>\n",
              "      <td>0</td>\n",
              "      <td>0</td>\n",
              "      <td>0</td>\n",
              "    </tr>\n",
              "    <tr>\n",
              "      <th>2</th>\n",
              "      <td>2</td>\n",
              "      <td>0</td>\n",
              "      <td>1</td>\n",
              "      <td>0</td>\n",
              "      <td>60</td>\n",
              "      <td>0</td>\n",
              "      <td>2</td>\n",
              "      <td>2</td>\n",
              "      <td>1</td>\n",
              "      <td>0</td>\n",
              "      <td>0</td>\n",
              "      <td>0</td>\n",
              "      <td>0</td>\n",
              "      <td>0</td>\n",
              "      <td>0</td>\n",
              "      <td>0</td>\n",
              "      <td>0</td>\n",
              "      <td>0</td>\n",
              "      <td>0</td>\n",
              "    </tr>\n",
              "    <tr>\n",
              "      <th>3</th>\n",
              "      <td>3</td>\n",
              "      <td>0</td>\n",
              "      <td>1</td>\n",
              "      <td>0</td>\n",
              "      <td>1884</td>\n",
              "      <td>0</td>\n",
              "      <td>2</td>\n",
              "      <td>2</td>\n",
              "      <td>1</td>\n",
              "      <td>0</td>\n",
              "      <td>0</td>\n",
              "      <td>0</td>\n",
              "      <td>0</td>\n",
              "      <td>0</td>\n",
              "      <td>0</td>\n",
              "      <td>0</td>\n",
              "      <td>0</td>\n",
              "      <td>0</td>\n",
              "      <td>0</td>\n",
              "    </tr>\n",
              "    <tr>\n",
              "      <th>4</th>\n",
              "      <td>4</td>\n",
              "      <td>0</td>\n",
              "      <td>1</td>\n",
              "      <td>0</td>\n",
              "      <td>111</td>\n",
              "      <td>0</td>\n",
              "      <td>1</td>\n",
              "      <td>2</td>\n",
              "      <td>1</td>\n",
              "      <td>0</td>\n",
              "      <td>0</td>\n",
              "      <td>0</td>\n",
              "      <td>0</td>\n",
              "      <td>0</td>\n",
              "      <td>0</td>\n",
              "      <td>0</td>\n",
              "      <td>0</td>\n",
              "      <td>0</td>\n",
              "      <td>0</td>\n",
              "    </tr>\n",
              "  </tbody>\n",
              "</table>\n",
              "</div>\n",
              "    <div class=\"colab-df-buttons\">\n",
              "\n",
              "  <div class=\"colab-df-container\">\n",
              "    <button class=\"colab-df-convert\" onclick=\"convertToInteractive('df-9d4d8d25-a75e-4bbf-949a-1d9c60799466')\"\n",
              "            title=\"Convert this dataframe to an interactive table.\"\n",
              "            style=\"display:none;\">\n",
              "\n",
              "  <svg xmlns=\"http://www.w3.org/2000/svg\" height=\"24px\" viewBox=\"0 -960 960 960\">\n",
              "    <path d=\"M120-120v-720h720v720H120Zm60-500h600v-160H180v160Zm220 220h160v-160H400v160Zm0 220h160v-160H400v160ZM180-400h160v-160H180v160Zm440 0h160v-160H620v160ZM180-180h160v-160H180v160Zm440 0h160v-160H620v160Z\"/>\n",
              "  </svg>\n",
              "    </button>\n",
              "\n",
              "  <style>\n",
              "    .colab-df-container {\n",
              "      display:flex;\n",
              "      gap: 12px;\n",
              "    }\n",
              "\n",
              "    .colab-df-convert {\n",
              "      background-color: #E8F0FE;\n",
              "      border: none;\n",
              "      border-radius: 50%;\n",
              "      cursor: pointer;\n",
              "      display: none;\n",
              "      fill: #1967D2;\n",
              "      height: 32px;\n",
              "      padding: 0 0 0 0;\n",
              "      width: 32px;\n",
              "    }\n",
              "\n",
              "    .colab-df-convert:hover {\n",
              "      background-color: #E2EBFA;\n",
              "      box-shadow: 0px 1px 2px rgba(60, 64, 67, 0.3), 0px 1px 3px 1px rgba(60, 64, 67, 0.15);\n",
              "      fill: #174EA6;\n",
              "    }\n",
              "\n",
              "    .colab-df-buttons div {\n",
              "      margin-bottom: 4px;\n",
              "    }\n",
              "\n",
              "    [theme=dark] .colab-df-convert {\n",
              "      background-color: #3B4455;\n",
              "      fill: #D2E3FC;\n",
              "    }\n",
              "\n",
              "    [theme=dark] .colab-df-convert:hover {\n",
              "      background-color: #434B5C;\n",
              "      box-shadow: 0px 1px 3px 1px rgba(0, 0, 0, 0.15);\n",
              "      filter: drop-shadow(0px 1px 2px rgba(0, 0, 0, 0.3));\n",
              "      fill: #FFFFFF;\n",
              "    }\n",
              "  </style>\n",
              "\n",
              "    <script>\n",
              "      const buttonEl =\n",
              "        document.querySelector('#df-9d4d8d25-a75e-4bbf-949a-1d9c60799466 button.colab-df-convert');\n",
              "      buttonEl.style.display =\n",
              "        google.colab.kernel.accessAllowed ? 'block' : 'none';\n",
              "\n",
              "      async function convertToInteractive(key) {\n",
              "        const element = document.querySelector('#df-9d4d8d25-a75e-4bbf-949a-1d9c60799466');\n",
              "        const dataTable =\n",
              "          await google.colab.kernel.invokeFunction('convertToInteractive',\n",
              "                                                    [key], {});\n",
              "        if (!dataTable) return;\n",
              "\n",
              "        const docLinkHtml = 'Like what you see? Visit the ' +\n",
              "          '<a target=\"_blank\" href=https://colab.research.google.com/notebooks/data_table.ipynb>data table notebook</a>'\n",
              "          + ' to learn more about interactive tables.';\n",
              "        element.innerHTML = '';\n",
              "        dataTable['output_type'] = 'display_data';\n",
              "        await google.colab.output.renderOutput(dataTable, element);\n",
              "        const docLink = document.createElement('div');\n",
              "        docLink.innerHTML = docLinkHtml;\n",
              "        element.appendChild(docLink);\n",
              "      }\n",
              "    </script>\n",
              "  </div>\n",
              "\n",
              "\n",
              "<div id=\"df-629c510c-1739-40bb-9c11-aa4468a51148\">\n",
              "  <button class=\"colab-df-quickchart\" onclick=\"quickchart('df-629c510c-1739-40bb-9c11-aa4468a51148')\"\n",
              "            title=\"Suggest charts\"\n",
              "            style=\"display:none;\">\n",
              "\n",
              "<svg xmlns=\"http://www.w3.org/2000/svg\" height=\"24px\"viewBox=\"0 0 24 24\"\n",
              "     width=\"24px\">\n",
              "    <g>\n",
              "        <path d=\"M19 3H5c-1.1 0-2 .9-2 2v14c0 1.1.9 2 2 2h14c1.1 0 2-.9 2-2V5c0-1.1-.9-2-2-2zM9 17H7v-7h2v7zm4 0h-2V7h2v10zm4 0h-2v-4h2v4z\"/>\n",
              "    </g>\n",
              "</svg>\n",
              "  </button>\n",
              "\n",
              "<style>\n",
              "  .colab-df-quickchart {\n",
              "      --bg-color: #E8F0FE;\n",
              "      --fill-color: #1967D2;\n",
              "      --hover-bg-color: #E2EBFA;\n",
              "      --hover-fill-color: #174EA6;\n",
              "      --disabled-fill-color: #AAA;\n",
              "      --disabled-bg-color: #DDD;\n",
              "  }\n",
              "\n",
              "  [theme=dark] .colab-df-quickchart {\n",
              "      --bg-color: #3B4455;\n",
              "      --fill-color: #D2E3FC;\n",
              "      --hover-bg-color: #434B5C;\n",
              "      --hover-fill-color: #FFFFFF;\n",
              "      --disabled-bg-color: #3B4455;\n",
              "      --disabled-fill-color: #666;\n",
              "  }\n",
              "\n",
              "  .colab-df-quickchart {\n",
              "    background-color: var(--bg-color);\n",
              "    border: none;\n",
              "    border-radius: 50%;\n",
              "    cursor: pointer;\n",
              "    display: none;\n",
              "    fill: var(--fill-color);\n",
              "    height: 32px;\n",
              "    padding: 0;\n",
              "    width: 32px;\n",
              "  }\n",
              "\n",
              "  .colab-df-quickchart:hover {\n",
              "    background-color: var(--hover-bg-color);\n",
              "    box-shadow: 0 1px 2px rgba(60, 64, 67, 0.3), 0 1px 3px 1px rgba(60, 64, 67, 0.15);\n",
              "    fill: var(--button-hover-fill-color);\n",
              "  }\n",
              "\n",
              "  .colab-df-quickchart-complete:disabled,\n",
              "  .colab-df-quickchart-complete:disabled:hover {\n",
              "    background-color: var(--disabled-bg-color);\n",
              "    fill: var(--disabled-fill-color);\n",
              "    box-shadow: none;\n",
              "  }\n",
              "\n",
              "  .colab-df-spinner {\n",
              "    border: 2px solid var(--fill-color);\n",
              "    border-color: transparent;\n",
              "    border-bottom-color: var(--fill-color);\n",
              "    animation:\n",
              "      spin 1s steps(1) infinite;\n",
              "  }\n",
              "\n",
              "  @keyframes spin {\n",
              "    0% {\n",
              "      border-color: transparent;\n",
              "      border-bottom-color: var(--fill-color);\n",
              "      border-left-color: var(--fill-color);\n",
              "    }\n",
              "    20% {\n",
              "      border-color: transparent;\n",
              "      border-left-color: var(--fill-color);\n",
              "      border-top-color: var(--fill-color);\n",
              "    }\n",
              "    30% {\n",
              "      border-color: transparent;\n",
              "      border-left-color: var(--fill-color);\n",
              "      border-top-color: var(--fill-color);\n",
              "      border-right-color: var(--fill-color);\n",
              "    }\n",
              "    40% {\n",
              "      border-color: transparent;\n",
              "      border-right-color: var(--fill-color);\n",
              "      border-top-color: var(--fill-color);\n",
              "    }\n",
              "    60% {\n",
              "      border-color: transparent;\n",
              "      border-right-color: var(--fill-color);\n",
              "    }\n",
              "    80% {\n",
              "      border-color: transparent;\n",
              "      border-right-color: var(--fill-color);\n",
              "      border-bottom-color: var(--fill-color);\n",
              "    }\n",
              "    90% {\n",
              "      border-color: transparent;\n",
              "      border-bottom-color: var(--fill-color);\n",
              "    }\n",
              "  }\n",
              "</style>\n",
              "\n",
              "  <script>\n",
              "    async function quickchart(key) {\n",
              "      const quickchartButtonEl =\n",
              "        document.querySelector('#' + key + ' button');\n",
              "      quickchartButtonEl.disabled = true;  // To prevent multiple clicks.\n",
              "      quickchartButtonEl.classList.add('colab-df-spinner');\n",
              "      try {\n",
              "        const charts = await google.colab.kernel.invokeFunction(\n",
              "            'suggestCharts', [key], {});\n",
              "      } catch (error) {\n",
              "        console.error('Error during call to suggestCharts:', error);\n",
              "      }\n",
              "      quickchartButtonEl.classList.remove('colab-df-spinner');\n",
              "      quickchartButtonEl.classList.add('colab-df-quickchart-complete');\n",
              "    }\n",
              "    (() => {\n",
              "      let quickchartButtonEl =\n",
              "        document.querySelector('#df-629c510c-1739-40bb-9c11-aa4468a51148 button');\n",
              "      quickchartButtonEl.style.display =\n",
              "        google.colab.kernel.accessAllowed ? 'block' : 'none';\n",
              "    })();\n",
              "  </script>\n",
              "</div>\n",
              "    </div>\n",
              "  </div>\n"
            ]
          },
          "metadata": {},
          "execution_count": 9
        }
      ]
    },
    {
      "cell_type": "code",
      "source": [
        "df_node_features_ego.insert(1, \"label\", 0)"
      ],
      "metadata": {
        "id": "NATWILCqRZGF"
      },
      "execution_count": null,
      "outputs": []
    },
    {
      "cell_type": "code",
      "source": [
        "df_node_features_ego\n",
        "#df_node_features_ego[\"label\"] = np.where(df_node_features_ego[\"nr_reports\"] > 0, 1, 0)\n",
        "df_node_features_ego[\"label\"] = np.where(df_node_features_ego[\"nr_alerts\"] > 0, 1, 0)"
      ],
      "metadata": {
        "id": "QD8jp0rJRgPB"
      },
      "execution_count": null,
      "outputs": []
    },
    {
      "cell_type": "code",
      "source": [
        "np.where(df_node_features_ego[\"label\"] == 1)"
      ],
      "metadata": {
        "id": "oEa8GfhQWGXO"
      },
      "execution_count": null,
      "outputs": []
    },
    {
      "cell_type": "code",
      "source": [
        "df_node_features_ego"
      ],
      "metadata": {
        "id": "vts_MQpsWiJp"
      },
      "execution_count": null,
      "outputs": []
    },
    {
      "cell_type": "code",
      "source": [
        "X=df_node_features_ego[FeatureList]\n",
        "y=df_node_features_ego['label']"
      ],
      "metadata": {
        "id": "wkGQ9MENDTXg"
      },
      "execution_count": null,
      "outputs": []
    },
    {
      "cell_type": "code",
      "source": [
        "#weights=df_node_features_ego['nr_alerts']"
      ],
      "metadata": {
        "id": "TAtOS0ya1W7O"
      },
      "execution_count": null,
      "outputs": []
    },
    {
      "cell_type": "code",
      "source": [
        "# Split data into training and testing sets\n",
        "X_train, X_test = train_test_split(X, test_size=0.2, random_state=42)\n",
        "y_train, y_test = train_test_split(y, test_size=0.2, random_state=42)"
      ],
      "metadata": {
        "id": "iJmXkKIfSo-d"
      },
      "execution_count": null,
      "outputs": []
    },
    {
      "cell_type": "code",
      "source": [
        "#X_train, X_test, y_train, y_test, weights_train, weights_test = train_test_split(\n",
        "#    X, y, weights, test_size=0.2, random_state=42\n",
        "#)"
      ],
      "metadata": {
        "id": "a3rkMhac1M1s"
      },
      "execution_count": null,
      "outputs": []
    },
    {
      "cell_type": "markdown",
      "source": [
        "#With Pytorch"
      ],
      "metadata": {
        "id": "D3NFHYlLTzJV"
      }
    },
    {
      "cell_type": "code",
      "source": [
        "import torch\n",
        "import torch.nn as nn\n",
        "import torch.optim as optim\n",
        "from sklearn.preprocessing import StandardScaler\n",
        "import numpy as np\n",
        "from torch.utils.data import Dataset, DataLoader, WeightedRandomSampler"
      ],
      "metadata": {
        "id": "LV0GptIbT6M5"
      },
      "execution_count": null,
      "outputs": []
    },
    {
      "cell_type": "code",
      "source": [
        "# Convert data to PyTorch tensors\n",
        "\n",
        "X_train_tensor = torch.tensor(X_train.values)\n",
        "y_train_tensor = torch.tensor(y_train.values)\n",
        "X_test_tensor = torch.tensor(X_test.values)\n",
        "y_test_tensor = torch.tensor(y_test.values)"
      ],
      "metadata": {
        "id": "QFvfWji6UIHS"
      },
      "execution_count": null,
      "outputs": []
    },
    {
      "cell_type": "code",
      "source": [
        "# Calculate class weights for the WeightedRandomSampler\n",
        "class_counts = torch.bincount(y_train_tensor)\n",
        "class_weights = 1.0 / class_counts.float()"
      ],
      "metadata": {
        "id": "L0kACwR4lzX4"
      },
      "execution_count": null,
      "outputs": []
    },
    {
      "cell_type": "code",
      "source": [
        "# Create a WeightedRandomSampler\n",
        "weights = class_weights[y_train_tensor]\n",
        "sampler = WeightedRandomSampler(weights, len(weights))"
      ],
      "metadata": {
        "id": "WL1TMIj3nXkP"
      },
      "execution_count": null,
      "outputs": []
    },
    {
      "cell_type": "code",
      "source": [
        "# Define logistic regression model\n",
        "class LogisticRegressionModel(nn.Module):\n",
        "    def __init__(self, input_size):\n",
        "        super(LogisticRegressionModel, self).__init__()\n",
        "        self.linear = nn.Linear(input_size, 1)\n",
        "\n",
        "    def forward(self, x):\n",
        "        out = torch.sigmoid(self.linear(x))\n",
        "        return out\n"
      ],
      "metadata": {
        "id": "1g-I16jmV5Zh"
      },
      "execution_count": null,
      "outputs": []
    },
    {
      "cell_type": "code",
      "source": [
        "# Initialize the model, loss function, and optimizer\n",
        "input_size = X_train.shape[1]\n",
        "model = LogisticRegressionModel(input_size)\n",
        "criterion = nn.BCELoss()\n",
        "#optimizer = optim.SGD(model.parameters(), lr=1e-3 ,  weight_decay=0.05 , momentum=0.001)\n",
        "optimizer = optim.SGD(model.parameters(), lr=1e-3 , momentum=0.002 , weight_decay=0.001)\n"
      ],
      "metadata": {
        "id": "2n7NFl3envNm"
      },
      "execution_count": null,
      "outputs": []
    },
    {
      "cell_type": "code",
      "source": [
        "# Create DataLoader with WeightedRandomSampler\n",
        "batch_size = 128\n",
        "train_dataset = torch.utils.data.TensorDataset(X_train_tensor, y_train_tensor)\n",
        "train_loader = DataLoader(train_dataset, batch_size=batch_size, sampler=sampler)\n",
        "\n",
        "# Training the logistic regression model\n",
        "num_epochs = 100"
      ],
      "metadata": {
        "id": "FELdd2ETn0MC"
      },
      "execution_count": null,
      "outputs": []
    },
    {
      "cell_type": "code",
      "source": [
        "for epoch in range(num_epochs):\n",
        "    model.train()\n",
        "    for inputs, labels in train_loader:\n",
        "        optimizer.zero_grad()\n",
        "        #print(inputs)\n",
        "        outputs = model(inputs.to(torch.float32))\n",
        "        loss = criterion(outputs.squeeze(), labels.float())\n",
        "        loss.backward()\n",
        "        optimizer.step()\n",
        "\n",
        "    print(f'Epoch [{epoch+1}/{num_epochs}], Loss: {loss.item():.4f}')"
      ],
      "metadata": {
        "colab": {
          "base_uri": "https://localhost:8080/"
        },
        "id": "1tiNqGxsn6Kt",
        "outputId": "1a283e87-a8ff-4f35-c03a-612c3861abee"
      },
      "execution_count": null,
      "outputs": [
        {
          "output_type": "stream",
          "name": "stdout",
          "text": [
            "Epoch [1/100], Loss: 6.5134\n",
            "Epoch [2/100], Loss: 3.0616\n",
            "Epoch [3/100], Loss: 2.0593\n",
            "Epoch [4/100], Loss: 3.0835\n",
            "Epoch [5/100], Loss: 2.9709\n",
            "Epoch [6/100], Loss: 5.6175\n",
            "Epoch [7/100], Loss: 3.8756\n",
            "Epoch [8/100], Loss: 5.6447\n",
            "Epoch [9/100], Loss: 3.0823\n",
            "Epoch [10/100], Loss: 5.6900\n",
            "Epoch [11/100], Loss: 3.8802\n",
            "Epoch [12/100], Loss: 2.9777\n",
            "Epoch [13/100], Loss: 2.9343\n",
            "Epoch [14/100], Loss: 2.0228\n",
            "Epoch [15/100], Loss: 4.7330\n",
            "Epoch [16/100], Loss: 3.8535\n",
            "Epoch [17/100], Loss: 6.5449\n",
            "Epoch [18/100], Loss: 4.8216\n",
            "Epoch [19/100], Loss: 3.8926\n",
            "Epoch [20/100], Loss: 2.2822\n",
            "Epoch [21/100], Loss: 3.9048\n",
            "Epoch [22/100], Loss: 5.7015\n",
            "Epoch [23/100], Loss: 2.2156\n",
            "Epoch [24/100], Loss: 2.9558\n",
            "Epoch [25/100], Loss: 1.1271\n",
            "Epoch [26/100], Loss: 3.0381\n",
            "Epoch [27/100], Loss: 4.7002\n",
            "Epoch [28/100], Loss: 1.2245\n",
            "Epoch [29/100], Loss: 4.7611\n",
            "Epoch [30/100], Loss: 1.2165\n",
            "Epoch [31/100], Loss: 6.5636\n",
            "Epoch [32/100], Loss: 7.3888\n",
            "Epoch [33/100], Loss: 4.7955\n",
            "Epoch [34/100], Loss: 3.8355\n",
            "Epoch [35/100], Loss: 4.7811\n",
            "Epoch [36/100], Loss: 3.9259\n",
            "Epoch [37/100], Loss: 4.8154\n",
            "Epoch [38/100], Loss: 6.6390\n",
            "Epoch [39/100], Loss: 5.6081\n",
            "Epoch [40/100], Loss: 2.9581\n",
            "Epoch [41/100], Loss: 3.8089\n",
            "Epoch [42/100], Loss: 3.8473\n",
            "Epoch [43/100], Loss: 2.1469\n",
            "Epoch [44/100], Loss: 1.2002\n",
            "Epoch [45/100], Loss: 1.1948\n",
            "Epoch [46/100], Loss: 4.7075\n",
            "Epoch [47/100], Loss: 5.7122\n",
            "Epoch [48/100], Loss: 5.6500\n",
            "Epoch [49/100], Loss: 2.0855\n",
            "Epoch [50/100], Loss: 3.9323\n",
            "Epoch [51/100], Loss: 4.7186\n",
            "Epoch [52/100], Loss: 6.5024\n",
            "Epoch [53/100], Loss: 5.6454\n",
            "Epoch [54/100], Loss: 5.6261\n",
            "Epoch [55/100], Loss: 2.9785\n",
            "Epoch [56/100], Loss: 2.0567\n",
            "Epoch [57/100], Loss: 3.9213\n",
            "Epoch [58/100], Loss: 5.6571\n",
            "Epoch [59/100], Loss: 3.7903\n",
            "Epoch [60/100], Loss: 3.8632\n",
            "Epoch [61/100], Loss: 3.8528\n",
            "Epoch [62/100], Loss: 1.2998\n",
            "Epoch [63/100], Loss: 5.7165\n",
            "Epoch [64/100], Loss: 2.9678\n",
            "Epoch [65/100], Loss: 0.3282\n",
            "Epoch [66/100], Loss: 3.8381\n",
            "Epoch [67/100], Loss: 2.0691\n",
            "Epoch [68/100], Loss: 3.8743\n",
            "Epoch [69/100], Loss: 5.6269\n",
            "Epoch [70/100], Loss: 4.7554\n",
            "Epoch [71/100], Loss: 3.8902\n",
            "Epoch [72/100], Loss: 1.0923\n",
            "Epoch [73/100], Loss: 3.9157\n",
            "Epoch [74/100], Loss: 3.0232\n",
            "Epoch [75/100], Loss: 2.9854\n",
            "Epoch [76/100], Loss: 3.8820\n",
            "Epoch [77/100], Loss: 2.1053\n",
            "Epoch [78/100], Loss: 3.8656\n",
            "Epoch [79/100], Loss: 4.7342\n",
            "Epoch [80/100], Loss: 2.9645\n",
            "Epoch [81/100], Loss: 1.2241\n",
            "Epoch [82/100], Loss: 4.7390\n",
            "Epoch [83/100], Loss: 5.5962\n",
            "Epoch [84/100], Loss: 4.7882\n",
            "Epoch [85/100], Loss: 1.1823\n",
            "Epoch [86/100], Loss: 2.0669\n",
            "Epoch [87/100], Loss: 5.8113\n",
            "Epoch [88/100], Loss: 5.6335\n",
            "Epoch [89/100], Loss: 3.8734\n",
            "Epoch [90/100], Loss: 2.9604\n",
            "Epoch [91/100], Loss: 5.7085\n",
            "Epoch [92/100], Loss: 6.5517\n",
            "Epoch [93/100], Loss: 7.4466\n",
            "Epoch [94/100], Loss: 2.9191\n",
            "Epoch [95/100], Loss: 2.9741\n",
            "Epoch [96/100], Loss: 3.8477\n",
            "Epoch [97/100], Loss: 4.6851\n",
            "Epoch [98/100], Loss: 1.2313\n",
            "Epoch [99/100], Loss: 5.7082\n",
            "Epoch [100/100], Loss: 2.9151\n"
          ]
        }
      ]
    },
    {
      "cell_type": "code",
      "source": [
        "XtestData=X_test_tensor.to(torch.float32)"
      ],
      "metadata": {
        "id": "qe7WjFDD3Xm6"
      },
      "execution_count": null,
      "outputs": []
    },
    {
      "cell_type": "code",
      "source": [
        "# Evaluate the model on the test set\n",
        "model.eval()\n",
        "with torch.no_grad():\n",
        "    test_outputs = model(XtestData)\n",
        "    predicted_labels = (test_outputs >= 0.5).float()\n",
        "    predicted_labels=np.squeeze(predicted_labels)\n",
        "    accuracy = torch.sum(predicted_labels == y_test_tensor.float()).item() / y_test_tensor.size(0)\n",
        "    print(f'Test Accuracy: {accuracy:.4f}')"
      ],
      "metadata": {
        "id": "rnHh3d0KzH7F",
        "colab": {
          "base_uri": "https://localhost:8080/"
        },
        "outputId": "dab3ff68-e317-4dcc-e52b-a82971b9ec9f"
      },
      "execution_count": null,
      "outputs": [
        {
          "output_type": "stream",
          "name": "stdout",
          "text": [
            "Test Accuracy: 0.8934\n"
          ]
        }
      ]
    },
    {
      "cell_type": "code",
      "source": [
        "fpr, tpr, thresholds = roc_curve(y_test_tensor, predicted_labels)\n",
        "\n",
        "# Calculate the AUC\n",
        "roc_auc = auc(fpr, tpr)\n",
        "# Calculate the AUC\n",
        "roc_auc = auc(fpr, tpr)\n",
        "\n",
        "# Plot the ROC curve\n",
        "plt.figure(figsize=(8, 8))\n",
        "plt.plot(fpr, tpr, color='darkorange', lw=2, label=f'ROC curve (area = {roc_auc:.2f})')\n",
        "plt.plot([0, 1], [0, 1], color='navy', lw=2, linestyle='--', label='Random Guess')\n",
        "plt.xlabel('False Positive Rate')\n",
        "plt.ylabel('True Positive Rate')\n",
        "plt.title('ROC Curve for Logistic Regression')\n",
        "plt.legend(loc='lower right')\n",
        "plt.show()"
      ],
      "metadata": {
        "colab": {
          "base_uri": "https://localhost:8080/",
          "height": 718
        },
        "id": "u0cZGWcJARD7",
        "outputId": "a57872e5-710c-40a8-90ef-365c20716b2c"
      },
      "execution_count": null,
      "outputs": [
        {
          "output_type": "display_data",
          "data": {
            "text/plain": [
              "<Figure size 800x800 with 1 Axes>"
            ],
            "image/png": "[encoded data removed]"
          },
          "metadata": {}
        }
      ]
    },
    {
      "cell_type": "code",
      "source": [
        "# Make predictions on the test set\n",
        "#y_pred = model.predict(X_test_tensor)\n",
        "\n",
        "# Evaluate the model\n",
        "print(classification_report(y_test_tensor, predicted_labels))"
      ],
      "metadata": {
        "colab": {
          "base_uri": "https://localhost:8080/"
        },
        "id": "B_D2imhsAt_S",
        "outputId": "97f4dfff-ac97-4d57-9946-786e6891baa1"
      },
      "execution_count": null,
      "outputs": [
        {
          "output_type": "stream",
          "name": "stdout",
          "text": [
            "              precision    recall  f1-score   support\n",
            "\n",
            "           0       1.00      0.89      0.94     76921\n",
            "           1       0.01      0.75      0.02        99\n",
            "\n",
            "    accuracy                           0.89     77020\n",
            "   macro avg       0.50      0.82      0.48     77020\n",
            "weighted avg       1.00      0.89      0.94     77020\n",
            "\n"
          ]
        }
      ]
    },
    {
      "cell_type": "markdown",
      "source": [
        "#Unbalance Class - under sampleing"
      ],
      "metadata": {
        "id": "wHpBS4kNLx9o"
      }
    },
    {
      "cell_type": "code",
      "source": [
        "from sklearn.linear_model import LogisticRegression\n",
        "from sklearn.model_selection import train_test_split\n",
        "from sklearn.metrics import classification_report\n",
        "from imblearn.over_sampling import SMOTE\n",
        "from imblearn.under_sampling import RandomUnderSampler"
      ],
      "metadata": {
        "id": "I7qqi3gbL1HS"
      },
      "execution_count": null,
      "outputs": []
    },
    {
      "cell_type": "code",
      "source": [
        "# Split data into training and testing sets\n",
        "X_train, X_test = train_test_split(X, test_size=0.2, random_state=42)\n",
        "y_train, y_test = train_test_split(y, test_size=0.2, random_state=42)"
      ],
      "metadata": {
        "id": "QUZ3gOSeME0y"
      },
      "execution_count": null,
      "outputs": []
    },
    {
      "cell_type": "code",
      "source": [
        "smote = SMOTE(sampling_strategy='auto')\n",
        "under_sampler = RandomUnderSampler(sampling_strategy='auto')\n",
        "X_resampled, y_resampled = smote.fit_resample(X_train, y_train)\n",
        "X_resampled, y_resampled = under_sampler.fit_resample(X_resampled, y_resampled)\n",
        "\n",
        "# Train a logistic regression model on the resampled data\n",
        "model = LogisticRegression()\n",
        "model.fit(X_resampled, y_resampled)\n",
        "\n",
        "# Make predictions on the test set\n",
        "y_pred = model.predict(X_test)\n",
        "\n",
        "# Evaluate the model\n",
        "print(classification_report(y_test, y_pred))"
      ],
      "metadata": {
        "colab": {
          "base_uri": "https://localhost:8080/"
        },
        "id": "rIoSRZrtMK6N",
        "outputId": "9a853ae9-29ff-47e9-84db-988f000aeb1e"
      },
      "execution_count": null,
      "outputs": [
        {
          "output_type": "stream",
          "name": "stdout",
          "text": [
            "              precision    recall  f1-score   support\n",
            "\n",
            "           0       1.00      0.86      0.92     76921\n",
            "           1       0.01      1.00      0.02        99\n",
            "\n",
            "    accuracy                           0.86     77020\n",
            "   macro avg       0.50      0.93      0.47     77020\n",
            "weighted avg       1.00      0.86      0.92     77020\n",
            "\n"
          ]
        }
      ]
    },
    {
      "cell_type": "code",
      "source": [
        "fpr, tpr, thresholds = roc_curve(y_test, y_pred)\n",
        "\n",
        "# Calculate the AUC\n",
        "roc_auc = auc(fpr, tpr)\n",
        "# Calculate the AUC\n",
        "roc_auc = auc(fpr, tpr)\n",
        "\n",
        "# Plot the ROC curve\n",
        "plt.figure(figsize=(8, 8))\n",
        "plt.plot(fpr, tpr, color='darkorange', lw=2, label=f'ROC curve (area = {roc_auc:.2f})')\n",
        "plt.plot([0, 1], [0, 1], color='navy', lw=2, linestyle='--', label='Random Guess')\n",
        "plt.xlabel('False Positive Rate')\n",
        "plt.ylabel('True Positive Rate')\n",
        "plt.title('ROC Curve for Logistic Regression')\n",
        "plt.legend(loc='lower right')\n",
        "plt.show()"
      ],
      "metadata": {
        "colab": {
          "base_uri": "https://localhost:8080/",
          "height": 718
        },
        "id": "gZmhovQ3Mbip",
        "outputId": "9b8bec79-9125-402b-8bb2-acb35814bf44"
      },
      "execution_count": null,
      "outputs": [
        {
          "output_type": "display_data",
          "data": {
            "text/plain": [
              "<Figure size 800x800 with 1 Axes>"
            ],
            "image/png": "[encoded data removed]"
          },
          "metadata": {}
        }
      ]
    },
    {
      "cell_type": "markdown",
      "source": [
        "# Change FeatureInfo"
      ],
      "metadata": {
        "id": "vACBMqXLTUKR"
      }
    },
    {
      "cell_type": "code",
      "source": [
        "FeatureList=['f_degree_in','f_degree_out' ,\n",
        "             'f_egored_amount_in','f_egored_amount_out']"
      ],
      "metadata": {
        "id": "5uGpkVgzToTV"
      },
      "execution_count": null,
      "outputs": []
    },
    {
      "cell_type": "code",
      "source": [
        "X=df_node_features_ego[FeatureList]\n",
        "y=df_node_features_ego['label']"
      ],
      "metadata": {
        "id": "sRX6QsGAULDE"
      },
      "execution_count": null,
      "outputs": []
    },
    {
      "cell_type": "code",
      "source": [
        "# Split data into training and testing sets\n",
        "X_train, X_test = train_test_split(X, test_size=0.2, random_state=42)\n",
        "y_train, y_test = train_test_split(y, test_size=0.2, random_state=42)"
      ],
      "metadata": {
        "id": "t0I-GhJRUMKr"
      },
      "execution_count": null,
      "outputs": []
    },
    {
      "cell_type": "code",
      "source": [
        "smote = SMOTE(sampling_strategy='auto')\n",
        "under_sampler = RandomUnderSampler(sampling_strategy='auto')\n",
        "X_resampled, y_resampled = smote.fit_resample(X_train, y_train)\n",
        "X_resampled, y_resampled = under_sampler.fit_resample(X_resampled, y_resampled)\n",
        "\n",
        "# Train a logistic regression model on the resampled data\n",
        "model = LogisticRegression()\n",
        "model.fit(X_resampled, y_resampled)\n",
        "\n",
        "# Make predictions on the test set\n",
        "y_pred = model.predict(X_test)\n",
        "\n",
        "# Evaluate the model\n",
        "print(classification_report(y_test, y_pred))"
      ],
      "metadata": {
        "colab": {
          "base_uri": "https://localhost:8080/"
        },
        "id": "zcaaOCD5USBD",
        "outputId": "e59e9716-5fd9-4fd5-ba83-e6d2616c5911"
      },
      "execution_count": null,
      "outputs": [
        {
          "output_type": "stream",
          "name": "stdout",
          "text": [
            "              precision    recall  f1-score   support\n",
            "\n",
            "           0       1.00      0.45      0.62     76921\n",
            "           1       0.00      1.00      0.00        99\n",
            "\n",
            "    accuracy                           0.45     77020\n",
            "   macro avg       0.50      0.72      0.31     77020\n",
            "weighted avg       1.00      0.45      0.62     77020\n",
            "\n"
          ]
        }
      ]
    },
    {
      "cell_type": "code",
      "source": [
        "fpr, tpr, thresholds = roc_curve(y_test, y_pred)\n",
        "\n",
        "# Calculate the AUC\n",
        "roc_auc = auc(fpr, tpr)\n",
        "# Calculate the AUC\n",
        "roc_auc = auc(fpr, tpr)\n",
        "\n",
        "# Plot the ROC curve\n",
        "plt.figure(figsize=(8, 8))\n",
        "plt.plot(fpr, tpr, color='darkorange', lw=2, label=f'ROC curve (area = {roc_auc:.2f})')\n",
        "plt.plot([0, 1], [0, 1], color='navy', lw=2, linestyle='--', label='Random Guess')\n",
        "plt.xlabel('False Positive Rate')\n",
        "plt.ylabel('True Positive Rate')\n",
        "plt.title('ROC Curve for Logistic Regression')\n",
        "plt.legend(loc='lower right')\n",
        "plt.show()"
      ],
      "metadata": {
        "colab": {
          "base_uri": "https://localhost:8080/",
          "height": 718
        },
        "id": "-fLp9yGRUdVr",
        "outputId": "39cf0b62-0424-4826-fb36-7bb8fdf7b426"
      },
      "execution_count": null,
      "outputs": [
        {
          "output_type": "display_data",
          "data": {
            "text/plain": [
              "<Figure size 800x800 with 1 Axes>"
            ],
            "image/png": "[encoded data removed]"
          },
          "metadata": {}
        }
      ]
    },
    {
      "cell_type": "markdown",
      "source": [
        "# Unbalance With weighted"
      ],
      "metadata": {
        "id": "CvTpmQUfehzf"
      }
    },
    {
      "cell_type": "code",
      "source": [
        "FeatureList=['f_degree_in','f_degree_out' , 'f_amount_in','f_amount_out','f_nr_trans_in','f_nr_trans_out','f_ego_nr_nodes',\n",
        "             'f_ego_nr_edges','f_egored_degree_in','f_egored_degree_out','f_egored_amount_in','f_egored_amount_out','f_egored_nr_trans_in',\n",
        "             'f_egored_nr_trans_out','f_egored_nr_nodes','f_egored_nr_edges']"
      ],
      "metadata": {
        "id": "2seEe_w-fGyu"
      },
      "execution_count": null,
      "outputs": []
    },
    {
      "cell_type": "code",
      "source": [
        "X=df_node_features_ego[FeatureList]\n",
        "y=df_node_features_ego['label']"
      ],
      "metadata": {
        "id": "27wA3NOdewv2"
      },
      "execution_count": null,
      "outputs": []
    },
    {
      "cell_type": "code",
      "source": [
        "# Split data into training and testing sets\n",
        "X_train, X_test = train_test_split(X, test_size=0.2, random_state=42)\n",
        "y_train, y_test = train_test_split(y, test_size=0.2, random_state=42)"
      ],
      "metadata": {
        "id": "4imi5Z0yfPcr"
      },
      "execution_count": null,
      "outputs": []
    },
    {
      "cell_type": "code",
      "source": [
        "#smote = SMOTE(sampling_strategy='auto')\n",
        "#under_sampler = RandomUnderSampler(sampling_strategy='auto')\n",
        "#X_resampled, y_resampled = smote.fit_resample(X_train, y_train)\n",
        "#X_resampled, y_resampled = under_sampler.fit_resample(X_resampled, y_resampled)\n",
        "\n",
        "model = LogisticRegression(class_weight='balanced')\n",
        "# Train a logistic regression model on the resampled data\n",
        "#model = LogisticRegression()\n",
        "model.fit(X_train, y_train)\n",
        "\n",
        "# Make predictions on the test set\n",
        "y_pred = model.predict(X_test)\n",
        "\n",
        "# Evaluate the model\n",
        "print(classification_report(y_test, y_pred))"
      ],
      "metadata": {
        "colab": {
          "base_uri": "https://localhost:8080/"
        },
        "id": "pobtsrYZfLM5",
        "outputId": "e849061b-6ca7-4b5e-d8d6-05f463d784c9"
      },
      "execution_count": null,
      "outputs": [
        {
          "output_type": "stream",
          "name": "stdout",
          "text": [
            "              precision    recall  f1-score   support\n",
            "\n",
            "           0       1.00      0.45      0.62     76921\n",
            "           1       0.00      1.00      0.00        99\n",
            "\n",
            "    accuracy                           0.45     77020\n",
            "   macro avg       0.50      0.72      0.31     77020\n",
            "weighted avg       1.00      0.45      0.62     77020\n",
            "\n"
          ]
        }
      ]
    }
  ]
}