{
  "cells": [
    {
      "cell_type": "markdown",
      "metadata": {
        "id": "view-in-github",
        "colab_type": "text"
      },
      "source": [
        "<a href=\"https://colab.research.google.com/github/enznoor/AnomalyDetection/blob/main/FIP_Libra_DeepLearning_GAT.ipynb\" target=\"_parent\"><img src=\"https://colab.research.google.com/assets/colab-badge.svg\" alt=\"Open In Colab\"/></a>"
      ]
    },
    {
      "cell_type": "code",
      "execution_count": null,
      "metadata": {
        "id": "Qtb0ZsPPduFj",
        "colab": {
          "base_uri": "https://localhost:8080/"
        },
        "outputId": "0a0af7cb-7927-4e03-a424-8c44aef52476"
      },
      "outputs": [
        {
          "output_type": "stream",
          "name": "stdout",
          "text": [
            "Successfully installed dgl-2.1.0 nvidia-cublas-cu12-12.1.3.1 nvidia-cuda-cupti-cu12-12.1.105 nvidia-cuda-nvrtc-cu12-12.1.105 nvidia-cuda-runtime-cu12-12.1.105 nvidia-cudnn-cu12-8.9.2.26 nvidia-cufft-cu12-11.0.2.54 nvidia-curand-cu12-10.3.2.106 nvidia-cusolver-cu12-11.4.5.107 nvidia-cusparse-cu12-12.1.0.106 nvidia-nccl-cu12-2.19.3 nvidia-nvjitlink-cu12-12.4.99 nvidia-nvtx-cu12-12.1.105\n"
          ]
        }
      ],
      "source": [
        "!pip install dgl"
      ]
    },
    {
      "cell_type": "code",
      "execution_count": null,
      "metadata": {
        "id": "5d639MAwbYje"
      },
      "outputs": [],
      "source": [
        "!pip install node2vec"
      ]
    },
    {
      "cell_type": "code",
      "execution_count": null,
      "metadata": {
        "colab": {
          "base_uri": "https://localhost:8080/"
        },
        "id": "GidznvafbIX9",
        "outputId": "c9a0bf10-1746-411d-c7d4-cc6cc1c2b3ea"
      },
      "outputs": [
        {
          "output_type": "stream",
          "name": "stderr",
          "text": [
            "DGL backend not selected or invalid.  Assuming PyTorch for now.\n"
          ]
        },
        {
          "output_type": "stream",
          "name": "stdout",
          "text": [
            "Setting the default backend to \"pytorch\". You can change it in the ~/.dgl/config.json file or export the DGLBACKEND environment variable.  Valid options are: pytorch, mxnet, tensorflow (all lowercase)\n"
          ]
        }
      ],
      "source": [
        "from node2vec.edges import HadamardEmbedder\n",
        "from gensim.models import Word2Vec\n",
        "import random\n",
        "from node2vec import Node2Vec\n",
        "from gensim.models import KeyedVectors\n",
        "import torch.optim as optim\n",
        "import dgl.function as fn\n",
        "from dgl.nn import SAGEConv"
      ]
    },
    {
      "cell_type": "code",
      "execution_count": null,
      "metadata": {
        "colab": {
          "base_uri": "https://localhost:8080/"
        },
        "id": "WsB3n5vevhtN",
        "outputId": "de5f7b4f-6876-49cb-9674-da21dc159a27"
      },
      "outputs": [
        {
          "output_type": "stream",
          "name": "stdout",
          "text": [
            "\u001b[?25l     \u001b[90m━━━━━━━━━━━━━━━━━━━━━━━━━━━━━━━━━━━━━━━━\u001b[0m \u001b[32m0.0/1.1 MB\u001b[0m \u001b[31m?\u001b[0m eta \u001b[36m-:--:--\u001b[0m\r\u001b[2K     \u001b[91m━━━━━━━\u001b[0m\u001b[90m╺\u001b[0m\u001b[90m━━━━━━━━━━━━━━━━━━━━━━━━━━━━━━━━\u001b[0m \u001b[32m0.2/1.1 MB\u001b[0m \u001b[31m5.7 MB/s\u001b[0m eta \u001b[36m0:00:01\u001b[0m\r\u001b[2K     \u001b[90m━━━━━━━━━━━━━━━━━━━━━━━━━━━━━━━━━━━━━━━━\u001b[0m \u001b[32m1.1/1.1 MB\u001b[0m \u001b[31m18.2 MB/s\u001b[0m eta \u001b[36m0:00:00\u001b[0m\n",
            "\u001b[?25h"
          ]
        }
      ],
      "source": [
        "!pip install -q torch-geometric"
      ]
    },
    {
      "cell_type": "code",
      "execution_count": null,
      "metadata": {
        "id": "OlWdvWAiXG2a"
      },
      "outputs": [],
      "source": [
        "from google.colab import drive\n",
        "import networkx as nx\n",
        "import dgl\n",
        "import torch\n",
        "import torch.nn as nn\n",
        "import torch.nn.functional as F\n",
        "import pandas as pd\n",
        "from torch_geometric.data import Data\n",
        "import numpy as np\n",
        "import matplotlib.pyplot as plt\n",
        "#from dgl.nn import GraphConv\n",
        "#from dgl.nn import SAGEConv\n",
        "import dgl.nn as dglnn\n",
        "from sklearn.metrics import confusion_matrix, classification_report, accuracy_score , roc_curve, roc_auc_score, auc\n",
        "import matplotlib.pyplot as plt\n",
        "from sklearn.preprocessing import OneHotEncoder\n",
        "from sklearn.metrics import roc_curve, auc\n",
        "from sklearn.preprocessing import OneHotEncoder\n",
        "from torch_geometric.nn import GATConv"
      ]
    },
    {
      "cell_type": "code",
      "execution_count": null,
      "metadata": {
        "colab": {
          "base_uri": "https://localhost:8080/"
        },
        "id": "vYV1hZghXrfe",
        "outputId": "c3c6a5e7-dd69-4369-cf9b-7260fb494d68"
      },
      "outputs": [
        {
          "output_type": "stream",
          "name": "stdout",
          "text": [
            "Mounted at /content/drive\n"
          ]
        }
      ],
      "source": [
        "drive.mount('/content/drive')"
      ]
    },
    {
      "cell_type": "code",
      "execution_count": null,
      "metadata": {
        "id": "HK52aYXqrSy7"
      },
      "outputs": [],
      "source": [
        "import tensorflow as tf\n",
        "seed=42\n",
        "torch.manual_seed(seed)\n",
        "np.random.seed(seed)\n",
        "torch.backends.cudnn.deterministic = True"
      ]
    },
    {
      "cell_type": "code",
      "source": [
        "path='drive/MyDrive/Term_05/FinalProposal/Data/'\n",
        "pathBasePaper='drive/MyDrive/Term_06/BasePaper/Data/'"
      ],
      "metadata": {
        "id": "d66a3yLM62AD"
      },
      "execution_count": null,
      "outputs": []
    },
    {
      "cell_type": "code",
      "source": [
        "train_edgelist=np.load(path+'train_edgelist.npy')\n",
        "test_edgelist=np.load(path+'test_edgelist.npy')\n",
        "train_edge_weight=np.load(path+'train_edge_weight.npy')\n",
        "test_edge_weight=np.load(path+'test_edge_weight.npy')\n",
        "train_elabel=np.load(path+'edge_y_train.npy')\n",
        "test_elabel=np.load(path+'edge_y_test.npy')"
      ],
      "metadata": {
        "id": "igRax7vs-bf-"
      },
      "execution_count": null,
      "outputs": []
    },
    {
      "cell_type": "code",
      "source": [
        "test_edge_index=np.load(path+'test_edge_index.npy')\n",
        "train_edge_index=np.load(path+'train_edge_index.npy')"
      ],
      "metadata": {
        "id": "LTfed7S_Huh4"
      },
      "execution_count": null,
      "outputs": []
    },
    {
      "cell_type": "code",
      "execution_count": null,
      "metadata": {
        "id": "dWv-tkO3X0wv"
      },
      "outputs": [],
      "source": [
        "train_x=np.load(path+'train_x.npy')\n",
        "train_y=np.load(path+'train_y.npy')\n",
        "test_x=np.load(path+'test_x.npy')\n",
        "test_y=np.load(path+'test_y.npy')"
      ]
    },
    {
      "cell_type": "code",
      "execution_count": null,
      "metadata": {
        "id": "oE-4bpjjX30P"
      },
      "outputs": [],
      "source": [
        "nodedf=pd.read_csv(path + 'LibraReduceNodeInfo.csv')\n",
        "edgedf=pd.read_csv(path + 'LibraReduceEdgeInfo.csv')"
      ]
    },
    {
      "cell_type": "code",
      "execution_count": null,
      "metadata": {
        "colab": {
          "base_uri": "https://localhost:8080/"
        },
        "id": "smPbyiQEjQ0W",
        "outputId": "656cc023-f785-43af-c8d5-ee3bb4a7884f"
      },
      "outputs": [
        {
          "output_type": "stream",
          "name": "stdout",
          "text": [
            "number of edge: (370918, 6)\n",
            "number of node: (202426, 22)\n"
          ]
        }
      ],
      "source": [
        "print('number of edge:', edgedf.shape)\n",
        "print('number of node:',nodedf.shape)"
      ]
    },
    {
      "cell_type": "code",
      "execution_count": null,
      "metadata": {
        "id": "9-mSxKsMgUxg"
      },
      "outputs": [],
      "source": [
        "loaded_trainData=np.load(path+'train_node.npy')\n",
        "loaded_testData=np.load(path+'test_node.npy')\n",
        "traindf= pd.DataFrame(loaded_trainData, columns=['NewNodeId'])\n",
        "testdf= pd.DataFrame(loaded_testData, columns=['NewNodeId'])\n",
        "\n",
        "traindf['NewNodeId'] = traindf['NewNodeId'].astype(int)\n",
        "traindata_df = pd.merge(traindf,nodedf, on='NewNodeId', how='inner')\n",
        "testdata_df = pd.merge(testdf,nodedf, on='NewNodeId', how='inner')"
      ]
    },
    {
      "cell_type": "code",
      "source": [
        "print(len(traindata_df))\n",
        "print(len(testdata_df))\n",
        "print(len(train_edgelist))\n",
        "print(len(test_edgelist))"
      ],
      "metadata": {
        "colab": {
          "base_uri": "https://localhost:8080/"
        },
        "id": "ObRV2WJ07KMq",
        "outputId": "f885c769-23dc-45aa-cb9f-370466efbd17"
      },
      "execution_count": null,
      "outputs": [
        {
          "output_type": "stream",
          "name": "stdout",
          "text": [
            "161940\n",
            "40486\n",
            "230907\n",
            "16222\n"
          ]
        }
      ]
    },
    {
      "cell_type": "code",
      "execution_count": null,
      "metadata": {
        "id": "JzraYh2BgBot"
      },
      "outputs": [],
      "source": [
        "# train_idx=torch.tensor(traindata_df.index, dtype = torch.long)\n",
        "# test_idx=torch.tensor(testdata_df.index, dtype = torch.long)\n",
        "# #valid_idx=torch.tensor(validate.index, dtype = torch.long)"
      ]
    },
    {
      "cell_type": "code",
      "execution_count": null,
      "metadata": {
        "id": "9a0LcY1kIkt1"
      },
      "outputs": [],
      "source": [
        "edgedf.insert(1, \"elabel\", 0)\n",
        "edgedf[\"elabel\"] = np.where(edgedf[\"nr_alerts\"] > 0, 1, 0)"
      ]
    },
    {
      "cell_type": "code",
      "execution_count": null,
      "metadata": {
        "colab": {
          "base_uri": "https://localhost:8080/"
        },
        "id": "bB0Llqk03XQF",
        "outputId": "cccbd600-f6b5-4766-a9ba-1b06e4614807"
      },
      "outputs": [
        {
          "output_type": "stream",
          "name": "stdout",
          "text": [
            "number_of_edges:  370918\n",
            "number_of_nodes:  202426\n"
          ]
        }
      ],
      "source": [
        "AttrEge=['cum_amount', 'nr_transactions' ,'elabel' ]\n",
        "G=nx.from_pandas_edgelist(\n",
        "            df=edgedf,\n",
        "            source=\"id_source\",\n",
        "            target=\"id_destination\",\n",
        "            edge_attr=AttrEge,\n",
        "            create_using=nx.DiGraph\n",
        "        )\n",
        "print('number_of_edges: ',G.number_of_edges())\n",
        "print('number_of_nodes: ',G.number_of_nodes())"
      ]
    },
    {
      "cell_type": "markdown",
      "metadata": {
        "id": "HwB6EwFCAm-C"
      },
      "source": [
        "# Create Train and Test Graph for edge Classification"
      ]
    },
    {
      "cell_type": "code",
      "execution_count": null,
      "metadata": {
        "id": "xJHqImp6TLwb"
      },
      "outputs": [],
      "source": [
        "df1=pd.DataFrame(train_edgelist)\n",
        "df2=pd.DataFrame(train_edge_weight)\n",
        "train_edgelist_G=pd.merge(df1,df2,left_index=True, right_index=True)\n",
        "#--------------------------------------------------------------------------------\n",
        "train_edgelist_G = train_edgelist_G.rename(columns={'0_x': 'id_source'})\n",
        "train_edgelist_G = train_edgelist_G.rename(columns={'1_x': 'id_destination'})\n",
        "train_edgelist_G = train_edgelist_G.rename(columns={'0_y': 'cum_amount'})\n",
        "train_edgelist_G = train_edgelist_G.rename(columns={'1_y': 'nr_transactions'})\n",
        "train_edgelist_G['eLabel']=pd.DataFrame(train_elabel)"
      ]
    },
    {
      "cell_type": "code",
      "source": [
        "len(train_edgelist_G)"
      ],
      "metadata": {
        "colab": {
          "base_uri": "https://localhost:8080/"
        },
        "id": "LWEr5JSHTlic",
        "outputId": "ab8014f7-5484-49a5-9ee9-4f3c2b4baf10"
      },
      "execution_count": null,
      "outputs": [
        {
          "output_type": "execute_result",
          "data": {
            "text/plain": [
              "230907"
            ]
          },
          "metadata": {},
          "execution_count": 19
        }
      ]
    },
    {
      "cell_type": "code",
      "execution_count": null,
      "metadata": {
        "colab": {
          "base_uri": "https://localhost:8080/"
        },
        "id": "mINIr9DnSt6l",
        "outputId": "4753b9e1-1d6a-4afe-e246-f47180a73c46"
      },
      "outputs": [
        {
          "output_type": "stream",
          "name": "stdout",
          "text": [
            "number_of_edges:  230907\n",
            "number_of_nodes:  135447\n"
          ]
        }
      ],
      "source": [
        "AttrEge=['cum_amount', 'nr_transactions' ]\n",
        "train_G=nx.from_pandas_edgelist(\n",
        "            df=train_edgelist_G,\n",
        "            source=\"id_source\",\n",
        "            target=\"id_destination\",\n",
        "            edge_attr=AttrEge,\n",
        "            create_using=nx.DiGraph\n",
        "        )\n",
        "print('number_of_edges: ',train_G.number_of_edges())\n",
        "print('number_of_nodes: ',train_G.number_of_nodes())"
      ]
    },
    {
      "cell_type": "code",
      "execution_count": null,
      "metadata": {
        "id": "sPtGcOdMkYWM"
      },
      "outputs": [],
      "source": [
        "df1=pd.DataFrame(test_edgelist)\n",
        "df2=pd.DataFrame(test_edge_weight)\n",
        "test_edgelist_G=pd.merge(df1,df2,left_index=True, right_index=True)\n",
        "#--------------------------------------------------------------------------------\n",
        "test_edgelist_G = test_edgelist_G.rename(columns={'0_x': 'id_source'})\n",
        "test_edgelist_G = test_edgelist_G.rename(columns={'1_x': 'id_destination'})\n",
        "test_edgelist_G = test_edgelist_G.rename(columns={'0_y': 'cum_amount'})\n",
        "test_edgelist_G = test_edgelist_G.rename(columns={'1_y': 'nr_transactions'})\n",
        "test_edgelist_G['eLabel']=pd.DataFrame(test_elabel)"
      ]
    },
    {
      "cell_type": "code",
      "execution_count": null,
      "metadata": {
        "colab": {
          "base_uri": "https://localhost:8080/"
        },
        "id": "q10AGVQ2kxMX",
        "outputId": "bfb247ae-a3e7-4a85-b678-5f7578bf029d"
      },
      "outputs": [
        {
          "output_type": "stream",
          "name": "stdout",
          "text": [
            "number_of_edges:  16222\n",
            "number_of_nodes:  12963\n"
          ]
        }
      ],
      "source": [
        "AttrEge=['cum_amount', 'nr_transactions' ]\n",
        "test_G=nx.from_pandas_edgelist(\n",
        "            df=test_edgelist_G,\n",
        "            source=\"id_source\",\n",
        "            target=\"id_destination\",\n",
        "            edge_attr=AttrEge,\n",
        "            create_using=nx.DiGraph\n",
        "        )\n",
        "print('number_of_edges: ',test_G.number_of_edges())\n",
        "print('number_of_nodes: ',test_G.number_of_nodes())"
      ]
    },
    {
      "cell_type": "code",
      "execution_count": null,
      "metadata": {
        "colab": {
          "base_uri": "https://localhost:8080/"
        },
        "id": "al7KLje-3Vue",
        "outputId": "2cbfb17a-6b6d-416e-9d83-e8206e7cb3e0"
      },
      "outputs": [
        {
          "output_type": "stream",
          "name": "stdout",
          "text": [
            "number_of_edges train_graph:  230907\n",
            "number_of_nodes train_graph:  135447\n",
            "number_of_edges test_graph:  16222\n",
            "number_of_nodes test_graph:  12963\n"
          ]
        }
      ],
      "source": [
        "#train_G = G.subgraph(loaded_trainData)\n",
        "#test_G = G.subgraph(loaded_testData)\n",
        "print('number_of_edges train_graph: ',train_G.number_of_edges())\n",
        "print('number_of_nodes train_graph: ',train_G.number_of_nodes())\n",
        "print('number_of_edges test_graph: ',test_G.number_of_edges())\n",
        "print('number_of_nodes test_graph: ',test_G.number_of_nodes())\n"
      ]
    },
    {
      "cell_type": "markdown",
      "metadata": {
        "id": "VVoiz8YqBdTF"
      },
      "source": [
        "# Set Attribute  to Train and Test Graph and Get Edge Anomaluse"
      ]
    },
    {
      "cell_type": "code",
      "execution_count": null,
      "metadata": {
        "id": "rwaM8-MFoUNs"
      },
      "outputs": [],
      "source": [
        "trainNode_G=list(train_G.nodes())\n",
        "trainNode=pd.DataFrame(trainNode_G, columns=['NewNodeId'])\n",
        "traindata_df = pd.merge(trainNode,nodedf, on='NewNodeId', how='inner')\n",
        "\n",
        "testNode_G=list(test_G.nodes())\n",
        "testNode=pd.DataFrame(testNode_G, columns=['NewNodeId'])\n",
        "testdata_df = pd.merge(testNode,nodedf, on='NewNodeId', how='inner')"
      ]
    },
    {
      "cell_type": "code",
      "source": [
        "# traindata_df.set_index('NewNodeId', inplace=True)\n",
        "# testdata_df.set_index('NewNodeId', inplace=True)"
      ],
      "metadata": {
        "id": "u0lKHb0-FNsd"
      },
      "execution_count": null,
      "outputs": []
    },
    {
      "cell_type": "code",
      "execution_count": null,
      "metadata": {
        "id": "o-642GrP0-NS"
      },
      "outputs": [],
      "source": [
        "#featurName=['f_amount_in','f_amount_out','f_egored_amount_in','f_egored_amount_out','Label']\n",
        "featurName=['f_amount_in','f_amount_out','f_nr_trans_in','f_nr_trans_out','Label']\n",
        "\n",
        "trainNode_x=traindata_df[featurName].values\n",
        "trainNode_y=traindata_df['L_alert'].values\n",
        "\n",
        "testNode_x=testdata_df[featurName].values\n",
        "testNode_y=testdata_df['L_alert'].values"
      ]
    },
    {
      "cell_type": "code",
      "execution_count": null,
      "metadata": {
        "id": "Glrr_vpTmFOT"
      },
      "outputs": [],
      "source": [
        "result = testdata_df[testdata_df['L_alert']==1]"
      ]
    },
    {
      "cell_type": "markdown",
      "metadata": {
        "id": "mCcO8OK5o1aT"
      },
      "source": [
        "# Node embedding and edge embedding"
      ]
    },
    {
      "cell_type": "code",
      "execution_count": null,
      "metadata": {
        "colab": {
          "background_save": true,
          "base_uri": "https://localhost:8080/",
          "height": 66,
          "referenced_widgets": [
            "b58545344c744701a71bb9d93247f6c4",
            "fb0f90c9af254acca5bd6f1a6a559020",
            "16349e4740fd423fb8626e0f8a9b7426",
            "ad074c1f7536467491953ad2b14303b7",
            "01545e3e349d492b81f2f8657b8bcd3d",
            "80850292aaed407890da468d31b6aa8c",
            "fb29bea22e1b4dcc9a4b12d07744c7a0",
            "a1ffdf8ae9a94c039c97c026c9212f44",
            "17d7fe70114f49708b01e6997b44160f",
            "5dc14e913bc541e29fbce83c4ef19a46",
            "fd1da523e8f4416a9d7e2a63fb738bf0"
          ]
        },
        "id": "9BkDe7Z5pAbT",
        "outputId": "2daf1af6-a434-4d50-8aeb-c43239485bb5"
      },
      "outputs": [
        {
          "data": {
            "application/vnd.jupyter.widget-view+json": {
              "model_id": "b58545344c744701a71bb9d93247f6c4",
              "version_major": 2,
              "version_minor": 0
            },
            "text/plain": [
              "Computing transition probabilities:   0%|          | 0/135447 [00:00<?, ?it/s]"
            ]
          },
          "metadata": {},
          "output_type": "display_data"
        },
        {
          "name": "stderr",
          "output_type": "stream",
          "text": [
            "Generating walks (CPU: 1): 100%|██████████| 10/10 [04:01<00:00, 24.15s/it]\n"
          ]
        }
      ],
      "source": [
        "node2vec = Node2Vec(train_G, dimensions=3)\n",
        "# Embed nodes\n",
        "modelTG = node2vec.fit(window=10, min_count=1, batch_words=4)\n",
        "embeddings = modelTG.wv\n",
        "\n",
        "modelTG.wv.save_word2vec_format(pathBasePaper +  'EMBEDDING_Train.emb')"
      ]
    },
    {
      "cell_type": "code",
      "execution_count": null,
      "metadata": {
        "colab": {
          "background_save": true
        },
        "id": "6AVWrEoq-drQ"
      },
      "outputs": [],
      "source": [
        "modelTG.save(pathBasePaper +'modelTsTG_Train.wv')"
      ]
    },
    {
      "cell_type": "code",
      "execution_count": null,
      "metadata": {
        "colab": {
          "background_save": true,
          "referenced_widgets": [
            "522879dc55134f89a0f7f7e64a7871fb"
          ]
        },
        "id": "iJCBx2eUpOR8",
        "outputId": "686f2758-2b7a-48b2-e991-32c29b0f1f2a"
      },
      "outputs": [
        {
          "data": {
            "application/vnd.jupyter.widget-view+json": {
              "model_id": "522879dc55134f89a0f7f7e64a7871fb",
              "version_major": 2,
              "version_minor": 0
            },
            "text/plain": [
              "Computing transition probabilities:   0%|          | 0/12963 [00:00<?, ?it/s]"
            ]
          },
          "metadata": {},
          "output_type": "display_data"
        },
        {
          "name": "stderr",
          "output_type": "stream",
          "text": [
            "Generating walks (CPU: 1): 100%|██████████| 10/10 [00:07<00:00,  1.35it/s]\n"
          ]
        }
      ],
      "source": [
        "node2vec = Node2Vec(test_G, dimensions=3)\n",
        "# Embed nodes\n",
        "modelTstG = node2vec.fit(window=10, min_count=1, batch_words=4)\n",
        "embeddings = modelTstG.wv\n",
        "\n",
        "modelTstG.wv.save_word2vec_format(pathBasePaper +  'EMBEDDING_Test.emb')"
      ]
    },
    {
      "cell_type": "code",
      "execution_count": null,
      "metadata": {
        "colab": {
          "background_save": true
        },
        "id": "iR2crZWmYW_4"
      },
      "outputs": [],
      "source": [
        "modelTstG.save(pathBasePaper +'modelTstG_test.wv')"
      ]
    },
    {
      "cell_type": "code",
      "execution_count": null,
      "metadata": {
        "id": "SnTEVGlWYgIH"
      },
      "outputs": [],
      "source": [
        "#---------------------Load Data Model -------------------------------------------------\n",
        "train_node_embeddings =KeyedVectors.load_word2vec_format(pathBasePaper +  'EMBEDDING_Train.emb')\n",
        "Train_model = Word2Vec.load(pathBasePaper + 'modelTsTG_Train.wv')\n",
        "test_node_embeddings =KeyedVectors.load_word2vec_format(pathBasePaper +  'EMBEDDING_Test.emb')\n",
        "Test_model = Word2Vec.load(pathBasePaper + 'modelTstG_test.wv')"
      ]
    },
    {
      "cell_type": "code",
      "execution_count": null,
      "metadata": {
        "id": "mxLQDdyVZLuY",
        "colab": {
          "base_uri": "https://localhost:8080/"
        },
        "outputId": "a33c44ef-7865-42d5-f01d-71dcb371d331"
      },
      "outputs": [
        {
          "output_type": "stream",
          "name": "stderr",
          "text": [
            "/usr/local/lib/python3.10/dist-packages/dgl/heterograph.py:92: DGLWarning: Recommend creating graphs by `dgl.graph(data)` instead of `dgl.DGLGraph(data)`.\n",
            "  dgl_warning(\n"
          ]
        }
      ],
      "source": [
        "train_graph=dgl.DGLGraph(train_G)\n",
        "test_graph=dgl.DGLGraph(test_G)"
      ]
    },
    {
      "cell_type": "code",
      "execution_count": null,
      "metadata": {
        "id": "sJZ5dWtPa1hX"
      },
      "outputs": [],
      "source": [
        "edges_embs = HadamardEmbedder(keyed_vectors=Train_model.wv)"
      ]
    },
    {
      "cell_type": "code",
      "execution_count": null,
      "metadata": {
        "colab": {
          "base_uri": "https://localhost:8080/"
        },
        "id": "P0eFmakYIm7r",
        "outputId": "13317c3e-a49b-474e-9324-e8e0e2cd926e"
      },
      "outputs": [
        {
          "output_type": "execute_result",
          "data": {
            "text/plain": [
              "torch.Size([12963, 3])"
            ]
          },
          "metadata": {},
          "execution_count": 35
        }
      ],
      "source": [
        "node_features.shape"
      ]
    },
    {
      "cell_type": "code",
      "execution_count": null,
      "metadata": {
        "colab": {
          "base_uri": "https://localhost:8080/"
        },
        "id": "LMMsK27TZOWg",
        "outputId": "ace122c0-9091-4444-9337-c6a270a9f34f"
      },
      "outputs": [
        {
          "output_type": "stream",
          "name": "stderr",
          "text": [
            "<ipython-input-72-e87069f3734c>:16: UserWarning: Creating a tensor from a list of numpy.ndarrays is extremely slow. Please consider converting the list to a single numpy.ndarray with numpy.array() before converting to a tensor. (Triggered internally at ../torch/csrc/utils/tensor_new.cpp:261.)\n",
            "  train_graph.edata['AttrEge'] =torch.tensor(edges_embslist)\n"
          ]
        }
      ],
      "source": [
        "train_embeddings=Train_model.wv\n",
        "node_embeddingslist = train_embeddings.vectors.tolist()\n",
        "\n",
        "node_features=torch.tensor(node_embeddingslist , dtype = torch.float)\n",
        "train_graph.ndata['feat'] = node_features\n",
        "#---------------------- Train Node Label ---------------------------------------------\n",
        "train_graph.ndata['label'] = torch.tensor(traindata_df['L_alert'].values)\n",
        "\n",
        "\n",
        "edges_embslist=[]\n",
        "for edge in train_G.edges:\n",
        "     node1, node2 = edge\n",
        "     edge_embeddingitem = edges_embs[(str(node1),str(node2))]\n",
        "     edges_embslist.append(edge_embeddingitem)\n",
        "\n",
        "train_graph.edata['AttrEge'] =torch.tensor(edges_embslist)\n",
        "train_graph.edata['eLabel']=torch.tensor(train_edgelist_G['eLabel'].values, dtype=torch.float32)\n"
      ]
    },
    {
      "cell_type": "code",
      "execution_count": null,
      "metadata": {
        "id": "QHRSDMGLerkA"
      },
      "outputs": [],
      "source": [
        "edges_embs = HadamardEmbedder(keyed_vectors=Test_model.wv)\n",
        "test_embeddings=Test_model.wv\n",
        "node_embeddingslist = test_embeddings.vectors.tolist()\n",
        "\n",
        "node_features=torch.tensor(node_embeddingslist , dtype = torch.float)\n",
        "test_graph.ndata['feat'] = node_features\n",
        "#---------------------- Train Node Label ---------------------------------------------\n",
        "test_graph.ndata['label'] = torch.tensor(testdata_df['L_alert'].values)\n",
        "\n",
        "\n",
        "edges_embslist=[]\n",
        "for edge in test_G.edges:\n",
        "     node1, node2 = edge\n",
        "     edge_embeddingitem = edges_embs[(str(node1),str(node2))]\n",
        "     edges_embslist.append(edge_embeddingitem)\n",
        "\n",
        "test_graph.edata['AttrEge'] =torch.tensor(edges_embslist)\n",
        "test_graph.edata['eLabel']=torch.tensor(test_edgelist_G['eLabel'].values, dtype=torch.float32)\n"
      ]
    },
    {
      "cell_type": "code",
      "source": [
        "edge_list_src, edge_list_dst = train_graph.edges()\n",
        "edge_list_src_tensor = torch.tensor(edge_list_src, dtype=torch.long)\n",
        "edge_list_dst_tensor = torch.tensor(edge_list_dst, dtype=torch.long)\n",
        "train_edge_index = torch.cat((edge_list_src.unsqueeze(0), edge_list_dst.unsqueeze(0)), dim=0)\n",
        "train_edge_index=torch.tensor(train_edge_index ,dtype=torch.long)"
      ],
      "metadata": {
        "colab": {
          "base_uri": "https://localhost:8080/"
        },
        "id": "HPRODquaVWlc",
        "outputId": "c0094026-93d2-42db-fde5-4dea2511aaa1"
      },
      "execution_count": null,
      "outputs": [
        {
          "output_type": "stream",
          "name": "stderr",
          "text": [
            "<ipython-input-44-23476a1285d8>:2: UserWarning: To copy construct from a tensor, it is recommended to use sourceTensor.clone().detach() or sourceTensor.clone().detach().requires_grad_(True), rather than torch.tensor(sourceTensor).\n",
            "  edge_list_src_tensor = torch.tensor(edge_list_src, dtype=torch.long)\n",
            "<ipython-input-44-23476a1285d8>:3: UserWarning: To copy construct from a tensor, it is recommended to use sourceTensor.clone().detach() or sourceTensor.clone().detach().requires_grad_(True), rather than torch.tensor(sourceTensor).\n",
            "  edge_list_dst_tensor = torch.tensor(edge_list_dst, dtype=torch.long)\n",
            "<ipython-input-44-23476a1285d8>:5: UserWarning: To copy construct from a tensor, it is recommended to use sourceTensor.clone().detach() or sourceTensor.clone().detach().requires_grad_(True), rather than torch.tensor(sourceTensor).\n",
            "  train_edge_index=torch.tensor(train_edge_index ,dtype=torch.long)\n"
          ]
        }
      ]
    },
    {
      "cell_type": "code",
      "source": [
        "edge_list_src, edge_list_dst = test_graph.edges()\n",
        "edge_list_src_tensor = torch.tensor(edge_list_src, dtype=torch.long)\n",
        "edge_list_dst_tensor = torch.tensor(edge_list_dst, dtype=torch.long)\n",
        "test_edge_index = torch.cat((edge_list_src.unsqueeze(0), edge_list_dst.unsqueeze(0)), dim=0)\n",
        "test_edge_index=torch.tensor(test_edge_index ,dtype=torch.long)"
      ],
      "metadata": {
        "colab": {
          "base_uri": "https://localhost:8080/"
        },
        "id": "Cy0qKV6bYD8J",
        "outputId": "f1ae9286-ad89-46c2-e300-375f052fdcaa"
      },
      "execution_count": null,
      "outputs": [
        {
          "output_type": "stream",
          "name": "stderr",
          "text": [
            "<ipython-input-45-c210dc5d2f2c>:2: UserWarning: To copy construct from a tensor, it is recommended to use sourceTensor.clone().detach() or sourceTensor.clone().detach().requires_grad_(True), rather than torch.tensor(sourceTensor).\n",
            "  edge_list_src_tensor = torch.tensor(edge_list_src, dtype=torch.long)\n",
            "<ipython-input-45-c210dc5d2f2c>:3: UserWarning: To copy construct from a tensor, it is recommended to use sourceTensor.clone().detach() or sourceTensor.clone().detach().requires_grad_(True), rather than torch.tensor(sourceTensor).\n",
            "  edge_list_dst_tensor = torch.tensor(edge_list_dst, dtype=torch.long)\n",
            "<ipython-input-45-c210dc5d2f2c>:5: UserWarning: To copy construct from a tensor, it is recommended to use sourceTensor.clone().detach() or sourceTensor.clone().detach().requires_grad_(True), rather than torch.tensor(sourceTensor).\n",
            "  test_edge_index=torch.tensor(test_edge_index ,dtype=torch.long)\n"
          ]
        }
      ]
    },
    {
      "cell_type": "markdown",
      "source": [
        "# Create Model GAT Model"
      ],
      "metadata": {
        "id": "9vKkKKw42t59"
      }
    },
    {
      "cell_type": "code",
      "source": [
        "class GATModel(torch.nn.Module):\n",
        "    def __init__(self, in_channels, hidden_channels, num_classes, heads):\n",
        "        super(GATModel, self).__init__()\n",
        "        self.conv1 = GATConv(in_channels, hidden_channels, heads=heads)\n",
        "        self.conv2 = GATConv(hidden_channels * heads, num_classes, heads=1)\n",
        "\n",
        "    def forward(self, x, edge_index):\n",
        "        x = F.elu(self.conv1(x, edge_index))\n",
        "        x = self.conv2(x, edge_index)\n",
        "        return F.log_softmax(x, dim=1)"
      ],
      "metadata": {
        "id": "J7lBAn-d20S5"
      },
      "execution_count": null,
      "outputs": []
    },
    {
      "cell_type": "code",
      "source": [
        "def evaluate(model,test_loader , edge_index):\n",
        "    torch.backends.cudnn.deterministic = True\n",
        "    model.eval()\n",
        "    with torch.no_grad():\n",
        "        for data in test_loader:\n",
        "            inputs, labels = data\n",
        "            logits = model(inputs, edge_index)\n",
        "            _, predicted = torch.max(logits, 1)\n",
        "\n",
        "            accuracy = (predicted == labels).float().mean().item()\n",
        "\n",
        "\n",
        "        print(classification_report(labels, predicted))\n",
        "\n",
        "    #--------------------Plot AUC----------------------------\n",
        "        fpr, tpr, thresholds = roc_curve(labels, predicted)\n",
        "\n",
        "        # Calculate the AUC\n",
        "        roc_auc = auc(fpr, tpr)\n",
        "        # Calculate the AUC\n",
        "        roc_auc = auc(fpr, tpr)\n",
        "\n",
        "        # Plot the ROC curve\n",
        "        plt.figure(figsize=(8, 8))\n",
        "        plt.plot(fpr, tpr, color='darkorange', lw=2, label=f'ROC curve (area = {roc_auc:.2f})')\n",
        "        plt.plot([0, 1], [0, 1], color='navy', lw=2, linestyle='--', label='Random Guess')\n",
        "        plt.xlabel('False Positive Rate')\n",
        "        plt.ylabel('True Positive Rate')\n",
        "        plt.title('ROC Curve for Classification')\n",
        "        plt.legend(loc='lower right')\n",
        "        plt.show()\n",
        "\n",
        "    return accuracy"
      ],
      "metadata": {
        "id": "SHTxkEm324Pq"
      },
      "execution_count": null,
      "outputs": []
    },
    {
      "cell_type": "code",
      "source": [
        "def train (model,train_loader , epochs , class_weights , learning_rate , edge_index):\n",
        "    torch.backends.cudnn.deterministic = True\n",
        "    criterion = nn.CrossEntropyLoss(weight=class_weights)\n",
        "    optimizer = optim.Adam(model.parameters(), lr=learning_rate)\n",
        "    loss_list: list = []\n",
        "    # Training loop\n",
        "    for epoch in range(epochs):\n",
        "        model.train()\n",
        "        for data in train_loader:\n",
        "            inputs, labels = data\n",
        "            optimizer.zero_grad()\n",
        "            outputs = model(inputs,edge_index)\n",
        "            loss = criterion(outputs, labels.long())\n",
        "            loss_list.append(loss.item())\n",
        "            loss.backward()\n",
        "            optimizer.step()\n",
        "\n",
        "        #print(f'Epoch [{epoch+1}/{epochs}], Loss: {loss.item():.4f}')\n",
        "        if epoch % 5 == 0:\n",
        "            print(f\"In epoch {epoch}, loss: {loss:.3f})\"\n",
        "                )\n",
        "    plt.plot(loss_list)\n",
        "    plt.xlabel('Epoch')\n",
        "    plt.ylabel('Loss')\n",
        "    plt.title('Loss Chart')\n",
        "    plt.show()\n",
        "    return model"
      ],
      "metadata": {
        "id": "qlqnviMB27-c"
      },
      "execution_count": null,
      "outputs": []
    },
    {
      "cell_type": "code",
      "source": [
        "from sklearn.utils.class_weight import compute_class_weight\n",
        "def Get_class_weights(data):\n",
        "    class_labels=torch.unique(data)\n",
        "    class_labels=np.array(class_labels)\n",
        "    y=np.array(data)\n",
        "    class_weight =compute_class_weight(class_weight='balanced', classes=class_labels, y=y)\n",
        "    class_weights=torch.tensor(class_weight ,  dtype = torch.float)\n",
        "    return class_weights"
      ],
      "metadata": {
        "id": "0ZfiYTF82_Il"
      },
      "execution_count": null,
      "outputs": []
    },
    {
      "cell_type": "markdown",
      "metadata": {
        "id": "8aKpRv5ifTly"
      },
      "source": [
        "# Node Classification"
      ]
    },
    {
      "cell_type": "code",
      "source": [
        "train_edge_index.shape"
      ],
      "metadata": {
        "colab": {
          "base_uri": "https://localhost:8080/"
        },
        "id": "SiQ12ObH_nfs",
        "outputId": "cf439d2d-009d-45f7-94df-bd7e2c6a31b1"
      },
      "execution_count": null,
      "outputs": [
        {
          "output_type": "execute_result",
          "data": {
            "text/plain": [
              "(2, 230907)"
            ]
          },
          "metadata": {},
          "execution_count": 36
        }
      ]
    },
    {
      "cell_type": "code",
      "source": [
        "testdata_df"
      ],
      "metadata": {
        "id": "5EaqwOSxSKh5"
      },
      "execution_count": null,
      "outputs": []
    },
    {
      "cell_type": "code",
      "source": [
        "from sklearn.preprocessing import MinMaxScaler, StandardScaler\n",
        "scaler = StandardScaler()\n",
        "traindata_df['f_amount_in_scaled'] = scaler.fit_transform(traindata_df[['f_amount_in']])\n",
        "traindata_df['f_amount_out_scaled'] = scaler.fit_transform(traindata_df[['f_amount_out']])\n",
        "testdata_df['f_amount_in_scaled'] = scaler.fit_transform(testdata_df[['f_amount_in']])\n",
        "testdata_df['f_amount_out_scaled'] = scaler.fit_transform(testdata_df[['f_amount_out']])\n",
        "\n",
        "\n",
        "\n",
        "traindata_df['f_nr_trans_in_scaled'] = scaler.fit_transform(traindata_df[['f_nr_trans_in']])\n",
        "traindata_df['f_nr_trans_out_scaled'] = scaler.fit_transform(traindata_df[['f_nr_trans_out']])\n",
        "testdata_df['f_nr_trans_in_scaled'] = scaler.fit_transform(testdata_df[['f_nr_trans_in']])\n",
        "testdata_df['f_nr_trans_out_scaled'] = scaler.fit_transform(testdata_df[['f_nr_trans_out']])\n",
        "\n",
        "\n",
        "\n",
        "featurName=['f_amount_in_scaled','f_amount_out_scaled','f_nr_trans_in_scaled','f_nr_trans_out_scaled']\n",
        "X_train_Node=traindata_df[featurName].values.tolist()\n",
        "y_train_Node=traindata_df['L_alert'].values\n",
        "X_train_Node = torch.tensor(X_train_Node ,dtype=torch.float)\n",
        "y_train_Node = torch.tensor(y_train_Node ,dtype=torch.long)\n",
        "\n",
        "X_test_Node=testdata_df[featurName].values.tolist()\n",
        "y_test_Node=testdata_df['L_alert'].values\n",
        "X_test_Node = torch.tensor(X_test_Node ,dtype=torch.float)\n",
        "y_test_Node = torch.tensor(y_test_Node ,dtype=torch.long)"
      ],
      "metadata": {
        "id": "laQmYO2iKEnW"
      },
      "execution_count": null,
      "outputs": []
    },
    {
      "cell_type": "code",
      "execution_count": null,
      "metadata": {
        "id": "J3N_fjwMg3E4"
      },
      "outputs": [],
      "source": [
        "Node_class_weights=Get_class_weights(y_train_Node)"
      ]
    },
    {
      "cell_type": "code",
      "source": [
        "import tensorflow as tf\n",
        "seed=42\n",
        "learning_rate=0.01\n",
        "num_classes=2\n",
        "in_feats = X_train_Node.shape[1]\n",
        "hid_feats = 64 # Hidden layer size\n",
        "out_feats = num_classes  # Number of output classes\n",
        "num_heads =1\n",
        "GAGNNModel = GATModel(in_channels=in_feats, hidden_channels=hid_feats, num_classes=num_classes, heads=num_heads)\n",
        "optimizer =torch.optim.Adam(GAGNNModel.parameters(), lr=learning_rate)\n",
        "\n",
        "imbalance_ratio=8.3\n",
        "class_weights = torch.tensor([1.5, imbalance_ratio])  # Adjust imbalance_ratio accordingly\n",
        "#class_weights = class_weights.to(device)  # Move to GPU if available\n",
        "class_weights = class_weights  # Move to GPU if available\n",
        "criterion = torch.nn.CrossEntropyLoss(weight=Node_class_weights)\n",
        "\n",
        "\n",
        "batch_size_node =len(X_train_Node)\n",
        "batch_size_node_tst =len(X_test_Node)\n",
        "epochs=80\n",
        "tf.random.set_seed(42)\n",
        "torch.manual_seed(seed)\n",
        "np.random.seed(seed)"
      ],
      "metadata": {
        "id": "yZxgMBmf3fdt"
      },
      "execution_count": null,
      "outputs": []
    },
    {
      "cell_type": "code",
      "execution_count": null,
      "metadata": {
        "id": "smqlsA4OhY1g"
      },
      "outputs": [],
      "source": [
        "train_dateset=torch.utils.data.TensorDataset(X_train_Node,y_train_Node)\n",
        "train_loader_node=torch.utils.data.DataLoader(train_dateset , batch_size=batch_size_node, shuffle=True)\n",
        "test_dataset=torch.utils.data.TensorDataset(X_test_Node,y_test_Node)\n",
        "test_loader_node=torch.utils.data.DataLoader(test_dataset , batch_size=batch_size_node_tst, shuffle=False )"
      ]
    },
    {
      "cell_type": "code",
      "source": [
        "torch.backends.cudnn.deterministic = True\n",
        "Node_model=train(model=GAGNNModel, train_loader=train_loader_node, epochs=epochs , class_weights=Node_class_weights , learning_rate=learning_rate , edge_index= train_edge_index)"
      ],
      "metadata": {
        "colab": {
          "base_uri": "https://localhost:8080/",
          "height": 750
        },
        "id": "ia5gbNi_4362",
        "outputId": "cc54ba7d-de0f-4d69-d4ef-6dac0d497eb0"
      },
      "execution_count": null,
      "outputs": [
        {
          "output_type": "stream",
          "name": "stdout",
          "text": [
            "In epoch 0, loss: 0.924)\n",
            "In epoch 5, loss: 0.534)\n",
            "In epoch 10, loss: 0.435)\n",
            "In epoch 15, loss: 0.399)\n",
            "In epoch 20, loss: 0.395)\n",
            "In epoch 25, loss: 0.365)\n",
            "In epoch 30, loss: 0.357)\n",
            "In epoch 35, loss: 0.341)\n",
            "In epoch 40, loss: 0.312)\n",
            "In epoch 45, loss: 0.335)\n",
            "In epoch 50, loss: 0.298)\n",
            "In epoch 55, loss: 0.301)\n",
            "In epoch 60, loss: 0.289)\n",
            "In epoch 65, loss: 0.326)\n",
            "In epoch 70, loss: 0.281)\n",
            "In epoch 75, loss: 0.282)\n"
          ]
        },
        {
          "output_type": "display_data",
          "data": {
            "text/plain": [
              "<Figure size 640x480 with 1 Axes>"
            ],
            "image/png": "[encoded data removed]"
          },
          "metadata": {}
        }
      ]
    },
    {
      "cell_type": "code",
      "execution_count": null,
      "metadata": {
        "colab": {
          "base_uri": "https://localhost:8080/",
          "height": 892
        },
        "id": "zhE5D-zXidNQ",
        "outputId": "b90158c6-3b9c-4b94-a0f7-70fec535559f"
      },
      "outputs": [
        {
          "output_type": "stream",
          "name": "stdout",
          "text": [
            "              precision    recall  f1-score   support\n",
            "\n",
            "           0       1.00      0.94      0.97     12889\n",
            "           1       0.08      0.93      0.14        74\n",
            "\n",
            "    accuracy                           0.94     12963\n",
            "   macro avg       0.54      0.93      0.56     12963\n",
            "weighted avg       0.99      0.94      0.96     12963\n",
            "\n"
          ]
        },
        {
          "output_type": "display_data",
          "data": {
            "text/plain": [
              "<Figure size 800x800 with 1 Axes>"
            ],
            "image/png": "[encoded data removed]"
          },
          "metadata": {}
        },
        {
          "output_type": "execute_result",
          "data": {
            "text/plain": [
              "0.9370515942573547"
            ]
          },
          "metadata": {},
          "execution_count": 69
        }
      ],
      "source": [
        "evaluate(model=Node_model, test_loader=test_loader_node, edge_index = test_edge_index)"
      ]
    }
  ],
  "metadata": {
    "colab": {
      "collapsed_sections": [
        "mCcO8OK5o1aT"
      ],
      "provenance": [],
      "authorship_tag": "ABX9TyPUDBRTH0mdMGquUfE7En+C",
      "include_colab_link": true
    },
    "kernelspec": {
      "display_name": "Python 3",
      "name": "python3"
    },
    "language_info": {
      "name": "python"
    },
    "widgets": {
      "application/vnd.jupyter.widget-state+json": {
        "01545e3e349d492b81f2f8657b8bcd3d": {
          "model_module": "@jupyter-widgets/base",
          "model_module_version": "1.2.0",
          "model_name": "LayoutModel",
          "state": {
            "_model_module": "@jupyter-widgets/base",
            "_model_module_version": "1.2.0",
            "_model_name": "LayoutModel",
            "_view_count": null,
            "_view_module": "@jupyter-widgets/base",
            "_view_module_version": "1.2.0",
            "_view_name": "LayoutView",
            "align_content": null,
            "align_items": null,
            "align_self": null,
            "border": null,
            "bottom": null,
            "display": null,
            "flex": null,
            "flex_flow": null,
            "grid_area": null,
            "grid_auto_columns": null,
            "grid_auto_flow": null,
            "grid_auto_rows": null,
            "grid_column": null,
            "grid_gap": null,
            "grid_row": null,
            "grid_template_areas": null,
            "grid_template_columns": null,
            "grid_template_rows": null,
            "height": null,
            "justify_content": null,
            "justify_items": null,
            "left": null,
            "margin": null,
            "max_height": null,
            "max_width": null,
            "min_height": null,
            "min_width": null,
            "object_fit": null,
            "object_position": null,
            "order": null,
            "overflow": null,
            "overflow_x": null,
            "overflow_y": null,
            "padding": null,
            "right": null,
            "top": null,
            "visibility": null,
            "width": null
          }
        },
        "16349e4740fd423fb8626e0f8a9b7426": {
          "model_module": "@jupyter-widgets/controls",
          "model_module_version": "1.5.0",
          "model_name": "FloatProgressModel",
          "state": {
            "_dom_classes": [],
            "_model_module": "@jupyter-widgets/controls",
            "_model_module_version": "1.5.0",
            "_model_name": "FloatProgressModel",
            "_view_count": null,
            "_view_module": "@jupyter-widgets/controls",
            "_view_module_version": "1.5.0",
            "_view_name": "ProgressView",
            "bar_style": "success",
            "description": "",
            "description_tooltip": null,
            "layout": "IPY_MODEL_a1ffdf8ae9a94c039c97c026c9212f44",
            "max": 135447,
            "min": 0,
            "orientation": "horizontal",
            "style": "IPY_MODEL_17d7fe70114f49708b01e6997b44160f",
            "value": 135447
          }
        },
        "17d7fe70114f49708b01e6997b44160f": {
          "model_module": "@jupyter-widgets/controls",
          "model_module_version": "1.5.0",
          "model_name": "ProgressStyleModel",
          "state": {
            "_model_module": "@jupyter-widgets/controls",
            "_model_module_version": "1.5.0",
            "_model_name": "ProgressStyleModel",
            "_view_count": null,
            "_view_module": "@jupyter-widgets/base",
            "_view_module_version": "1.2.0",
            "_view_name": "StyleView",
            "bar_color": null,
            "description_width": ""
          }
        },
        "5dc14e913bc541e29fbce83c4ef19a46": {
          "model_module": "@jupyter-widgets/base",
          "model_module_version": "1.2.0",
          "model_name": "LayoutModel",
          "state": {
            "_model_module": "@jupyter-widgets/base",
            "_model_module_version": "1.2.0",
            "_model_name": "LayoutModel",
            "_view_count": null,
            "_view_module": "@jupyter-widgets/base",
            "_view_module_version": "1.2.0",
            "_view_name": "LayoutView",
            "align_content": null,
            "align_items": null,
            "align_self": null,
            "border": null,
            "bottom": null,
            "display": null,
            "flex": null,
            "flex_flow": null,
            "grid_area": null,
            "grid_auto_columns": null,
            "grid_auto_flow": null,
            "grid_auto_rows": null,
            "grid_column": null,
            "grid_gap": null,
            "grid_row": null,
            "grid_template_areas": null,
            "grid_template_columns": null,
            "grid_template_rows": null,
            "height": null,
            "justify_content": null,
            "justify_items": null,
            "left": null,
            "margin": null,
            "max_height": null,
            "max_width": null,
            "min_height": null,
            "min_width": null,
            "object_fit": null,
            "object_position": null,
            "order": null,
            "overflow": null,
            "overflow_x": null,
            "overflow_y": null,
            "padding": null,
            "right": null,
            "top": null,
            "visibility": null,
            "width": null
          }
        },
        "80850292aaed407890da468d31b6aa8c": {
          "model_module": "@jupyter-widgets/base",
          "model_module_version": "1.2.0",
          "model_name": "LayoutModel",
          "state": {
            "_model_module": "@jupyter-widgets/base",
            "_model_module_version": "1.2.0",
            "_model_name": "LayoutModel",
            "_view_count": null,
            "_view_module": "@jupyter-widgets/base",
            "_view_module_version": "1.2.0",
            "_view_name": "LayoutView",
            "align_content": null,
            "align_items": null,
            "align_self": null,
            "border": null,
            "bottom": null,
            "display": null,
            "flex": null,
            "flex_flow": null,
            "grid_area": null,
            "grid_auto_columns": null,
            "grid_auto_flow": null,
            "grid_auto_rows": null,
            "grid_column": null,
            "grid_gap": null,
            "grid_row": null,
            "grid_template_areas": null,
            "grid_template_columns": null,
            "grid_template_rows": null,
            "height": null,
            "justify_content": null,
            "justify_items": null,
            "left": null,
            "margin": null,
            "max_height": null,
            "max_width": null,
            "min_height": null,
            "min_width": null,
            "object_fit": null,
            "object_position": null,
            "order": null,
            "overflow": null,
            "overflow_x": null,
            "overflow_y": null,
            "padding": null,
            "right": null,
            "top": null,
            "visibility": null,
            "width": null
          }
        },
        "a1ffdf8ae9a94c039c97c026c9212f44": {
          "model_module": "@jupyter-widgets/base",
          "model_module_version": "1.2.0",
          "model_name": "LayoutModel",
          "state": {
            "_model_module": "@jupyter-widgets/base",
            "_model_module_version": "1.2.0",
            "_model_name": "LayoutModel",
            "_view_count": null,
            "_view_module": "@jupyter-widgets/base",
            "_view_module_version": "1.2.0",
            "_view_name": "LayoutView",
            "align_content": null,
            "align_items": null,
            "align_self": null,
            "border": null,
            "bottom": null,
            "display": null,
            "flex": null,
            "flex_flow": null,
            "grid_area": null,
            "grid_auto_columns": null,
            "grid_auto_flow": null,
            "grid_auto_rows": null,
            "grid_column": null,
            "grid_gap": null,
            "grid_row": null,
            "grid_template_areas": null,
            "grid_template_columns": null,
            "grid_template_rows": null,
            "height": null,
            "justify_content": null,
            "justify_items": null,
            "left": null,
            "margin": null,
            "max_height": null,
            "max_width": null,
            "min_height": null,
            "min_width": null,
            "object_fit": null,
            "object_position": null,
            "order": null,
            "overflow": null,
            "overflow_x": null,
            "overflow_y": null,
            "padding": null,
            "right": null,
            "top": null,
            "visibility": null,
            "width": null
          }
        },
        "ad074c1f7536467491953ad2b14303b7": {
          "model_module": "@jupyter-widgets/controls",
          "model_module_version": "1.5.0",
          "model_name": "HTMLModel",
          "state": {
            "_dom_classes": [],
            "_model_module": "@jupyter-widgets/controls",
            "_model_module_version": "1.5.0",
            "_model_name": "HTMLModel",
            "_view_count": null,
            "_view_module": "@jupyter-widgets/controls",
            "_view_module_version": "1.5.0",
            "_view_name": "HTMLView",
            "description": "",
            "description_tooltip": null,
            "layout": "IPY_MODEL_5dc14e913bc541e29fbce83c4ef19a46",
            "placeholder": "​",
            "style": "IPY_MODEL_fd1da523e8f4416a9d7e2a63fb738bf0",
            "value": " 135447/135447 [00:54&lt;00:00, 3305.10it/s]"
          }
        },
        "b58545344c744701a71bb9d93247f6c4": {
          "model_module": "@jupyter-widgets/controls",
          "model_module_version": "1.5.0",
          "model_name": "HBoxModel",
          "state": {
            "_dom_classes": [],
            "_model_module": "@jupyter-widgets/controls",
            "_model_module_version": "1.5.0",
            "_model_name": "HBoxModel",
            "_view_count": null,
            "_view_module": "@jupyter-widgets/controls",
            "_view_module_version": "1.5.0",
            "_view_name": "HBoxView",
            "box_style": "",
            "children": [
              "IPY_MODEL_fb0f90c9af254acca5bd6f1a6a559020",
              "IPY_MODEL_16349e4740fd423fb8626e0f8a9b7426",
              "IPY_MODEL_ad074c1f7536467491953ad2b14303b7"
            ],
            "layout": "IPY_MODEL_01545e3e349d492b81f2f8657b8bcd3d"
          }
        },
        "fb0f90c9af254acca5bd6f1a6a559020": {
          "model_module": "@jupyter-widgets/controls",
          "model_module_version": "1.5.0",
          "model_name": "HTMLModel",
          "state": {
            "_dom_classes": [],
            "_model_module": "@jupyter-widgets/controls",
            "_model_module_version": "1.5.0",
            "_model_name": "HTMLModel",
            "_view_count": null,
            "_view_module": "@jupyter-widgets/controls",
            "_view_module_version": "1.5.0",
            "_view_name": "HTMLView",
            "description": "",
            "description_tooltip": null,
            "layout": "IPY_MODEL_80850292aaed407890da468d31b6aa8c",
            "placeholder": "​",
            "style": "IPY_MODEL_fb29bea22e1b4dcc9a4b12d07744c7a0",
            "value": "Computing transition probabilities: 100%"
          }
        },
        "fb29bea22e1b4dcc9a4b12d07744c7a0": {
          "model_module": "@jupyter-widgets/controls",
          "model_module_version": "1.5.0",
          "model_name": "DescriptionStyleModel",
          "state": {
            "_model_module": "@jupyter-widgets/controls",
            "_model_module_version": "1.5.0",
            "_model_name": "DescriptionStyleModel",
            "_view_count": null,
            "_view_module": "@jupyter-widgets/base",
            "_view_module_version": "1.2.0",
            "_view_name": "StyleView",
            "description_width": ""
          }
        },
        "fd1da523e8f4416a9d7e2a63fb738bf0": {
          "model_module": "@jupyter-widgets/controls",
          "model_module_version": "1.5.0",
          "model_name": "DescriptionStyleModel",
          "state": {
            "_model_module": "@jupyter-widgets/controls",
            "_model_module_version": "1.5.0",
            "_model_name": "DescriptionStyleModel",
            "_view_count": null,
            "_view_module": "@jupyter-widgets/base",
            "_view_module_version": "1.2.0",
            "_view_name": "StyleView",
            "description_width": ""
          }
        }
      }
    }
  },
  "nbformat": 4,
  "nbformat_minor": 0
}