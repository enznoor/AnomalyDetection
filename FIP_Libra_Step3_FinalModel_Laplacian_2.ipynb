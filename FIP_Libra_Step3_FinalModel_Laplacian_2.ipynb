{
  "cells": [
    {
      "cell_type": "markdown",
      "metadata": {
        "id": "view-in-github",
        "colab_type": "text"
      },
      "source": [
        "<a href=\"https://colab.research.google.com/github/enznoor/AnomalyDetection/blob/main/FIP_Libra_Step3_FinalModel_Laplacian_2.ipynb\" target=\"_parent\"><img src=\"https://colab.research.google.com/assets/colab-badge.svg\" alt=\"Open In Colab\"/></a>"
      ]
    },
    {
      "cell_type": "code",
      "execution_count": null,
      "metadata": {
        "id": "Qtb0ZsPPduFj",
        "colab": {
          "base_uri": "https://localhost:8080/"
        },
        "outputId": "43ce4e82-81bd-430e-fda8-d72a6cbb1a41"
      },
      "outputs": [
        {
          "output_type": "stream",
          "name": "stdout",
          "text": [
            "Collecting dgl\n",
            "  Downloading dgl-1.1.3-cp310-cp310-manylinux1_x86_64.whl (6.5 MB)\n",
            "\u001b[2K     \u001b[90m━━━━━━━━━━━━━━━━━━━━━━━━━━━━━━━━━━━━━━━━\u001b[0m \u001b[32m6.5/6.5 MB\u001b[0m \u001b[31m15.6 MB/s\u001b[0m eta \u001b[36m0:00:00\u001b[0m\n",
            "\u001b[?25hRequirement already satisfied: numpy>=1.14.0 in /usr/local/lib/python3.10/dist-packages (from dgl) (1.25.2)\n",
            "Requirement already satisfied: scipy>=1.1.0 in /usr/local/lib/python3.10/dist-packages (from dgl) (1.11.4)\n",
            "Requirement already satisfied: networkx>=2.1 in /usr/local/lib/python3.10/dist-packages (from dgl) (3.2.1)\n",
            "Requirement already satisfied: requests>=2.19.0 in /usr/local/lib/python3.10/dist-packages (from dgl) (2.31.0)\n",
            "Requirement already satisfied: tqdm in /usr/local/lib/python3.10/dist-packages (from dgl) (4.66.2)\n",
            "Requirement already satisfied: psutil>=5.8.0 in /usr/local/lib/python3.10/dist-packages (from dgl) (5.9.5)\n",
            "Requirement already satisfied: charset-normalizer<4,>=2 in /usr/local/lib/python3.10/dist-packages (from requests>=2.19.0->dgl) (3.3.2)\n",
            "Requirement already satisfied: idna<4,>=2.5 in /usr/local/lib/python3.10/dist-packages (from requests>=2.19.0->dgl) (3.6)\n",
            "Requirement already satisfied: urllib3<3,>=1.21.1 in /usr/local/lib/python3.10/dist-packages (from requests>=2.19.0->dgl) (2.0.7)\n",
            "Requirement already satisfied: certifi>=2017.4.17 in /usr/local/lib/python3.10/dist-packages (from requests>=2.19.0->dgl) (2024.2.2)\n",
            "Installing collected packages: dgl\n",
            "Successfully installed dgl-1.1.3\n",
            "Collecting node2vec\n",
            "  Downloading node2vec-0.4.6-py3-none-any.whl (7.0 kB)\n",
            "Requirement already satisfied: gensim<5.0.0,>=4.1.2 in /usr/local/lib/python3.10/dist-packages (from node2vec) (4.3.2)\n",
            "Requirement already satisfied: joblib<2.0.0,>=1.1.0 in /usr/local/lib/python3.10/dist-packages (from node2vec) (1.3.2)\n",
            "Collecting networkx<3.0,>=2.5 (from node2vec)\n",
            "  Downloading networkx-2.8.8-py3-none-any.whl (2.0 MB)\n",
            "\u001b[2K     \u001b[90m━━━━━━━━━━━━━━━━━━━━━━━━━━━━━━━━━━━━━━━━\u001b[0m \u001b[32m2.0/2.0 MB\u001b[0m \u001b[31m6.6 MB/s\u001b[0m eta \u001b[36m0:00:00\u001b[0m\n",
            "\u001b[?25hRequirement already satisfied: numpy<2.0.0,>=1.19.5 in /usr/local/lib/python3.10/dist-packages (from node2vec) (1.25.2)\n",
            "Requirement already satisfied: tqdm<5.0.0,>=4.55.1 in /usr/local/lib/python3.10/dist-packages (from node2vec) (4.66.2)\n",
            "Requirement already satisfied: scipy>=1.7.0 in /usr/local/lib/python3.10/dist-packages (from gensim<5.0.0,>=4.1.2->node2vec) (1.11.4)\n",
            "Requirement already satisfied: smart-open>=1.8.1 in /usr/local/lib/python3.10/dist-packages (from gensim<5.0.0,>=4.1.2->node2vec) (6.4.0)\n",
            "Installing collected packages: networkx, node2vec\n",
            "  Attempting uninstall: networkx\n",
            "    Found existing installation: networkx 3.2.1\n",
            "    Uninstalling networkx-3.2.1:\n",
            "      Successfully uninstalled networkx-3.2.1\n",
            "Successfully installed networkx-2.8.8 node2vec-0.4.6\n",
            "\u001b[2K     \u001b[90m━━━━━━━━━━━━━━━━━━━━━━━━━━━━━━━━━━━━━━━━\u001b[0m \u001b[32m1.1/1.1 MB\u001b[0m \u001b[31m5.2 MB/s\u001b[0m eta \u001b[36m0:00:00\u001b[0m\n",
            "\u001b[?25h"
          ]
        }
      ],
      "source": [
        "!pip install dgl\n",
        "!pip install node2vec\n",
        "!pip install -q torch-geometric"
      ]
    },
    {
      "cell_type": "code",
      "execution_count": null,
      "metadata": {
        "id": "GidznvafbIX9",
        "colab": {
          "base_uri": "https://localhost:8080/"
        },
        "outputId": "893bd06f-f5b0-4305-aa27-8a94cfab11a5"
      },
      "outputs": [
        {
          "output_type": "stream",
          "name": "stderr",
          "text": [
            "DGL backend not selected or invalid.  Assuming PyTorch for now.\n"
          ]
        },
        {
          "output_type": "stream",
          "name": "stdout",
          "text": [
            "Setting the default backend to \"pytorch\". You can change it in the ~/.dgl/config.json file or export the DGLBACKEND environment variable.  Valid options are: pytorch, mxnet, tensorflow (all lowercase)\n"
          ]
        }
      ],
      "source": [
        "from node2vec.edges import HadamardEmbedder\n",
        "from gensim.models import Word2Vec\n",
        "import random\n",
        "from node2vec import Node2Vec\n",
        "from gensim.models import KeyedVectors\n",
        "import torch.optim as optim\n",
        "import dgl.function as fn\n",
        "from dgl.nn import SAGEConv"
      ]
    },
    {
      "cell_type": "code",
      "execution_count": null,
      "metadata": {
        "id": "OlWdvWAiXG2a"
      },
      "outputs": [],
      "source": [
        "from google.colab import drive\n",
        "import networkx as nx\n",
        "import dgl\n",
        "import torch\n",
        "import torch.nn as nn\n",
        "import torch.nn.functional as F\n",
        "import pandas as pd\n",
        "from torch_geometric.data import Data\n",
        "import numpy as np\n",
        "import matplotlib.pyplot as plt\n",
        "#from dgl.nn import GraphConv\n",
        "#from dgl.nn import SAGEConv\n",
        "import dgl.nn as dglnn\n",
        "from sklearn.metrics import confusion_matrix, classification_report, accuracy_score , roc_curve, roc_auc_score, auc\n",
        "import matplotlib.pyplot as plt\n",
        "from sklearn.preprocessing import OneHotEncoder\n",
        "from sklearn.metrics import roc_curve, auc\n",
        "from sklearn.preprocessing import OneHotEncoder"
      ]
    },
    {
      "cell_type": "code",
      "execution_count": null,
      "metadata": {
        "colab": {
          "base_uri": "https://localhost:8080/"
        },
        "id": "vYV1hZghXrfe",
        "outputId": "d62a3f8b-cffc-4091-c2d0-5637d44539e3"
      },
      "outputs": [
        {
          "output_type": "stream",
          "name": "stdout",
          "text": [
            "Mounted at /content/drive\n"
          ]
        }
      ],
      "source": [
        "drive.mount('/content/drive')"
      ]
    },
    {
      "cell_type": "code",
      "execution_count": null,
      "metadata": {
        "id": "HK52aYXqrSy7"
      },
      "outputs": [],
      "source": [
        "import tensorflow as tf\n",
        "seed=42\n",
        "torch.manual_seed(seed)\n",
        "np.random.seed(seed)\n",
        "torch.backends.cudnn.deterministic = True"
      ]
    },
    {
      "cell_type": "code",
      "execution_count": null,
      "metadata": {
        "id": "dWv-tkO3X0wv"
      },
      "outputs": [],
      "source": [
        "path='drive/MyDrive/Term_05/FinalProposal/Data/'\n",
        "Finalpath='drive/MyDrive/Term_05/FinalProposal/FinalData/'\n",
        "Finalpath_test='drive/MyDrive/Term_05/FinalProposal/FinalData_test/'\n",
        "pathCommunity='drive/MyDrive/Term_05/FinalProposal/Data/Community/'\n",
        "train_edge_index=np.load(path+'train_edge_index.npy')\n",
        "train_edgelist=np.load(path+'train_edgelist.npy')\n",
        "train_edge_weight=np.load(path+'train_edge_weight.npy')\n",
        "train_x=np.load(path+'train_x.npy')\n",
        "train_y=np.load(path+'train_y.npy')\n",
        "test_edge_index=np.load(path+'test_edge_index.npy')\n",
        "test_edgelist=np.load(path+'test_edgelist.npy')\n",
        "test_edge_weight=np.load(path+'test_edge_weight.npy')\n",
        "test_x=np.load(path+'test_x.npy')\n",
        "test_y=np.load(path+'test_y.npy')\n",
        "train_elabel=np.load(path+'edge_y_train.npy')\n",
        "test_elabel=np.load(path+'edge_y_test.npy')"
      ]
    },
    {
      "cell_type": "code",
      "execution_count": null,
      "metadata": {
        "id": "oE-4bpjjX30P"
      },
      "outputs": [],
      "source": [
        "nodedf=pd.read_csv(path + 'LibraReduceNodeInfo.csv')\n",
        "edgedf=pd.read_csv(path + 'LibraReduceEdgeInfo.csv')"
      ]
    },
    {
      "cell_type": "code",
      "execution_count": null,
      "metadata": {
        "colab": {
          "base_uri": "https://localhost:8080/"
        },
        "id": "smPbyiQEjQ0W",
        "outputId": "4624a305-99f6-400a-dd6f-bff593f0b3aa"
      },
      "outputs": [
        {
          "output_type": "stream",
          "name": "stdout",
          "text": [
            "(370918, 6)\n",
            "(202426, 22)\n"
          ]
        }
      ],
      "source": [
        "print(edgedf.shape)\n",
        "print(nodedf.shape)"
      ]
    },
    {
      "cell_type": "code",
      "execution_count": null,
      "metadata": {
        "id": "9-mSxKsMgUxg"
      },
      "outputs": [],
      "source": [
        "loaded_trainData=np.load(path+'train_node.npy')\n",
        "loaded_testData=np.load(path+'test_node.npy')\n",
        "traindf= pd.DataFrame(loaded_trainData, columns=['NewNodeId'])\n",
        "testdf= pd.DataFrame(loaded_testData, columns=['NewNodeId'])\n",
        "\n",
        "traindf['NewNodeId'] = traindf['NewNodeId'].astype(int)\n",
        "traindata_df = pd.merge(traindf,nodedf, on='NewNodeId', how='inner')\n",
        "testdata_df = pd.merge(testdf,nodedf, on='NewNodeId', how='inner')"
      ]
    },
    {
      "cell_type": "code",
      "execution_count": null,
      "metadata": {
        "id": "JzraYh2BgBot"
      },
      "outputs": [],
      "source": [
        "train_idx=torch.tensor(traindata_df.index, dtype = torch.long)\n",
        "test_idx=torch.tensor(testdata_df.index, dtype = torch.long)\n",
        "#valid_idx=torch.tensor(validate.index, dtype = torch.long)"
      ]
    },
    {
      "cell_type": "code",
      "execution_count": null,
      "metadata": {
        "id": "9a0LcY1kIkt1"
      },
      "outputs": [],
      "source": [
        "edgedf.insert(1, \"elabel\", 0)\n",
        "edgedf[\"elabel\"] = np.where(edgedf[\"nr_alerts\"] > 0, 1, 0)"
      ]
    },
    {
      "cell_type": "code",
      "execution_count": null,
      "metadata": {
        "colab": {
          "base_uri": "https://localhost:8080/"
        },
        "id": "bB0Llqk03XQF",
        "outputId": "e5179a47-ac3b-411c-df31-c5134ec65b4b"
      },
      "outputs": [
        {
          "output_type": "stream",
          "name": "stdout",
          "text": [
            "number_of_edges:  370918\n",
            "number_of_nodes:  202426\n"
          ]
        }
      ],
      "source": [
        "AttrEge=['cum_amount', 'nr_transactions' ,'elabel' ]\n",
        "G=nx.from_pandas_edgelist(\n",
        "            df=edgedf,\n",
        "            source=\"id_source\",\n",
        "            target=\"id_destination\",\n",
        "            edge_attr=AttrEge,\n",
        "            create_using=nx.DiGraph\n",
        "        )\n",
        "print('number_of_edges: ',G.number_of_edges())\n",
        "print('number_of_nodes: ',G.number_of_nodes())"
      ]
    },
    {
      "cell_type": "markdown",
      "metadata": {
        "id": "HwB6EwFCAm-C"
      },
      "source": [
        "# Create Train and Test Graph for edge Classification"
      ]
    },
    {
      "cell_type": "code",
      "execution_count": null,
      "metadata": {
        "id": "xJHqImp6TLwb"
      },
      "outputs": [],
      "source": [
        "df1=pd.DataFrame(train_edgelist)\n",
        "df2=pd.DataFrame(train_edge_weight)\n",
        "train_edgelist_G=pd.merge(df1,df2,left_index=True, right_index=True)\n",
        "#-------------------------------------------------------------------------------\n",
        "train_edgelist_G = train_edgelist_G.rename(columns={'0_x': 'id_source'})\n",
        "train_edgelist_G = train_edgelist_G.rename(columns={'1_x': 'id_destination'})\n",
        "train_edgelist_G = train_edgelist_G.rename(columns={'0_y': 'cum_amount'})\n",
        "train_edgelist_G = train_edgelist_G.rename(columns={'1_y': 'nr_transactions'})\n",
        "train_edgelist_G['eLabel']=pd.DataFrame(train_elabel)"
      ]
    },
    {
      "cell_type": "code",
      "execution_count": null,
      "metadata": {
        "colab": {
          "base_uri": "https://localhost:8080/"
        },
        "id": "mINIr9DnSt6l",
        "outputId": "4f0a153f-3f65-4bac-ff33-b0dc3abbefbf"
      },
      "outputs": [
        {
          "output_type": "stream",
          "name": "stdout",
          "text": [
            "number_of_edges:  230907\n",
            "number_of_nodes:  135447\n"
          ]
        }
      ],
      "source": [
        "AttrEge=['cum_amount', 'nr_transactions' ]\n",
        "train_G=nx.from_pandas_edgelist(\n",
        "            df=train_edgelist_G,\n",
        "            source=\"id_source\",\n",
        "            target=\"id_destination\",\n",
        "            edge_attr=AttrEge,\n",
        "            create_using=nx.DiGraph\n",
        "        )\n",
        "print('number_of_edges: ',train_G.number_of_edges())\n",
        "print('number_of_nodes: ',train_G.number_of_nodes())"
      ]
    },
    {
      "cell_type": "code",
      "execution_count": null,
      "metadata": {
        "id": "sPtGcOdMkYWM"
      },
      "outputs": [],
      "source": [
        "df1=pd.DataFrame(test_edgelist)\n",
        "df2=pd.DataFrame(test_edge_weight)\n",
        "test_edgelist_G=pd.merge(df1,df2,left_index=True, right_index=True)\n",
        "#-------------------------------------------------------------------------------\n",
        "test_edgelist_G = test_edgelist_G.rename(columns={'0_x': 'id_source'})\n",
        "test_edgelist_G = test_edgelist_G.rename(columns={'1_x': 'id_destination'})\n",
        "test_edgelist_G = test_edgelist_G.rename(columns={'0_y': 'cum_amount'})\n",
        "test_edgelist_G = test_edgelist_G.rename(columns={'1_y': 'nr_transactions'})\n",
        "test_edgelist_G['eLabel']=pd.DataFrame(test_elabel)"
      ]
    },
    {
      "cell_type": "code",
      "execution_count": null,
      "metadata": {
        "colab": {
          "base_uri": "https://localhost:8080/"
        },
        "id": "q10AGVQ2kxMX",
        "outputId": "5f17f8d7-1626-4145-a67d-152d6793cabc"
      },
      "outputs": [
        {
          "output_type": "stream",
          "name": "stdout",
          "text": [
            "number_of_edges:  16222\n",
            "number_of_nodes:  12963\n"
          ]
        }
      ],
      "source": [
        "AttrEge=['cum_amount', 'nr_transactions' ]\n",
        "test_G=nx.from_pandas_edgelist(\n",
        "            df=test_edgelist_G,\n",
        "            source=\"id_source\",\n",
        "            target=\"id_destination\",\n",
        "            edge_attr=AttrEge,\n",
        "            create_using=nx.DiGraph\n",
        "        )\n",
        "print('number_of_edges: ',test_G.number_of_edges())\n",
        "print('number_of_nodes: ',test_G.number_of_nodes())"
      ]
    },
    {
      "cell_type": "code",
      "execution_count": null,
      "metadata": {
        "colab": {
          "base_uri": "https://localhost:8080/"
        },
        "id": "al7KLje-3Vue",
        "outputId": "f70d4774-3238-4d9b-f298-90af8244e121"
      },
      "outputs": [
        {
          "output_type": "stream",
          "name": "stdout",
          "text": [
            "number_of_edges train_graph:  230907\n",
            "number_of_nodes train_graph:  135447\n",
            "number_of_edges test_graph:  16222\n",
            "number_of_nodes test_graph:  12963\n"
          ]
        }
      ],
      "source": [
        "#train_G = G.subgraph(loaded_trainData)\n",
        "#test_G = G.subgraph(loaded_testData)\n",
        "print('number_of_edges train_graph: ',train_G.number_of_edges())\n",
        "print('number_of_nodes train_graph: ',train_G.number_of_nodes())\n",
        "print('number_of_edges test_graph: ',test_G.number_of_edges())\n",
        "print('number_of_nodes test_graph: ',test_G.number_of_nodes())\n"
      ]
    },
    {
      "cell_type": "markdown",
      "metadata": {
        "id": "VVoiz8YqBdTF"
      },
      "source": [
        "# Set Attribute  to Train and Test Graph"
      ]
    },
    {
      "cell_type": "code",
      "execution_count": null,
      "metadata": {
        "id": "rwaM8-MFoUNs"
      },
      "outputs": [],
      "source": [
        "trainNode_G=list(train_G.nodes())\n",
        "trainNode=pd.DataFrame(trainNode_G, columns=['NewNodeId'])\n",
        "traindata_df = pd.merge(trainNode,nodedf, on='NewNodeId', how='inner')\n",
        "\n",
        "testNode_G=list(test_G.nodes())\n",
        "testNode=pd.DataFrame(testNode_G, columns=['NewNodeId'])\n",
        "testdata_df = pd.merge(testNode,nodedf, on='NewNodeId', how='inner')"
      ]
    },
    {
      "cell_type": "code",
      "execution_count": null,
      "metadata": {
        "id": "ffn0hhdSL-GG"
      },
      "outputs": [],
      "source": [
        "col=['NewNodeId']\n",
        "df1=traindata_df[col].where(traindata_df['L_alert'] ==1).dropna()\n",
        "df2=testdata_df[col].where(testdata_df['L_alert'] ==1).dropna()\n",
        "ListAnomalNode_train=df1['NewNodeId'].values.tolist()\n",
        "ListAnomalNode_test=df2['NewNodeId'].values.tolist()"
      ]
    },
    {
      "cell_type": "code",
      "execution_count": null,
      "metadata": {
        "colab": {
          "base_uri": "https://localhost:8080/"
        },
        "id": "v1JxWVqvKdxM",
        "outputId": "8d5eea69-74ca-4f1d-8c5e-b4db58496875"
      },
      "outputs": [
        {
          "output_type": "execute_result",
          "data": {
            "text/plain": [
              "74"
            ]
          },
          "metadata": {},
          "execution_count": 20
        }
      ],
      "source": [
        "len(ListAnomalNode_test)"
      ]
    },
    {
      "cell_type": "markdown",
      "metadata": {
        "id": "WEYzbCKSsnJk"
      },
      "source": [
        "# Community Detection For Train and Test Graph"
      ]
    },
    {
      "cell_type": "code",
      "execution_count": null,
      "metadata": {
        "id": "TGvixuX0g5S6"
      },
      "outputs": [],
      "source": [
        "from networkx.algorithms.community import louvain_communities"
      ]
    },
    {
      "cell_type": "code",
      "execution_count": null,
      "metadata": {
        "colab": {
          "base_uri": "https://localhost:8080/"
        },
        "id": "xKHJYD5Igjui",
        "outputId": "be73246c-3fe1-4dbc-b703-72837922de5d"
      },
      "outputs": [
        {
          "output_type": "stream",
          "name": "stdout",
          "text": [
            "partitions number of train: 13867\n",
            "partitions number of test: 2102\n"
          ]
        }
      ],
      "source": [
        "partitions_TG=louvain_communities(train_G)\n",
        "print('partitions number of train:',len(partitions_TG))\n",
        "\n",
        "partitions_TST=louvain_communities(test_G)\n",
        "print('partitions number of test:',len(partitions_TST))"
      ]
    },
    {
      "cell_type": "code",
      "source": [
        "def Get_partitionList(partitions ,G , ListAnomalNode,df):\n",
        "    partitions_List=[]\n",
        "    for index , community  in enumerate(partitions):\n",
        "        #-------------Get Anomal Node--------------\n",
        "        CntAnomalNode=0\n",
        "        Label=0\n",
        "        for i in ListAnomalNode:\n",
        "            if i in community:\n",
        "                CntAnomalNode=CntAnomalNode+1\n",
        "        if  CntAnomalNode>0:\n",
        "            Label=1\n",
        "        #CM_Dictionary= [index , len(CM) , CntAnomalNode ]\n",
        "        #------------------------------------------\n",
        "        val_amount_out=Get_FinancialFlow(community,'f_amount_out',df)\n",
        "        val_amount_in=Get_FinancialFlow(community,'f_amount_in',df)\n",
        "        val_nr_trans_in=Get_FinancialFlow(community,'f_nr_trans_in',df)\n",
        "        val_nr_trans_out=Get_FinancialFlow(community,'f_nr_trans_out',df)\n",
        "\n",
        "        item=[index,community,len(community),CntAnomalNode,val_amount_in,val_amount_out,val_nr_trans_in,val_nr_trans_out,Label]\n",
        "        partitions_List.append(item)\n",
        "    return partitions_List"
      ],
      "metadata": {
        "id": "QYsH8m4thvax"
      },
      "execution_count": null,
      "outputs": []
    },
    {
      "cell_type": "code",
      "execution_count": null,
      "metadata": {
        "colab": {
          "base_uri": "https://localhost:8080/"
        },
        "id": "Uuu2H202BYH_",
        "outputId": "80af8dca-a239-4c5d-8401-2ce2118a80b3"
      },
      "outputs": [
        {
          "output_type": "stream",
          "name": "stdout",
          "text": [
            "62 {106497, 192514, 155650, 45060, 20481, 147467, 18, 106515, 98324, 45076, 45082, 110621, 114718, 98335, 45096, 151592, 155702, 147510, 73782, 4150, 172093, 151614, 81985, 86087, 180305, 131153, 176209, 20562, 36951, 61539, 20579, 127080, 188532, 196730, 188538, 172156, 16510, 139415, 155802, 98460, 102557, 12454, 131245, 16559, 61618, 159927, 32952, 151738, 114879, 94403, 139462, 199, 143561, 102605, 155863, 123109, 188647, 188660, 28919, 57592, 180475, 123131, 180476, 8447, 28928, 143619, 82180, 151813, 69894, 151816, 188685, 45338, 106782, 176417, 45346, 188708, 201014, 147769, 45373, 16702, 98623, 172352, 37183, 318, 65856, 184646, 172358, 164169, 33098, 334, 37198, 78161, 94546, 102744, 4440, 24929, 110946, 119144, 69993, 131434, 176493, 29039, 65906, 119162, 196987, 151942, 65928, 45452, 94604, 4494, 164241, 164244, 160151, 98713, 176544, 131491, 49573, 53678, 70064, 151985, 438, 70075, 160191, 201155, 82376, 94671, 70100, 102871, 106969, 180698, 20956, 37342, 61922, 139754, 123371, 201196, 57840, 497, 139762, 70131, 115194, 82426, 94715, 107005, 176634, 512, 53761, 184833, 94723, 98823, 176648, 139794, 532, 201238, 123415, 74265, 41501, 74289, 152119, 180792, 172602, 94779, 176705, 25153, 131652, 74310, 164427, 131663, 119378, 119384, 193117, 197214, 193120, 82529, 201316, 25190, 143974, 49770, 33388, 131694, 21104, 152177, 103026, 152186, 193152, 127617, 37506, 21127, 172680, 29323, 94860, 21134, 164494, 144017, 156320, 674, 4776, 139948, 700, 8893, 710, 139976, 180937, 66257, 156370, 172755, 107223, 144091, 70365, 4830, 172768, 201442, 148199, 66287, 160497, 144120, 148218, 107260, 8959, 127744, 90885, 86791, 127754, 131859, 131860, 86804, 62237, 49954, 201507, 90933, 193342, 86848, 62274, 21319, 164683, 123725, 111440, 144208, 50005, 33624, 144217, 90970, 144220, 62300, 189282, 70500, 164715, 90987, 148340, 123768, 160633, 21370, 152447, 160640, 164741, 144276, 99230, 95135, 189349, 164775, 37802, 103339, 21423, 136115, 103354, 136123, 136131, 160727, 123866, 201690, 160733, 9189, 160745, 201713, 140281, 70649, 152573, 177152, 185345, 119812, 160774, 136204, 140306, 197651, 140307, 160794, 70686, 25630, 42016, 128034, 62498, 46125, 103470, 25647, 21550, 95287, 197690, 119872, 119873, 54351, 9304, 160858, 197730, 70756, 136294, 99434, 136300, 181359, 115824, 74872, 99450, 193659, 9344, 29826, 62598, 38025, 46218, 181390, 115856, 21660, 165021, 197791, 42147, 9389, 140466, 99521, 91331, 189641, 25802, 177365, 181467, 144608, 54496, 193761, 54498, 177378, 144613, 189667, 5352, 29929, 62698, 91371, 38127, 91378, 83196, 13570, 38155, 25868, 161037, 185611, 87311, 38162, 181528, 148760, 132380, 144671, 181543, 136490, 140592, 144691, 5440, 136514, 62789, 173398, 173399, 157022, 136546, 181615, 128368, 71025, 177522, 62832, 161140, 177527, 177529, 198011, 42367, 54664, 165267, 181652, 161187, 9640, 177576, 13738, 181678, 136626, 17844, 62900, 193980, 79295, 58816, 198082, 103875, 181699, 26057, 71121, 5587, 177627, 71137, 148971, 62958, 194033, 157178, 62971, 161276, 202239, 189952, 132608, 30221, 173581, 173585, 95784, 9770, 95788, 128558, 38454, 116283, 95804, 120383, 63041, 149069, 18002, 83542, 140892, 132703, 46689, 54882, 194149, 165480, 145003, 1648, 198257, 54898, 198260, 59004, 185986, 71299, 75396, 185987, 83589, 161414, 202376, 112269, 136850, 46746, 132763, 169629, 136862, 50849, 202402, 136869, 75433, 38575, 71343, 132790, 161464, 87736, 186042, 169658, 132792, 157373, 63168, 71360, 132802, 79556, 190148, 169673, 79564, 42704, 165590, 149208, 165592, 132826, 83672, 120539, 161516, 71404, 50927, 79604, 186106, 18174, 104201, 5902, 104206, 50963, 120599, 112412, 165660, 141091, 132903, 120619, 38699, 186160, 132913, 112438, 128822, 5951, 120642, 169797, 161607, 91976, 42826, 91978, 149323, 10062, 96079, 165715, 1881, 173913, 83803, 112475, 42844, 178014, 141160, 141161, 137066, 124786, 59251, 182138, 141180, 71552, 46977, 96128, 112520, 186248, 1934, 38806, 145310, 38817, 145321, 30645, 75703, 165816, 51135, 194500, 38855, 161736, 161739, 153548, 22476, 96204, 120786, 26583, 116705, 182243, 79845, 198630, 116716, 137197, 47089, 182261, 26614, 145400, 190458, 116734, 6143, 182286, 10258, 194581, 26647, 161824, 178210, 84010, 145451, 67627, 6186, 75825, 170039, 6199, 84025, 137281, 30788, 153671, 51278, 34901, 186456, 116825, 92254, 141407, 79967, 141410, 88162, 120935, 174196, 153723, 88195, 34953, 116879, 174226, 108698, 161952, 6304, 153772, 121005, 47280, 170164, 170173, 71869, 88257, 84167, 92360, 182477, 157902, 71887, 55505, 125140, 149717, 108758, 88280, 182490, 55514, 182502, 166131, 26882, 198922, 141578, 112908, 96525, 190737, 71956, 112921, 96539, 96549, 39209, 190762, 22828, 84269, 190773, 39222, 88375, 194876, 174396, 96575, 72004, 51524, 35143, 166220, 31057, 145748, 149846, 39254, 108890, 55654, 39271, 14696, 96616, 47467, 96630, 158071, 47496, 35215, 43408, 43410, 27027, 186771, 39319, 59801, 137628, 47517, 31133, 121252, 194982, 68008, 199082, 59820, 121278, 121285, 22982, 55751, 72137, 31178, 84431, 149968, 18896, 22996, 51671, 6616, 145886, 174567, 158184, 68075, 129520, 150000, 158198, 27127, 88567, 174586, 113147, 68092, 199166, 137729, 27137, 186884, 6669, 35342, 174607, 125459, 170516, 43543, 166424, 195097, 174616, 18972, 55839, 47647, 186913, 43554, 174633, 113199, 195123, 43574, 31288, 23101, 195136, 166464, 178761, 141898, 105035, 76367, 76371, 170580, 88660, 150107, 35423, 150112, 150111, 31333, 186981, 68205, 195186, 178810, 166524, 68220, 43645, 121475, 105098, 43663, 96914, 170645, 137878, 195221, 199318, 187031, 191132, 31390, 23205, 166566, 150191, 109233, 43698, 125622, 109242, 109243, 162500, 146117, 39624, 174794, 133838, 2768, 133842, 170707, 125661, 129764, 121573, 43750, 2790, 113386, 187117, 80621, 31479, 84732, 11009, 72451, 113411, 6918, 154375, 43785, 23307, 199441, 154386, 23317, 56085, 187162, 80676, 154406, 158507, 129842, 43830, 187191, 43836, 2880, 195397, 199499, 72525, 170829, 47954, 76631, 187225, 146265, 97113, 113500, 27487, 47970, 166760, 11116, 56174, 31600, 27506, 154482, 113539, 174991, 60305, 2964, 113561, 129950, 179106, 195490, 129957, 121766, 43947, 199597, 170926, 154543, 170928, 56240, 23475, 195508, 125878, 117689, 68538, 121791, 195521, 11203, 76746, 195532, 48076, 7122, 138196, 142292, 113621, 64475, 113628, 7133, 3036, 68579, 130022, 146407, 146409, 117738, 113641, 158702, 7154, 146418, 171000, 121848, 93179, 125948, 150535, 101386, 31755, 117771, 195597, 105487, 48145, 191509, 199703, 68632, 3096, 171031, 195611, 187415, 64545, 171044, 138280, 68650, 23598, 76852, 146487, 15421, 138303, 31809, 35913, 146506, 23625, 56397, 154703, 113747, 195670, 48215, 31837, 150624, 56417, 3170, 199788, 150646, 85111, 27771, 44157, 31873, 15490, 85122, 158854, 179337, 154767, 3219, 199830, 175255, 15512, 150678, 142491, 138395, 171172, 122021, 72870, 142506, 179373, 187569, 27826, 142517, 93368, 130233, 187579, 191675, 11456, 113857, 31937, 105675, 130252, 44238, 85199, 36048, 171221, 175317, 117979, 191713, 199906, 171235, 11494, 85222, 77032, 3308, 113904, 11507, 171262, 77055, 195840, 118015, 122117, 183560, 118025, 101642, 175380, 171289, 60698, 183582, 60705, 195875, 93478, 48424, 32041, 199978, 60719, 64820, 89396, 89398, 27959, 187706, 179515, 89405, 7501, 97615, 195921, 159065, 191833, 44379, 105821, 85342, 179552, 200038, 48486, 142697, 114025, 93549, 64879, 146800, 97647, 191857, 171381, 40313, 179597, 122257, 130452, 77207, 40350, 3486, 44462, 179630, 105903, 134577, 114098, 150961, 150964, 155064, 122300, 155070, 159176, 179670, 44502, 146906, 101857, 155106, 77287, 151017, 19947, 183788, 142831, 134641, 179698, 28152, 97793, 179722, 73227, 155148, 200214, 93719, 175639, 200221, 192030, 183840, 142880, 24107, 106031, 69168, 60978, 56885, 15926, 65079, 20022, 65082, 155202, 179779, 52803, 73286, 93767, 167497, 15948, 142930, 56915, 28244, 122453, 28243, 89689, 11866, 187994, 69212, 196191, 151136, 101989, 28266, 28272, 32376, 20089, 188035, 171652, 52867, 97926, 134792, 122504, 7817, 16016, 171665, 65170, 122518, 20126, 93855, 179874, 48805, 56997, 151230, 163518, 134848, 192190, 192195, 7876, 24261, 184006, 122567, 171722, 188108, 171729, 147153, 138966, 52950, 192215, 106198, 65243, 179940, 167657, 122601, 106217, 44778, 130799, 155381, 69368, 102152, 16137, 102158, 28435, 28440, 102173, 188190, 180011, 40748, 130860, 155439, 114481, 171830, 188215, 3898, 32575, 53056, 184128, 98118, 40789, 134999, 102235, 44898, 69474, 122724, 159589, 110440, 163691, 159603, 184180, 114549, 155511, 65406, 40842, 12172, 36749, 151437, 3982, 53136, 16277, 180117, 143264, 44961, 36771, 77743, 69553, 155570, 159668, 171957, 53176, 16316, 147388, 176060, 32708, 188358, 163784, 131020, 176085, 188377, 188394, 12267, 155630, 151536, 122865, 98290, 163826, 184310, 36855, 151544, 110585}\n",
            "132 {110597, 28677, 24583, 159763, 81941, 176150, 86039, 122906, 127003, 163868, 49179, 49185, 81953, 139300, 184357, 37, 36, 102443, 94252, 86059, 81966, 114734, 159794, 57395, 24628, 73780, 32823, 167992, 4158, 64, 20546, 176195, 98372, 81989, 168006, 8263, 69, 151622, 151623, 102480, 139347, 188500, 98389, 24662, 151638, 94297, 49242, 90, 98395, 180316, 127070, 102495, 24675, 139365, 200809, 106602, 36975, 57457, 32883, 139380, 192627, 163958, 139385, 94331, 36988, 28797, 20606, 36991, 86144, 147586, 135299, 90245, 20614, 135304, 49288, 37006, 180366, 4240, 86163, 192661, 151702, 163993, 32922, 86169, 155807, 131235, 147620, 196776, 12458, 61611, 131244, 102573, 131246, 102576, 200881, 102579, 127156, 45235, 20662, 82103, 110771, 57529, 131259, 102592, 4290, 106691, 131268, 12484, 86213, 45258, 28876, 106701, 139469, 127183, 131280, 114892, 32978, 110803, 106707, 73934, 209, 106711, 147672, 217, 135386, 45277, 176350, 32991, 196829, 110818, 28899, 192741, 69862, 155882, 123114, 37102, 73968, 20722, 20724, 196854, 28920, 192761, 180474, 147705, 4348, 192765, 106745, 106749, 86265, 135425, 188677, 28934, 184582, 172298, 114955, 37132, 196874, 98574, 192779, 45328, 61706, 151826, 200979, 16659, 160021, 188690, 184601, 131354, 28957, 155940, 192808, 172337, 98612, 98614, 164151, 12601, 313, 127290, 94523, 86335, 8512, 328, 12617, 106830, 98639, 155986, 33106, 4436, 115034, 12639, 45408, 65888, 94562, 131428, 143722, 102771, 102774, 20854, 151928, 115065, 160122, 119165, 61823, 110982, 29065, 180617, 102796, 160140, 4497, 151955, 98710, 70039, 29080, 192919, 65948, 156061, 61853, 119200, 70053, 176550, 16808, 164266, 160171, 143788, 131501, 139694, 180651, 25003, 16817, 147883, 131502, 41397, 45494, 147900, 123328, 65984, 164288, 94659, 94660, 4549, 184772, 12744, 20936, 192973, 61905, 127442, 106961, 119256, 82393, 123353, 156124, 172512, 152033, 115173, 4583, 66025, 176618, 45553, 106993, 102899, 8696, 29178, 201213, 115198, 107009, 29190, 90632, 152072, 160265, 176649, 152076, 37392, 102929, 82450, 66072, 164377, 78361, 4637, 164382, 193055, 180767, 172582, 172585, 201259, 156204, 193072, 180789, 4662, 176697, 119354, 94780, 41533, 164413, 201280, 25159, 164424, 25161, 139848, 62027, 180812, 82511, 184917, 160344, 115291, 201308, 29277, 62047, 29280, 4706, 62051, 8807, 164458, 78444, 148083, 168564, 21112, 201337, 17017, 193145, 184956, 156285, 168573, 70271, 176766, 86659, 193159, 74378, 164491, 184972, 180875, 103055, 74386, 74388, 160404, 160406, 70295, 103066, 139931, 139933, 189087, 94880, 103073, 45730, 127653, 103078, 66214, 180905, 127658, 58028, 185004, 172718, 82607, 25263, 8878, 107192, 12985, 49849, 119488, 41667, 131782, 78534, 148167, 193229, 119504, 185040, 131796, 139998, 131807, 17123, 66276, 176868, 111331, 33509, 8940, 86767, 119536, 148210, 17139, 156405, 107255, 90872, 25337, 4857, 25339, 193275, 111359, 168704, 4867, 90883, 176908, 74511, 103187, 176917, 37656, 37657, 123674, 164635, 33561, 4890, 58137, 111391, 8992, 4897, 197407, 90915, 148258, 58149, 37670, 74535, 156455, 90922, 144174, 99118, 54064, 74545, 176944, 176945, 66356, 189237, 123705, 152378, 168764, 111422, 160576, 4929, 164679, 49995, 189261, 168786, 82771, 152404, 172885, 86870, 82778, 201563, 41830, 33647, 90992, 4977, 201585, 177011, 95091, 193396, 45948, 13185, 95107, 50056, 172943, 45971, 99226, 41883, 168863, 115616, 37793, 140198, 936, 127913, 41911, 127927, 136121, 91063, 70588, 168896, 103360, 33730, 164805, 46022, 62407, 21447, 58313, 173002, 156613, 156620, 164813, 148430, 173005, 62412, 33744, 156621, 86993, 148437, 95192, 115673, 91097, 32760, 62428, 5085, 95203, 9188, 201702, 74727, 201705, 58345, 46058, 181230, 103407, 144368, 1009, 87025, 189427, 177140, 21491, 193525, 152570, 115706, 54266, 54269, 201724, 99329, 164870, 62474, 173068, 119821, 156685, 193551, 50194, 99348, 168982, 62486, 152602, 136218, 17435, 136223, 173088, 144416, 62500, 50215, 78890, 201772, 193589, 99381, 91191, 9272, 5173, 62522, 148539, 46133, 152629, 160831, 58434, 169030, 33863, 33867, 128077, 201806, 62544, 201809, 185426, 74836, 115803, 160860, 29787, 181344, 33889, 189536, 156776, 119917, 197742, 95346, 156787, 164981, 1141, 197749, 177276, 136317, 201854, 140413, 148608, 70786, 25731, 99460, 156802, 164999, 13448, 62602, 42124, 103566, 17551, 181392, 87193, 156831, 144545, 87205, 21669, 185511, 9383, 103593, 124075, 21675, 197804, 21679, 13488, 62642, 38067, 148662, 17590, 132282, 193724, 87230, 54463, 25790, 9406, 9410, 9413, 181446, 29895, 42185, 70857, 62667, 33995, 132301, 13518, 58576, 95440, 132305, 13525, 99545, 181465, 120027, 128221, 173283, 87271, 87272, 87273, 148715, 193772, 177390, 156911, 177392, 156915, 46330, 9467, 25852, 99580, 140543, 148745, 140553, 62731, 21772, 128269, 21778, 99606, 181529, 136475, 91420, 70942, 128297, 189738, 62763, 66860, 173356, 173358, 140587, 21807, 62765, 148786, 152883, 177460, 156982, 91451, 1341, 120125, 152895, 148802, 95555, 99653, 140618, 189772, 79180, 136526, 144719, 99662, 95571, 70996, 173397, 193877, 103769, 173407, 34145, 30049, 144737, 13668, 165225, 193907, 185717, 144758, 144760, 42362, 198013, 165248, 1410, 58757, 136584, 25993, 161160, 173449, 34184, 120202, 165258, 75152, 103826, 103828, 189849, 136606, 30112, 17824, 26021, 177575, 112040, 50601, 198059, 202158, 34226, 103862, 66999, 202167, 189882, 161210, 17851, 38334, 1477, 189899, 9677, 9678, 202192, 13776, 148946, 185810, 9684, 103893, 34257, 21976, 5595, 87518, 194015, 128481, 17891, 26084, 67043, 5604, 153060, 128486, 67046, 128494, 87538, 91635, 13812, 9717, 62974, 62978, 75267, 87555, 181765, 5638, 13837, 83472, 17938, 198163, 157203, 189979, 161310, 185887, 54818, 185894, 63018, 30254, 120369, 63030, 194102, 153145, 149050, 177722, 79421, 103997, 140863, 46659, 5700, 190019, 120393, 46668, 120397, 181838, 34382, 194128, 202320, 202322, 116305, 95820, 116309, 50774, 75350, 13909, 108120, 9819, 13917, 116320, 153184, 42595, 9827, 53243, 194152, 120428, 128621, 120433, 9842, 79473, 58997, 112245, 46710, 38520, 194165, 22138, 145020, 177788, 50818, 5763, 177795, 198277, 153232, 1680, 120464, 18070, 120472, 63136, 22177, 1698, 120483, 75427, 104103, 149159, 67241, 202411, 140972, 34477, 83632, 165556, 5813, 71354, 59066, 83643, 149181, 145085, 157378, 198339, 14020, 104135, 141000, 95948, 136909, 38610, 161490, 30420, 186066, 169686, 116441, 116443, 108255, 181983, 9951, 63200, 75493, 1765, 79592, 5868, 1772, 173805, 124656, 75504, 190197, 141046, 79610, 120571, 1788, 79612, 30459, 71426, 136966, 63238, 173830, 190216, 186121, 149266, 182035, 112405, 161559, 198426, 71453, 169760, 79649, 145186, 161571, 198438, 46888, 128808, 145193, 128811, 137004, 190253, 124717, 137006, 112429, 18229, 34613, 149302, 51000, 38717, 141118, 169792, 173896, 38730, 157518, 149326, 5971, 173907, 153431, 38748, 59239, 5992, 141162, 128874, 165742, 132980, 83830, 169846, 75640, 128889, 26490, 190332, 1918, 157568, 38788, 18312, 14217, 173960, 145292, 112526, 26511, 30613, 55189, 79771, 26523, 1950, 178078, 30623, 165794, 120739, 178085, 59301, 178088, 96168, 100269, 42930, 198579, 153523, 22451, 120758, 100279, 194490, 14267, 133052, 34750, 186303, 42946, 18371, 71621, 51142, 38857, 42955, 194514, 169938, 100308, 141270, 174044, 2016, 157665, 22498, 141282, 120802, 194533, 47077, 174055, 182251, 2032, 104434, 149491, 161780, 38901, 18420, 169981, 133119, 83968, 30721, 96258, 43011, 59394, 18437, 120836, 174091, 174092, 75796, 83991, 116763, 190491, 165922, 153637, 133160, 145455, 34865, 149557, 194613, 190519, 51261, 112707, 170054, 47176, 43081, 190538, 153675, 84043, 112715, 112718, 6216, 125010, 88149, 120917, 100440, 84057, 194649, 79964, 182366, 174175, 71776, 63596, 43118, 22644, 178293, 178301, 84096, 133250, 39043, 75908, 174214, 14471, 10375, 112780, 84115, 174228, 51352, 166043, 133276, 190625, 84129, 178339, 6308, 26789, 51366, 59554, 198822, 67756, 198832, 182455, 84158, 194751, 47296, 121025, 141506, 125128, 43212, 174285, 190668, 22736, 2257, 84178, 59603, 22737, 2261, 178391, 6360, 92377, 157912, 35038, 55520, 14563, 125156, 18660, 198890, 198896, 145649, 35060, 190710, 55543, 112887, 84217, 141559, 112896, 84224, 35072, 125187, 26885, 157961, 51467, 67854, 6414, 35091, 121111, 31002, 31003, 80157, 194850, 186658, 100650, 166188, 39215, 141619, 166197, 129335, 145719, 129339, 153916, 31037, 22846, 112958, 153922, 39235, 170308, 88389, 129347, 182599, 112967, 198985, 31052, 92496, 51539, 10580, 92503, 108888, 43354, 26972, 141660, 80224, 31073, 47457, 129389, 108910, 26993, 84338, 88437, 55669, 149881, 59772, 141692, 39292, 113023, 194943, 199040, 2437, 10633, 137610, 121231, 88465, 199062, 125335, 22934, 43420, 166301, 108957, 137631, 47522, 47526, 199079, 194984, 59815, 88493, 121263, 154034, 72116, 76214, 182710, 18872, 88512, 121281, 125378, 145859, 137669, 39366, 68038, 149962, 84437, 51672, 81912, 129501, 117221, 199142, 84455, 158183, 27113, 23022, 84463, 158194, 166401, 104964, 76294, 14855, 104971, 170508, 31245, 195084, 55819, 195088, 6674, 182806, 199193, 174618, 199195, 27167, 166431, 109089, 104991, 178725, 14887, 23080, 109096, 129578, 166445, 2607, 137776, 23090, 76339, 170547, 145973, 6710, 178743, 68150, 125497, 154176, 150085, 72261, 23113, 23116, 178768, 31317, 39512, 199256, 154204, 170588, 129628, 178794, 10860, 84594, 105076, 31350, 162429, 96896, 178816, 150146, 178818, 55938, 174726, 10890, 137870, 109199, 113296, 187027, 158356, 31381, 174741, 154261, 84629, 182937, 137883, 187038, 137887, 141984, 109218, 199331, 2726, 35496, 137896, 170666, 39594, 162478, 43695, 35503, 166577, 129718, 129719, 142008, 121530, 199354, 150202, 109245, 154302, 10947, 182983, 10957, 142031, 109274, 72411, 84698, 142042, 84702, 137951, 72413, 154338, 199395, 47844, 23268, 97000, 195305, 88811, 199406, 129775, 137968, 154353, 125683, 2803, 146166, 56055, 158456, 125688, 146172, 197574, 125692, 31485, 174848, 199424, 6915, 60168, 31501, 117519, 56081, 188623, 35603, 121620, 68371, 109335, 68377, 56095, 23330, 138023, 76587, 35629, 97071, 133936, 117556, 68405, 158517, 43831, 64315, 68412, 60228, 43848, 60232, 129875, 88916, 150357, 179033, 68442, 166749, 52064, 150370, 97122, 11107, 27497, 31594, 133994, 7019, 60267, 93039, 179062, 195448, 84857, 72571, 191357, 158589, 31615, 7040, 170881, 56194, 84867, 7042, 150399, 93066, 142222, 162703, 191378, 19346, 93080, 199577, 195482, 179104, 19360, 125859, 129958, 68520, 158633, 162730, 113579, 134057, 15274, 64430, 187316, 31669, 11190, 117687, 158650, 93115, 170940, 162749, 158652, 150459, 150464, 162753, 72638, 72645, 68553, 60363, 113612, 199631, 113615, 64467, 101335, 130007, 183259, 39899, 134109, 11232, 121825, 11236, 68580, 11237, 187369, 19435, 27629, 39920, 125938, 187379, 52212, 3058, 154615, 23544, 105464, 171003, 72703, 105473, 125955, 31749, 93190, 56327, 183304, 125969, 56339, 64531, 23576, 52248, 113691, 138268, 72734, 76832, 52257, 105505, 97313, 175140, 187429, 85030, 150568, 19498, 179244, 150572, 60463, 183346, 60467, 31797, 19510, 146488, 150589, 60479, 191551, 97346, 130115, 60483, 97351, 191567, 68689, 56404, 130133, 199765, 175188, 191577, 187483, 23645, 113761, 126049, 187492, 3173, 179302, 179303, 105576, 117864, 56426, 171113, 121961, 27757, 3178, 31856, 142449, 121972, 23670, 31863, 142455, 175225, 15481, 171131, 146556, 183416, 150654, 146559, 142470, 126091, 44174, 142479, 85134, 35985, 97422, 117910, 183447, 101530, 93339, 64666, 171163, 142494, 171169, 191650, 85162, 183470, 36016, 183479, 48312, 179388, 11454, 146624, 23748, 175306, 158925, 48333, 187597, 187598, 158930, 122067, 130263, 195807, 48354, 187619, 171245, 15600, 48370, 44277, 40186, 138492, 171260, 130302, 199936, 85252, 77066, 175376, 97552, 138516, 11540, 118036, 199962, 23834, 72989, 195870, 118047, 27935, 154912, 64798, 150821, 23846, 3367, 191784, 73001, 85290, 105771, 105769, 48426, 187688, 142639, 179503, 11566, 40245, 40246, 179510, 138557, 105791, 15681, 93506, 200003, 187716, 179521, 101700, 97608, 175433, 175436, 154957, 183630, 85327, 36175, 93521, 60748, 175447, 93529, 183641, 40281, 109918, 191839, 183648, 187747, 134499, 68966, 48488, 85360, 32113, 114036, 89464, 183673, 101753, 118137, 40315, 200062, 105859, 155012, 114053, 23942, 122249, 28044, 118156, 3470, 171409, 179603, 44438, 77209, 60828, 40349, 89504, 28066, 191907, 118180, 60842, 146858, 146860, 191917, 159152, 69040, 179635, 69044, 159157, 89526, 15803, 64958, 196031, 89539, 15816, 28106, 97739, 134604, 97741, 77269, 138711, 179671, 196062, 146915, 155108, 151012, 191974, 159208, 130538, 48619, 118255, 48625, 155124, 56821, 15861, 60921, 191993, 44541, 159231, 56832, 11777, 89602, 200197, 7689, 192010, 24074, 19980, 3597, 134670, 28173, 69131, 81429, 101910, 138776, 151065, 7706, 200220, 69149, 101920, 11809, 122402, 142883, 163363, 93734, 196137, 142890, 3628, 40492, 32304, 146994, 130611, 155188, 122423, 101946, 155194, 48699, 28221, 192065, 187972, 101957, 151109, 114249, 44622, 192079, 167502, 77393, 179804, 97886, 69218, 7781, 175719, 11880, 200298, 56939, 114284, 56942, 134767, 44654, 52850, 44660, 15989, 171639, 32384, 106112, 65154, 138885, 24200, 122505, 159370, 65161, 16013, 134798, 114328, 171675, 106140, 44701, 36516, 196261, 171685, 97959, 73383, 138920, 20134, 97956, 11950, 93870, 81583, 73394, 138930, 28341, 20149, 130746, 52923, 97980, 167615, 32452, 122565, 65220, 57031, 130764, 122575, 40655, 48847, 175829, 73430, 122587, 40667, 147165, 65246, 16099, 57060, 184041, 16106, 102123, 143084, 130797, 36593, 93939, 200436, 81659, 28411, 73468, 114434, 122628, 175878, 81671, 196358, 134925, 175889, 147217, 73490, 163602, 81685, 134934, 179992, 175897, 134938, 192283, 48920, 143132, 179998, 73503, 7968, 73510, 36647, 130856, 48936, 147242, 77610, 200492, 48941, 48937, 48940, 98087, 7986, 106291, 3896, 48953, 122682, 155451, 28475, 147264, 151361, 53058, 130883, 184134, 122694, 77641, 44874, 106317, 184141, 151374, 3920, 98133, 102231, 40793, 126813, 151390, 73567, 143200, 44899, 102245, 184166, 53101, 126830, 69488, 163700, 81781, 151418, 163706, 180091, 196478, 176002, 196484, 155524, 167813, 171912, 114568, 73611, 65424, 151440, 98193, 94101, 90010, 118685, 155554, 171941, 12201, 159659, 163759, 155569, 40881, 192433, 126903, 143288, 159674, 192449, 49090, 188353, 163785, 188363, 192461, 143315, 188372, 24536, 126938, 45023, 159717, 167913, 106476, 163822, 184304, 114678, 163832, 8185, 45051, 81916}\n",
            "154 {2050, 96259, 49155, 24579, 116742, 163846, 83981, 12305, 51218, 51219, 139284, 75797, 22547, 8217, 65562, 43035, 86042, 176157, 137247, 102431, 131108, 4132, 14374, 75817, 26667, 196654, 14386, 176178, 22580, 59445, 8246, 98359, 149559, 79929, 75833, 114743, 198716, 73784, 81982, 79934, 30784, 159809, 14403, 188488, 26697, 75850, 176200, 16462, 79951, 10320, 75857, 67668, 84, 59476, 32855, 178260, 110681, 75866, 180314, 112738, 14435, 43111, 182377, 39018, 39021, 155759, 73840, 143473, 41071, 151667, 184437, 200822, 163959, 63610, 141434, 34940, 125053, 127101, 141438, 141437, 161930, 182412, 59533, 100494, 45199, 84108, 125073, 182413, 32916, 12437, 24724, 135317, 22682, 59548, 82076, 141469, 162, 147618, 141478, 49321, 22698, 59563, 28845, 32941, 141486, 88247, 35000, 135358, 69822, 176321, 190657, 186564, 18629, 41158, 188615, 61640, 8396, 30925, 41164, 59599, 108751, 112849, 73938, 180436, 143576, 159964, 174306, 164067, 6371, 176357, 157928, 166126, 198895, 30961, 127221, 166137, 14588, 6398, 30979, 190725, 106760, 35080, 117000, 61707, 33032, 35085, 270, 30992, 6417, 131346, 172313, 155935, 288, 180513, 4386, 55589, 86311, 295, 155944, 186668, 55598, 12592, 14640, 18741, 69942, 59701, 149813, 129337, 18747, 141630, 33095, 8523, 96589, 98637, 18772, 153941, 72024, 33113, 59736, 33115, 149857, 158051, 6503, 45417, 55657, 123248, 98680, 86399, 49540, 153991, 41352, 108937, 131467, 178571, 145808, 117137, 82324, 94615, 123290, 45472, 86432, 192929, 143779, 145828, 88480, 14758, 2470, 156073, 160174, 37295, 45488, 88494, 39346, 151988, 57781, 151990, 35255, 65977, 41403, 92603, 12731, 39358, 10684, 14784, 94658, 10691, 106949, 119238, 2504, 4553, 70091, 10700, 33231, 131536, 4561, 14802, 188887, 55770, 137703, 39404, 29169, 16882, 47604, 102900, 176630, 57847, 4602, 98822, 8713, 68112, 164370, 2580, 193048, 70169, 33306, 76316, 170527, 18978, 8740, 182821, 16934, 164392, 14889, 16937, 156202, 109102, 201263, 94769, 43570, 21043, 2612, 66102, 76343, 16952, 57913, 66106, 57915, 35382, 12861, 182838, 125500, 78400, 178757, 80453, 191050, 14923, 156237, 68175, 170576, 78416, 160338, 53839, 186964, 57942, 111192, 117340, 16993, 158307, 156261, 162406, 184935, 10856, 184939, 84587, 49775, 27248, 17009, 189042, 184948, 70267, 201349, 62085, 76423, 189064, 45705, 150152, 139909, 148106, 115339, 45712, 43664, 166546, 111252, 58005, 68248, 150170, 33436, 123549, 12957, 123551, 68257, 33443, 74403, 119461, 33447, 55981, 78515, 68276, 78523, 29372, 172733, 129724, 58044, 17089, 80578, 201411, 123588, 62149, 152262, 127682, 160453, 182981, 185034, 13004, 62157, 144076, 80590, 191184, 162512, 720, 174801, 123615, 183009, 76516, 76519, 29420, 13038, 164595, 15093, 113397, 76536, 47867, 62208, 15104, 152321, 13059, 21252, 82689, 60166, 154376, 81973, 39692, 183053, 127758, 41742, 37648, 137999, 162578, 162579, 174868, 109331, 23318, 115474, 172824, 45849, 76569, 15131, 183068, 172828, 95007, 123680, 156454, 131880, 123689, 15146, 176938, 138026, 142125, 2862, 115502, 168744, 140083, 70453, 78648, 2877, 113474, 183111, 41802, 162637, 119632, 19280, 17234, 76627, 138068, 52053, 64339, 45915, 21339, 183132, 29535, 64351, 13158, 80745, 72556, 119666, 144244, 158584, 199545, 80762, 76668, 107389, 121724, 21374, 897, 136065, 115587, 144260, 115588, 31623, 64391, 58249, 74634, 80778, 183179, 907, 906, 13197, 156552, 48017, 33681, 7057, 60310, 115607, 191385, 13213, 183198, 195485, 121762, 58275, 185250, 183206, 179118, 156593, 197555, 175028, 177081, 107453, 41918, 148415, 15296, 962, 41923, 117699, 156611, 123847, 52169, 191437, 158670, 97231, 113616, 95185, 191442, 170958, 3031, 179161, 44000, 160740, 189413, 115688, 68584, 156650, 5097, 1004, 60397, 46060, 41967, 17392, 27634, 29683, 64499, 160754, 25592, 21500, 17408, 115716, 80900, 25612, 91151, 115727, 76820, 48150, 48161, 183333, 46117, 46120, 5161, 156720, 185392, 21555, 179252, 42040, 80954, 58431, 97345, 60482, 152649, 115786, 138315, 31819, 46159, 11344, 181327, 154708, 80981, 13398, 191574, 115801, 58458, 87130, 169056, 48225, 138337, 7267, 58467, 5218, 1127, 13418, 119916, 185454, 81008, 97394, 58485, 119927, 72823, 3194, 173180, 48260, 181381, 21638, 64645, 44172, 191629, 25741, 156818, 154776, 156827, 17563, 201886, 72863, 191647, 138402, 85154, 48292, 199848, 38057, 191658, 150699, 11441, 54450, 11443, 136375, 83132, 144574, 60612, 23750, 15562, 74954, 64725, 38102, 152790, 201944, 144603, 179422, 187617, 97506, 152805, 122087, 111849, 72939, 199917, 40174, 54512, 152824, 165112, 72955, 54526, 165122, 111875, 3331, 1285, 17670, 46344, 99593, 95498, 150798, 48400, 11537, 75029, 62746, 36123, 79132, 3356, 146714, 99615, 9506, 97576, 17708, 15663, 1330, 79160, 189753, 165177, 118075, 116029, 42302, 9535, 79168, 191810, 15683, 7492, 73029, 44358, 183623, 85320, 179529, 193869, 114001, 3413, 99673, 93530, 40287, 161121, 25956, 114022, 28008, 85357, 111982, 128367, 15728, 142704, 185714, 66929, 193908, 142709, 173430, 9591, 34168, 21878, 95608, 17787, 75132, 28029, 140668, 68988, 73080, 75137, 157058, 169345, 5500, 118150, 167303, 73097, 11657, 91534, 60815, 91536, 1430, 171419, 13724, 30108, 101787, 189860, 175525, 15785, 101803, 5547, 196013, 89519, 120239, 187827, 187828, 157109, 189878, 9652, 17847, 144823, 44475, 62912, 77251, 15811, 36293, 175563, 128461, 150991, 116176, 36307, 19925, 1497, 122332, 116190, 44511, 28131, 175591, 56809, 5609, 138731, 202220, 148973, 202225, 79352, 24062, 122369, 175618, 118275, 157187, 71173, 42501, 38401, 54795, 73228, 103951, 77328, 3602, 91667, 58901, 138775, 69143, 71195, 60963, 200231, 122409, 157229, 9774, 28206, 138800, 77361, 28211, 138804, 122421, 79416, 30265, 190011, 54843, 200251, 83522, 42564, 85577, 142923, 202321, 7763, 126547, 181844, 198229, 40537, 54874, 71258, 13913, 77404, 151129, 165471, 9823, 101985, 7778, 138851, 138852, 142949, 67171, 149092, 67169, 75370, 91756, 75377, 77428, 40566, 56951, 54905, 190078, 30337, 24194, 128644, 151178, 128652, 63117, 77454, 183950, 34450, 93844, 128662, 67223, 50840, 138905, 142998, 143004, 71325, 177821, 46749, 200353, 32427, 147117, 67248, 171698, 118450, 75442, 44725, 14005, 40631, 32444, 34492, 108222, 157376, 147137, 28357, 95943, 118472, 198347, 122571, 3787, 130770, 104147, 134866, 190165, 36562, 22227, 11992, 190164, 36570, 83676, 157406, 153311, 147169, 188130, 171746, 50914, 192226, 163562, 34539, 79596, 52972, 161518, 3823, 9967, 169713, 151282, 5874, 157427, 22259, 120566, 46841, 134906, 132861, 169729, 153346, 130819, 98050, 46853, 194309, 124682, 48911, 134929, 42769, 122642, 12052, 171798, 73496, 67355, 7966, 50977, 159521, 7971, 116513, 10021, 3880, 130857, 169770, 139049, 53038, 20271, 184115, 190265, 14139, 198460, 104254, 145218, 67395, 12099, 46917, 3912, 3914, 159563, 182094, 124753, 10069, 182103, 10071, 22362, 163678, 12128, 22368, 14178, 184163, 5988, 28514, 184167, 1895, 42858, 184174, 137071, 77680, 145263, 46962, 126835, 81778, 200565, 120691, 143229, 73597, 81793, 200578, 30595, 173958, 159622, 34697, 126859, 14220, 198539, 139150, 75663, 42896, 26514, 96152, 180122, 139164, 143262, 34720, 75684, 126884, 4006, 75685, 192424, 87981, 12206, 14255, 143283, 79796, 26547, 180147, 200628, 30654, 40895, 40899, 79813, 49094, 178119, 53190, 178121, 143302, 96201, 73673, 108491, 178132, 128980, 182231, 47066, 14301, 18398, 133088, 12257, 85987, 120804, 34791, 75751, 151529, 102379, 65517, 163824, 61424, 188404, 14325, 59380, 124919, 22525, 165887}\n"
          ]
        }
      ],
      "source": [
        "for i, community in enumerate(partitions_TG):\n",
        "    if len(community)>1000:\n",
        "        print(i,community)"
      ]
    },
    {
      "cell_type": "code",
      "execution_count": null,
      "metadata": {
        "colab": {
          "base_uri": "https://localhost:8080/"
        },
        "id": "yaMtH5OMflna",
        "outputId": "00f6e110-e0b8-4f46-c9e3-89950c5f1905"
      },
      "outputs": [
        {
          "output_type": "stream",
          "name": "stdout",
          "text": [
            "74\n"
          ]
        }
      ],
      "source": [
        "c=0\n",
        "for i in ListAnomalNode_test:\n",
        "    for node in test_G.nodes():\n",
        "        if node==i:\n",
        "            #print(node)\n",
        "            c=c+1\n",
        "print(c)\n"
      ]
    },
    {
      "cell_type": "code",
      "execution_count": null,
      "metadata": {
        "id": "Pufc7EV6Du5h"
      },
      "outputs": [],
      "source": [
        "def Get_FinancialFlow(NodeList,featurename,df):\n",
        "    filtered_df = df[df['NewNodeId'].isin(NodeList)]\n",
        "    sumofvalue=filtered_df[featurename].sum()\n",
        "    #print(sumofvalue)\n",
        "\n",
        "    return sumofvalue"
      ]
    },
    {
      "cell_type": "code",
      "source": [
        "def Get_CommunityID(node , membership):\n",
        "    for index , item in enumerate(membership):\n",
        "        CMIndex=membership[index][0]\n",
        "        CMNode=membership[index][1]\n",
        "        if node in CMNode:\n",
        "            break\n",
        "    return CMIndex"
      ],
      "metadata": {
        "id": "cEd4VmOVqiVc"
      },
      "execution_count": null,
      "outputs": []
    },
    {
      "cell_type": "code",
      "source": [
        "def Get_edgeList(DF_partitions_List,G):\n",
        "    ColumnName=['Index','Nodelist']\n",
        "    membership=list(DF_partitions_List[ColumnName].to_numpy())\n",
        "    edglistem=[]\n",
        "    cnt=0\n",
        "    for node1,node2 in G.edges:\n",
        "        CMIndex_node1=Get_CommunityID(node1 , membership)\n",
        "        CMIndex_node2=Get_CommunityID(node2, membership)\n",
        "        if CMIndex_node1 != CMIndex_node2:\n",
        "            edgeitem=[CMIndex_node1 , CMIndex_node2]\n",
        "            edglistem.append(edgeitem)\n",
        "            cnt=cnt+1\n",
        "            if cnt % 20 == 0:\n",
        "                print(f\" count of Edge:  {cnt}, Total: {len(membership)})\"\n",
        "                )\n",
        "    #-----------------------------------------------\n",
        "    columnname=['source_id','destination_id']\n",
        "    DF_AccGrpEdge=pd.DataFrame(edglistem ,  columns=columnname)\n",
        "    return DF_AccGrpEdge"
      ],
      "metadata": {
        "id": "X-8L8m6Gp1-l"
      },
      "execution_count": null,
      "outputs": []
    },
    {
      "cell_type": "code",
      "execution_count": null,
      "metadata": {
        "colab": {
          "base_uri": "https://localhost:8080/"
        },
        "id": "ENUhySeJ7BWF",
        "outputId": "466b7709-c6ff-4951-d536-6965b1516ca4"
      },
      "outputs": [
        {
          "data": {
            "text/plain": [
              "{33395, 168146}"
            ]
          },
          "execution_count": 353,
          "metadata": {},
          "output_type": "execute_result"
        }
      ],
      "source": [
        "#DF_partitions_List_TG['Nodelist'][1]"
      ]
    },
    {
      "cell_type": "code",
      "execution_count": null,
      "metadata": {
        "id": "hVjc7uR94ynt"
      },
      "outputs": [],
      "source": [
        "partitions_List_tst=Get_partitionList(partitions_TST ,test_G , ListAnomalNode_test, testdata_df)\n",
        "#columnname=['Index','Nodelist' ,'Subgraph' ,'subgraph_embedding','Laplacian' , 'embedded_Laplacian','len_Community' , 'CntAnomalNode','f_amount_in','f_amount_out','f_nr_trans_in','f_nr_trans_out','Label']\n",
        "columnname=['Index','Nodelist' , 'len_Community' , 'CntAnomalNode','f_amount_in','f_amount_out','f_nr_trans_in','f_nr_trans_out','Label']\n",
        "DF_partitions_List_TST=pd.DataFrame(partitions_List_tst ,  columns=columnname)\n",
        "DF_partitions_List_TST.to_csv(Finalpath +  'partitions_List_TST.csv', index=False)"
      ]
    },
    {
      "cell_type": "code",
      "source": [
        "partitions_List_TG=Get_partitionList(partitions_TG ,train_G , ListAnomalNode_train, traindata_df)\n",
        "DF_partitions_List_TG=pd.DataFrame(partitions_List_TG ,  columns=columnname)\n",
        "DF_partitions_List_TG.to_csv(Finalpath +  'partitions_List_TR.csv', index=False)"
      ],
      "metadata": {
        "id": "Ob9Mg2EmlcwY"
      },
      "execution_count": null,
      "outputs": []
    },
    {
      "cell_type": "code",
      "source": [
        "DF_AccGrpEdge_TST=Get_edgeList(DF_partitions_List_TST,test_G)\n",
        "DF_AccGrpEdge_TST.to_csv(Finalpath +  'AccGrpEdge_test.csv', index=False)\n",
        "DF_AccGrpEdge_TR=Get_edgeList(DF_partitions_List_TG,train_G)\n",
        "DF_AccGrpEdge_TR.to_csv(Finalpath +  'AccGrpEdge_train.csv', index=False)"
      ],
      "metadata": {
        "id": "XqGFNxCXPusy"
      },
      "execution_count": null,
      "outputs": []
    },
    {
      "cell_type": "code",
      "execution_count": null,
      "metadata": {
        "id": "yXvtQYztkMI0"
      },
      "outputs": [],
      "source": [
        "#unique_df = DF_AccGrpEdge.drop_duplicates()"
      ]
    },
    {
      "cell_type": "code",
      "execution_count": null,
      "metadata": {
        "id": "oFG8iFlakkdL"
      },
      "outputs": [],
      "source": [
        "# c=0\n",
        "# for i in ListAnomalNode_test:\n",
        "#     for node in test_G.nodes():\n",
        "#         if node==i:\n",
        "#             print(node)\n",
        "# print(c)"
      ]
    },
    {
      "cell_type": "markdown",
      "metadata": {
        "id": "ggtcpXObqX5G"
      },
      "source": [
        "# Create AccGrp Graph"
      ]
    },
    {
      "cell_type": "code",
      "execution_count": null,
      "metadata": {
        "id": "qZuhA6jPqbuc"
      },
      "outputs": [],
      "source": [
        "train_Grpedgedf=pd.read_csv(Finalpath + 'AccGrpEdge_train.csv')\n",
        "test_Grpedgedf=pd.read_csv(Finalpath + 'AccGrpEdge_test.csv')\n",
        "\n",
        "train_partitiondf=pd.read_csv(Finalpath + 'partitions_List_TR.csv')\n",
        "test_partitiondf=pd.read_csv(Finalpath + 'partitions_List_TST.csv')"
      ]
    },
    {
      "cell_type": "code",
      "source": [
        "print('train_partitiondf:',len(train_partitiondf))\n",
        "print('test_partitiondf', len(test_partitiondf))"
      ],
      "metadata": {
        "colab": {
          "base_uri": "https://localhost:8080/"
        },
        "id": "7_2dCW26VfSC",
        "outputId": "8ac769cc-39a7-4999-b629-77f7622b5359"
      },
      "execution_count": null,
      "outputs": [
        {
          "output_type": "stream",
          "name": "stdout",
          "text": [
            "train_partitiondf: 13767\n",
            "test_partitiondf 2098\n"
          ]
        }
      ]
    },
    {
      "cell_type": "code",
      "source": [
        "#AttrEge=['cum_amount', 'nr_transactions']\n",
        "Grp_Train_G=nx.from_pandas_edgelist(\n",
        "            df=train_Grpedgedf,\n",
        "            source=\"source_id\",\n",
        "            target=\"destination_id\",\n",
        "            #edge_attr=AttrEge,\n",
        "            create_using=nx.DiGraph\n",
        "        )\n",
        "print('number_of_edges for train graph: ',Grp_Train_G.number_of_edges())\n",
        "print('number_of_nodes for train graph: ',Grp_Train_G.number_of_nodes())"
      ],
      "metadata": {
        "id": "J_Aewerw1W7Z",
        "colab": {
          "base_uri": "https://localhost:8080/"
        },
        "outputId": "6ad1a6e2-42d9-46ea-94ba-b38a3834bb6d"
      },
      "execution_count": null,
      "outputs": [
        {
          "output_type": "stream",
          "name": "stdout",
          "text": [
            "number_of_edges for train graph:  80846\n",
            "number_of_nodes for train graph:  11419\n"
          ]
        }
      ]
    },
    {
      "cell_type": "code",
      "execution_count": null,
      "metadata": {
        "colab": {
          "base_uri": "https://localhost:8080/"
        },
        "id": "SrIUwlCkq0IB",
        "outputId": "de2fb07b-b4e6-4e0d-e91d-fdf933f84651"
      },
      "outputs": [
        {
          "output_type": "stream",
          "name": "stdout",
          "text": [
            "number_of_edges for test graph:  3818\n",
            "number_of_nodes for test graph:  1252\n"
          ]
        }
      ],
      "source": [
        "#AttrEge=['cum_amount', 'nr_transactions']\n",
        "Grp_Test_G=nx.from_pandas_edgelist(\n",
        "            df=test_Grpedgedf,\n",
        "            source=\"source_id\",\n",
        "            target=\"destination_id\",\n",
        "            #edge_attr=AttrEge,\n",
        "            create_using=nx.DiGraph\n",
        "        )\n",
        "print('number_of_edges for test graph: ',Grp_Test_G.number_of_edges())\n",
        "print('number_of_nodes for test graph: ',Grp_Test_G.number_of_nodes())"
      ]
    },
    {
      "cell_type": "code",
      "source": [
        "nodelist=Grp_Train_G.nodes()\n",
        "for node in list(train_partitiondf['Index'].to_numpy()):\n",
        "    if node not in nodelist:\n",
        "        Grp_Train_G.add_edge(node,node)\n",
        "        #print(node)"
      ],
      "metadata": {
        "id": "-2oINw0Y1e9i"
      },
      "execution_count": null,
      "outputs": []
    },
    {
      "cell_type": "code",
      "execution_count": null,
      "metadata": {
        "id": "cprW4b0g8Ibg"
      },
      "outputs": [],
      "source": [
        "#-----------------------------------------------------------------\n",
        "nodelist=Grp_Test_G.nodes()\n",
        "for node in list(test_partitiondf['Index'].to_numpy()):\n",
        "    if node not in nodelist:\n",
        "        Grp_Test_G.add_edge(node,node)\n",
        "        #print(node)\n"
      ]
    },
    {
      "cell_type": "code",
      "execution_count": null,
      "metadata": {
        "colab": {
          "base_uri": "https://localhost:8080/"
        },
        "id": "DntU3HzS9haW",
        "outputId": "4c15c76e-506f-4803-8f30-e7064a4582ba"
      },
      "outputs": [
        {
          "output_type": "stream",
          "name": "stdout",
          "text": [
            "number_of_edges:  83194\n",
            "number_of_nodes:  13767\n",
            "----------------------------------------------\n",
            "number_of_edges:  4664\n",
            "number_of_nodes:  2098\n"
          ]
        }
      ],
      "source": [
        "print('number_of_edges: ',Grp_Train_G.number_of_edges())\n",
        "print('number_of_nodes: ',Grp_Train_G.number_of_nodes())\n",
        "print('----------------------------------------------')\n",
        "print('number_of_edges: ',Grp_Test_G.number_of_edges())\n",
        "print('number_of_nodes: ',Grp_Test_G.number_of_nodes())"
      ]
    },
    {
      "cell_type": "code",
      "execution_count": null,
      "metadata": {
        "colab": {
          "base_uri": "https://localhost:8080/"
        },
        "id": "sTL9H1IlM-kk",
        "outputId": "0bada7ca-4a27-4dd0-84a2-9e09ca017d23"
      },
      "outputs": [
        {
          "output_type": "stream",
          "name": "stderr",
          "text": [
            "/usr/local/lib/python3.10/dist-packages/dgl/heterograph.py:92: DGLWarning: Recommend creating graphs by `dgl.graph(data)` instead of `dgl.DGLGraph(data)`.\n",
            "  dgl_warning(\n"
          ]
        }
      ],
      "source": [
        "# Grp_train_graph=dgl.DGLGraph(Grp_Train_G)\n",
        "# Grp_test_graph=dgl.DGLGraph(Grp_Test_G)"
      ]
    },
    {
      "cell_type": "markdown",
      "source": [
        "# Subgraph Embedding and Laplacian Embedding For Feature AccNode Graph"
      ],
      "metadata": {
        "id": "1DcoRH-nz7r9"
      }
    },
    {
      "cell_type": "code",
      "source": [
        "def embedding_Subgraph(subgraph, dim):\n",
        "    node2vec = Node2Vec(subgraph, dimensions=dim)\n",
        "    # Embed nodes\n",
        "    modelTG = node2vec.fit(window=10, min_count=1, batch_words=4)\n",
        "    embeddings = modelTG.wv\n",
        "    node_embeddingslist = embeddings.vectors.tolist()\n",
        "    subgraph_embedding = np.mean(node_embeddingslist, axis=0)\n",
        "    #subgraph_embedding=torch.tensor(subgraph_embedding , dtype = torch.float)\n",
        "    return subgraph_embedding"
      ],
      "metadata": {
        "id": "gsYsYQTM0MxD"
      },
      "execution_count": null,
      "outputs": []
    },
    {
      "cell_type": "code",
      "source": [
        "from sklearn.manifold import TSNE\n",
        "\n",
        "def embedding_Laplacian(matrix, n_components=2 , perplexity=1):\n",
        "    inputmatrix=np.asarray(matrix)\n",
        "    learning_rate=0.2\n",
        "    n_iter=250\n",
        "    tsne = TSNE(n_components=n_components, perplexity=perplexity, learning_rate=learning_rate, n_iter=n_iter)\n",
        "    embedded_matrix = tsne.fit_transform(inputmatrix)\n",
        "    return embedded_matrix"
      ],
      "metadata": {
        "id": "G6ABFd_30X3t"
      },
      "execution_count": null,
      "outputs": []
    },
    {
      "cell_type": "code",
      "source": [
        "def Get_SubgraphEmbedding(partitions ,G ):\n",
        "    Embedding_List=[]\n",
        "    cnt=0\n",
        "    for index , community  in enumerate(partitions):\n",
        "        subgraph = G.subgraph(community)\n",
        "        A = nx.adjacency_matrix(subgraph)\n",
        "        degrees = np.sum(A, axis=1)\n",
        "        D = np.diag(degrees)\n",
        "        L = D - A\n",
        "        #------------------------------------------embedding SubGraph-------------------------------------------\n",
        "        subgraph_embedding =embedding_Subgraph(subgraph,2)\n",
        "        #-------------------------------------------------------------------------------------------------------\n",
        "        embedded_L=embedding_Laplacian(L)\n",
        "        embedded_Laplacian=np.mean(embedded_L, axis=0)\n",
        "        item=[index,community,subgraph,subgraph_embedding[0],subgraph_embedding[1],embedded_Laplacian[0],embedded_Laplacian[1],len(community)]\n",
        "        Embedding_List.append(item)\n",
        "        cnt=cnt+1\n",
        "        if cnt % 20 == 0:\n",
        "            print('---------------------------------------------------------------')\n",
        "            print(f\" count of Edge:  {cnt}, Total: {len(partitions)})\"\n",
        "                 )\n",
        "            print('---------------------------------------------------------------')\n",
        "    return Embedding_List"
      ],
      "metadata": {
        "id": "975lsh8x-zuO"
      },
      "execution_count": null,
      "outputs": []
    },
    {
      "cell_type": "code",
      "source": [
        "for index , community  in enumerate(partitions_TST):\n",
        "    if index==170:\n",
        "        subgraph = test_G.subgraph(community)"
      ],
      "metadata": {
        "id": "UCCHixIN2IJ2"
      },
      "execution_count": null,
      "outputs": []
    },
    {
      "cell_type": "code",
      "source": [
        "plt.figure(figsize=(6, 4))\n",
        "nx.draw(subgraph, with_labels=True, node_color='lightblue', font_weight='bold')\n",
        "plt.title('Subgraph')\n",
        "plt.show()"
      ],
      "metadata": {
        "id": "IUXs2TPm2aVZ"
      },
      "execution_count": null,
      "outputs": []
    },
    {
      "cell_type": "code",
      "source": [
        "subgraph_embedding =embedding_Subgraph(subgraph,2)"
      ],
      "metadata": {
        "colab": {
          "base_uri": "https://localhost:8080/",
          "height": 66,
          "referenced_widgets": [
            "9bcd54a78891409c9cbde8eb20a6da1a",
            "a35db2bc6d0644808f4dcf3b58cc9126",
            "2a3a02a8e3ab496bbda87dc29243a914",
            "392edb81d6f04e7bae9ceb87c0906031",
            "c7b61e505d144658a45f0ed6936b9a68",
            "54f91727d5804453a3d50b5c9d8db409",
            "466267b54de64bd1b201c11540ebd995",
            "6dab2b9e55e44f97b9f6f9a308e6068a",
            "9bf09e51a77c44a782745c3751440117",
            "ee8c28747e434e749f95f8dde31bdc3e",
            "f7fca206745b4ddca4a3d08f5f3f243d"
          ]
        },
        "id": "jKZFmRuW3BGc",
        "outputId": "14a4b2eb-babd-4f54-c057-4776c26cebf9"
      },
      "execution_count": null,
      "outputs": [
        {
          "output_type": "display_data",
          "data": {
            "text/plain": [
              "Computing transition probabilities:   0%|          | 0/13 [00:00<?, ?it/s]"
            ],
            "application/vnd.jupyter.widget-view+json": {
              "version_major": 2,
              "version_minor": 0,
              "model_id": "9bcd54a78891409c9cbde8eb20a6da1a"
            }
          },
          "metadata": {}
        },
        {
          "output_type": "stream",
          "name": "stderr",
          "text": [
            "Generating walks (CPU: 1): 100%|██████████| 10/10 [00:00<00:00, 5277.85it/s]\n"
          ]
        }
      ]
    },
    {
      "cell_type": "code",
      "source": [
        "columnname=['Index','Nodelist' ,'Subgraph' ,'subgraph_embedding_0','subgraph_embedding_1', 'embedded_Laplacian_0' ,'embedded_Laplacian_1', 'communitySize']\n",
        "Embedding_List_tst=Get_SubgraphEmbedding(partitions_TST ,test_G)\n",
        "DF_Embedding_List_TST=pd.DataFrame(Embedding_List_tst ,  columns=columnname)\n",
        "DF_Embedding_List_TST.to_csv(Finalpath +  'Embedding_List_TST.csv', index=False)"
      ],
      "metadata": {
        "id": "QpzXd-3I_aOi"
      },
      "execution_count": null,
      "outputs": []
    },
    {
      "cell_type": "code",
      "source": [
        "Embedding_List_TR=Get_SubgraphEmbedding(partitions_TG ,train_G)\n",
        "DF_Embedding_List_TR=pd.DataFrame(Embedding_List_TR ,  columns=columnname)\n",
        "DF_Embedding_List_TR.to_csv(Finalpath +  'Embedding_List_TR.csv', index=False)"
      ],
      "metadata": {
        "id": "Mu7uBb9HNIZH"
      },
      "execution_count": null,
      "outputs": []
    },
    {
      "cell_type": "code",
      "source": [
        "# def str_to_list(s):\n",
        "#     # Remove curly braces and split by comma\n",
        "#     s = s.strip('{}').split(',')\n",
        "#     # Convert each element to an integer\n",
        "#     return [int(x) for x in s]\n",
        "\n",
        "# newlist=[]\n",
        "# for _, row in test_df.iterrows():\n",
        "#     CMNode=str_to_list(row['subgraph_embedding'])\n",
        "#     CMIndex=row['Index']\n",
        "#     itm=[CMNode,CMIndex]\n",
        "#     newlist.append(itm)\n",
        "\n"
      ],
      "metadata": {
        "id": "wemDAtTd8bno"
      },
      "execution_count": null,
      "outputs": []
    },
    {
      "cell_type": "markdown",
      "source": [
        "#Prepare Feature for Training and Test"
      ],
      "metadata": {
        "id": "KI08df1EsUf7"
      }
    },
    {
      "cell_type": "code",
      "source": [
        "train_embeddingdf=pd.read_csv(Finalpath + 'Embedding_List_TR.csv')\n",
        "test_embeddingdf=pd.read_csv(Finalpath + 'Embedding_List_TST.csv')"
      ],
      "metadata": {
        "id": "JwJSuTUXsYi-"
      },
      "execution_count": null,
      "outputs": []
    },
    {
      "cell_type": "code",
      "source": [
        "columnname=['Index','subgraph_embedding_0','subgraph_embedding_1','embedded_Laplacian_0','embedded_Laplacian_1']\n",
        "test_Embedding_List_df=pd.read_csv(Finalpath + 'Embedding_List_TST.csv')\n",
        "test_Embedding_List_df=test_Embedding_List_df[columnname]\n",
        "Feature_test_df = pd.merge(test_Embedding_List_df,test_partitiondf, on='Index', how='inner')\n",
        "FeaturName=['Index','subgraph_embedding_0','subgraph_embedding_1','embedded_Laplacian_0','embedded_Laplacian_1','f_amount_in','f_amount_out','f_nr_trans_in','f_nr_trans_out']\n",
        "#Feature_test_df['subgraph_embedding'] = Feature_test_df.apply(lambda row: [row['subgraph_embedding_0'], row['subgraph_embedding_1']], axis=1)\n",
        "#Feature_test_df['embedded_Laplacian'] = Feature_test_df.apply(lambda row: [row['embedded_Laplacian_0'], row['embedded_Laplacian_1']], axis=1)\n",
        "#Feature_test_df['Financial'] = Feature_test_df.apply(lambda row: [row['f_amount_in'], row['f_amount_out']], axis=1)\n",
        "#Feature_test_df['Transactiion'] = Feature_test_df.apply(lambda row: [row['f_nr_trans_in'], row['f_nr_trans_out']], axis=1)\n",
        "#Col_Feature_Final=['subgraph_embedding','embedded_Laplacian','Financial','Transactiion']\n",
        "Col_Feature_Final=[ 'embedded_Laplacian_0','embedded_Laplacian_1']\n",
        "F_TST_df=Feature_test_df[Col_Feature_Final]\n",
        "Grp_X_test=torch.tensor(F_TST_df.values.tolist(), dtype=torch.float)\n",
        "Grp_y_test=torch.tensor((Feature_test_df['Label'].values).tolist(), dtype=torch.long)"
      ],
      "metadata": {
        "id": "c3o0qDzsZHOj"
      },
      "execution_count": null,
      "outputs": []
    },
    {
      "cell_type": "code",
      "source": [
        "train_Embedding_List_df=pd.read_csv(Finalpath + 'Embedding_List_TR.csv')\n",
        "train_Embedding_List_df=train_Embedding_List_df[columnname]\n",
        "Feature_train_df = pd.merge(train_Embedding_List_df,train_partitiondf, on='Index', how='inner')\n",
        "FeaturName=['Index','subgraph_embedding_0','subgraph_embedding_1','embedded_Laplacian_0','embedded_Laplacian_1','f_amount_in','f_amount_out','f_nr_trans_in','f_nr_trans_out']\n",
        "#Feature_train_df['subgraph_embedding'] = Feature_train_df.apply(lambda row: [row['subgraph_embedding_0'], row['subgraph_embedding_1']], axis=1)\n",
        "#Feature_train_df['embedded_Laplacian'] = Feature_train_df.apply(lambda row: [row['embedded_Laplacian_0'], row['embedded_Laplacian_1']], axis=1)\n",
        "#Feature_train_df['Financial'] = Feature_train_df.apply(lambda row: [row['f_amount_in'], row['f_amount_out']], axis=1)\n",
        "#Feature_train_df['Transactiion'] = Feature_train_df.apply(lambda row: [row['f_nr_trans_in'], row['f_nr_trans_out']], axis=1)\n",
        "#Col_Feature_Final=['subgraph_embedding','embedded_Laplacian','Financial','Transactiion']\n",
        "Col_Feature_Final=[ 'embedded_Laplacian_0','embedded_Laplacian_1']\n",
        "F_TR_df=Feature_train_df[Col_Feature_Final]\n",
        "Grp_X_train=torch.tensor(F_TR_df.values.tolist(), dtype=torch.float)\n",
        "Grp_y_train=torch.tensor((Feature_train_df['Label'].values).tolist(), dtype=torch.long)"
      ],
      "metadata": {
        "id": "BYvx5YBBZHHT"
      },
      "execution_count": null,
      "outputs": []
    },
    {
      "cell_type": "code",
      "source": [
        "# SubgraphList=[]\n",
        "# for _, row in Feature_test_df.iterrows():\n",
        "#     item=[row['subgraph_embedding_0'], row['subgraph_embedding_1']]\n",
        "#     SubgraphList.append(item)"
      ],
      "metadata": {
        "id": "OFHs_qHLGxG0"
      },
      "execution_count": null,
      "outputs": []
    },
    {
      "cell_type": "code",
      "source": [
        "# def save_embeddings(embeddings, filename):\n",
        "#     with open(filename, 'w') as f:\n",
        "#         num_embeddings, embedding_dim = len(embeddings), len(embeddings[0])\n",
        "#         f.write(f\"{num_embeddings} {embedding_dim}\\n\")\n",
        "#         for i, emb in enumerate(embeddings):\n",
        "#             word = f\"word{i}\"  # Generating a placeholder word\n",
        "#             emb_str = \" \".join(str(x) for x in emb)\n",
        "#             f.write(f\"{word} {emb_str}\\n\")\n",
        "# save_embeddings(SubgraphList, Finalpath+\"embeddings_sub.emb\")\n",
        "# SubgraphList_emb=KeyedVectors.load_word2vec_format(Finalpath +  'embeddings_sub.emb')\n",
        "# node_embeddingslist = SubgraphList_emb.vectors.tolist()"
      ],
      "metadata": {
        "id": "-caxnHuJPT2l"
      },
      "execution_count": null,
      "outputs": []
    },
    {
      "cell_type": "code",
      "source": [
        "Grp_X_train.shape"
      ],
      "metadata": {
        "colab": {
          "base_uri": "https://localhost:8080/"
        },
        "id": "ks3AMQEzI_a5",
        "outputId": "6881ffde-ac84-4504-86db-6077878d54d6"
      },
      "execution_count": null,
      "outputs": [
        {
          "output_type": "execute_result",
          "data": {
            "text/plain": [
              "torch.Size([13767, 2])"
            ]
          },
          "metadata": {},
          "execution_count": 29
        }
      ]
    },
    {
      "cell_type": "markdown",
      "source": [
        "# Community Info"
      ],
      "metadata": {
        "id": "qOBEIKFVPYwX"
      }
    },
    {
      "cell_type": "code",
      "source": [
        "condition = train_partitiondf['Label'] ==1\n",
        "rows_count = len(train_partitiondf[condition])\n",
        "print('count ot anomal community for train data:',rows_count)\n",
        "condition = test_partitiondf['Label'] ==1\n",
        "rows_count = len(test_partitiondf[condition])\n",
        "print('count ot anomal community for test data:',rows_count)\n"
      ],
      "metadata": {
        "colab": {
          "base_uri": "https://localhost:8080/"
        },
        "id": "LdeJM6ziPbys",
        "outputId": "2f7b3853-193f-4d92-a3f5-c690cf29c033"
      },
      "execution_count": null,
      "outputs": [
        {
          "output_type": "stream",
          "name": "stdout",
          "text": [
            "count ot anomal community for train data: 227\n",
            "count ot anomal community for test data: 57\n"
          ]
        }
      ]
    },
    {
      "cell_type": "code",
      "source": [
        "PartInfo=train_embeddingdf.values.tolist()"
      ],
      "metadata": {
        "id": "0Rit_55ompCC"
      },
      "execution_count": null,
      "outputs": []
    },
    {
      "cell_type": "code",
      "source": [
        "def Plot_community(CommunityID):\n",
        "    subgraph_nodes = set(map(int, PartInfo[CommunityID][1].strip('{}').split(',')))\n",
        "    subgraph=train_G.subgraph(subgraph_nodes)\n",
        "    condition_column='NewNodeId'\n",
        "    condition_value=subgraph_nodes\n",
        "    selected_rows = nodedf[nodedf[condition_column].isin(subgraph_nodes)]\n",
        "    labels_list = selected_rows['L_alert'].values.tolist()\n",
        "    labels_dict = {node: label for node, label in zip(subgraph.nodes, labels_list)}\n",
        "    nx.set_node_attributes(subgraph, labels_dict, 'label')\n",
        "    node_colors = {1: 'red', 0: 'blue'}\n",
        "    colors = [node_colors[subgraph.nodes[node]['label']] for node in subgraph.nodes]\n",
        "    pos = nx.spring_layout(subgraph)  # Positions for all nodes\n",
        "    nx.draw(subgraph, pos, node_color=colors, with_labels=False, node_size=100)\n",
        "    plt.show()\n",
        "    print('Number of Node in community: ', len(subgraph_nodes))\n",
        "\n",
        "\n",
        "\n"
      ],
      "metadata": {
        "id": "CkFc3MPRq8eS"
      },
      "execution_count": null,
      "outputs": []
    },
    {
      "cell_type": "code",
      "source": [
        "subgraph_nodes = set(map(int, PartInfo[3764][1].strip('{}').split(',')))\n",
        "subgraph=train_G.subgraph(subgraph_nodes)"
      ],
      "metadata": {
        "id": "zqUjO64sl1tb"
      },
      "execution_count": null,
      "outputs": []
    },
    {
      "cell_type": "code",
      "source": [
        "condition_column='NewNodeId'\n",
        "condition_value=subgraph_nodes\n",
        "#filtered_df =  nodedf[nodedf[condition_column].apply(lambda x: isinstance(subgraph_nodes, set))]\n",
        "selected_rows = nodedf[nodedf[condition_column].isin(subgraph_nodes)]"
      ],
      "metadata": {
        "id": "_D6EJ8l5fvPK"
      },
      "execution_count": null,
      "outputs": []
    },
    {
      "cell_type": "code",
      "source": [
        "labels_list = selected_rows['L_alert'].values.tolist()\n",
        "labels_dict = {node: label for node, label in zip(subgraph.nodes, labels_list)}"
      ],
      "metadata": {
        "id": "j6UtESTkVjWF"
      },
      "execution_count": null,
      "outputs": []
    },
    {
      "cell_type": "code",
      "source": [
        "nx.set_node_attributes(subgraph, labels_dict, 'label')"
      ],
      "metadata": {
        "id": "P5ONSmrcolF7"
      },
      "execution_count": null,
      "outputs": []
    },
    {
      "cell_type": "code",
      "source": [
        "# for node in subgraph.nodes:\n",
        "#     print(subgraph.nodes[node]['label'])"
      ],
      "metadata": {
        "id": "6USUdyL5o2sS"
      },
      "execution_count": null,
      "outputs": []
    },
    {
      "cell_type": "code",
      "source": [
        "node_colors = {1: 'red', 0: 'blue'}\n",
        "colors = [node_colors[subgraph.nodes[node]['label']] for node in subgraph.nodes]"
      ],
      "metadata": {
        "id": "Q6Ex8vmin7TD"
      },
      "execution_count": null,
      "outputs": []
    },
    {
      "cell_type": "code",
      "source": [
        "pos = nx.spring_layout(subgraph )  # Positions for all nodes\n",
        "nx.draw(subgraph, pos, node_color=colors, with_labels=False , font_weight='bold', node_size=100, font_size=12, edge_color='gray', width=1)\n",
        "plt.show()"
      ],
      "metadata": {
        "colab": {
          "base_uri": "https://localhost:8080/",
          "height": 516
        },
        "id": "74Tb8hk1Xdzb",
        "outputId": "0820ab6f-6e12-43dc-9cb2-41b66583ec92"
      },
      "execution_count": null,
      "outputs": [
        {
          "output_type": "display_data",
          "data": {
            "text/plain": [
              "<Figure size 640x480 with 1 Axes>"
            ],
            "image/png": "[encoded data removed]"
          },
          "metadata": {}
        }
      ]
    },
    {
      "cell_type": "code",
      "source": [
        "Plot_community(1980)"
      ],
      "metadata": {
        "colab": {
          "base_uri": "https://localhost:8080/",
          "height": 533
        },
        "id": "x6Y8XzQ8rcH-",
        "outputId": "2b21f8d3-1f8a-4fd8-de69-c3b4508e2644"
      },
      "execution_count": null,
      "outputs": [
        {
          "output_type": "display_data",
          "data": {
            "text/plain": [
              "<Figure size 640x480 with 1 Axes>"
            ],
            "image/png": "[encoded data removed]"
          },
          "metadata": {}
        },
        {
          "output_type": "stream",
          "name": "stdout",
          "text": [
            "Number of Node in community:  48\n"
          ]
        }
      ]
    },
    {
      "cell_type": "code",
      "source": [
        "Plot_community(1803)"
      ],
      "metadata": {
        "colab": {
          "base_uri": "https://localhost:8080/",
          "height": 533
        },
        "id": "Fwsh0oRSs_xh",
        "outputId": "10be1467-2923-4ed3-e4d3-7b2e8be6b2de"
      },
      "execution_count": null,
      "outputs": [
        {
          "output_type": "display_data",
          "data": {
            "text/plain": [
              "<Figure size 640x480 with 1 Axes>"
            ],
            "image/png": "[encoded data removed]"
          },
          "metadata": {}
        },
        {
          "output_type": "stream",
          "name": "stdout",
          "text": [
            "Number of Node in community:  11\n"
          ]
        }
      ]
    },
    {
      "cell_type": "code",
      "source": [
        "Plot_community(261)"
      ],
      "metadata": {
        "colab": {
          "base_uri": "https://localhost:8080/",
          "height": 533
        },
        "id": "2VukgkhstXl5",
        "outputId": "4853ceff-e6cc-4b72-ad66-fd0aae1544b7"
      },
      "execution_count": null,
      "outputs": [
        {
          "output_type": "display_data",
          "data": {
            "text/plain": [
              "<Figure size 640x480 with 1 Axes>"
            ],
            "image/png": "[encoded data removed]"
          },
          "metadata": {}
        },
        {
          "output_type": "stream",
          "name": "stdout",
          "text": [
            "Number of Node in community:  2\n"
          ]
        }
      ]
    },
    {
      "cell_type": "markdown",
      "metadata": {
        "id": "GTeEuMJ7UH10"
      },
      "source": [
        "# ACCGroup prediction with Laplacian Feature"
      ]
    },
    {
      "cell_type": "code",
      "execution_count": null,
      "metadata": {
        "id": "RgetgRv9bt7j"
      },
      "outputs": [],
      "source": [
        "class Grp_Autoencoder(nn.Module):\n",
        "    def __init__(self):\n",
        "        super(Grp_Autoencoder, self).__init__()\n",
        "\n",
        "        # Encoder\n",
        "        self.encoder = nn.Sequential(\n",
        "            nn.Linear(input_dim, 32),\n",
        "            nn.ReLU(),\n",
        "            #nn.Linear(64, 32),\n",
        "            #nn.ReLU(),\n",
        "            nn.Linear(32, 8),\n",
        "            nn.ReLU()\n",
        "        )\n",
        "\n",
        "        # Decoder\n",
        "        self.decoder = nn.Sequential(\n",
        "            nn.Linear(8, 32),\n",
        "            nn.ReLU(),\n",
        "            #nn.Linear(32, 64),\n",
        "            #nn.ReLU(),\n",
        "            nn.Linear(32, input_dim),\n",
        "            nn.Sigmoid()  # Sigmoid for output between 0 and 1\n",
        "        )\n",
        "    def forward(self, x):\n",
        "        x = self.encoder(x)\n",
        "        x = self.decoder(x)\n",
        "        return x"
      ]
    },
    {
      "cell_type": "code",
      "execution_count": null,
      "metadata": {
        "id": "lcCc8LfYOiLR"
      },
      "outputs": [],
      "source": [
        "Grp_class_weights=Get_class_weights(Grp_y_train)"
      ]
    },
    {
      "cell_type": "code",
      "execution_count": null,
      "metadata": {
        "id": "7BPWcF2_O8IQ"
      },
      "outputs": [],
      "source": [
        "import tensorflow as tf\n",
        "seed=42\n",
        "learning_rate_Grp=0.2\n",
        "batch_size_Grp =len(Grp_X_train)\n",
        "batch_size_Grp_tst =len(Grp_X_test)\n",
        "epochs=80\n",
        "input_dim=Grp_X_train.shape[1]\n",
        "tf.random.set_seed(42)\n",
        "autoencoder = Grp_Autoencoder()\n",
        "classifier = Classifier(autoencoder.encoder)\n",
        "torch.manual_seed(seed)\n",
        "np.random.seed(seed)"
      ]
    },
    {
      "cell_type": "code",
      "execution_count": null,
      "metadata": {
        "id": "ANuGv6cCO78S"
      },
      "outputs": [],
      "source": [
        "train_dateset=torch.utils.data.TensorDataset(Grp_X_train,Grp_y_train)\n",
        "train_loader_Grp=torch.utils.data.DataLoader(train_dateset , batch_size=batch_size_Grp, shuffle=True)\n",
        "\n",
        "\n",
        "test_dataset=torch.utils.data.TensorDataset(Grp_X_test,Grp_y_test)\n",
        "test_loader_Grp=torch.utils.data.DataLoader(test_dataset , batch_size=batch_size_Grp_tst, shuffle=False )"
      ]
    },
    {
      "cell_type": "code",
      "execution_count": null,
      "metadata": {
        "id": "vVzGpS2jXoFZ",
        "colab": {
          "base_uri": "https://localhost:8080/",
          "height": 750
        },
        "outputId": "a92615d5-2c19-4cc9-cc5e-ae100aae8f5d"
      },
      "outputs": [
        {
          "output_type": "stream",
          "name": "stdout",
          "text": [
            "In epoch 0, loss: 0.719)\n",
            "In epoch 5, loss: 0.698)\n",
            "In epoch 10, loss: 0.689)\n",
            "In epoch 15, loss: 0.676)\n",
            "In epoch 20, loss: 0.658)\n",
            "In epoch 25, loss: 0.651)\n",
            "In epoch 30, loss: 0.645)\n",
            "In epoch 35, loss: 0.642)\n",
            "In epoch 40, loss: 0.637)\n",
            "In epoch 45, loss: 0.639)\n",
            "In epoch 50, loss: 0.643)\n",
            "In epoch 55, loss: 0.641)\n",
            "In epoch 60, loss: 0.636)\n",
            "In epoch 65, loss: 0.637)\n",
            "In epoch 70, loss: 0.639)\n",
            "In epoch 75, loss: 0.635)\n"
          ]
        },
        {
          "output_type": "display_data",
          "data": {
            "text/plain": [
              "<Figure size 640x480 with 1 Axes>"
            ],
            "image/png": "[encoded data removed]"
          },
          "metadata": {}
        }
      ],
      "source": [
        "torch.backends.cudnn.deterministic = True\n",
        "Grp_model=train(model=classifier, train_loader=train_loader_Grp, epochs=epochs , class_weights=Grp_class_weights , learning_rate=learning_rate_Grp)"
      ]
    },
    {
      "cell_type": "code",
      "execution_count": null,
      "metadata": {
        "colab": {
          "base_uri": "https://localhost:8080/",
          "height": 892
        },
        "id": "-SJq0EzmnqwZ",
        "outputId": "9d3e20d2-1820-413b-ddb6-a7c582e61c87"
      },
      "outputs": [
        {
          "output_type": "stream",
          "name": "stdout",
          "text": [
            "              precision    recall  f1-score   support\n",
            "\n",
            "           0       0.98      0.91      0.94      2041\n",
            "           1       0.07      0.25      0.11        57\n",
            "\n",
            "    accuracy                           0.89      2098\n",
            "   macro avg       0.52      0.58      0.52      2098\n",
            "weighted avg       0.95      0.89      0.92      2098\n",
            "\n"
          ]
        },
        {
          "output_type": "display_data",
          "data": {
            "text/plain": [
              "<Figure size 800x800 with 1 Axes>"
            ],
            "image/png": "[encoded data removed]"
          },
          "metadata": {}
        },
        {
          "output_type": "execute_result",
          "data": {
            "text/plain": [
              "0.8875119090080261"
            ]
          },
          "metadata": {},
          "execution_count": 690
        }
      ],
      "source": [
        "evaluate(model=Grp_model, test_loader=test_loader_Grp)"
      ]
    },
    {
      "cell_type": "markdown",
      "metadata": {
        "id": "mCcO8OK5o1aT"
      },
      "source": [
        "# AccGrp embedding  and Predict With Financial data"
      ]
    },
    {
      "cell_type": "code",
      "source": [
        "node2vec = Node2Vec(Grp_Train_G, dimensions=2)\n",
        "# Embed nodes\n",
        "modelTG = node2vec.fit(window=10, min_count=1, batch_words=4)\n",
        "embeddings = modelTG.wv\n",
        "\n",
        "modelTG.wv.save_word2vec_format(Finalpath +  'EMBEDDING_Train_AccGrp.emb')"
      ],
      "metadata": {
        "colab": {
          "base_uri": "https://localhost:8080/",
          "referenced_widgets": [
            "8d35aac9948d4bcd8be43f24e1885693",
            "65b650e548b242168a269f877f3a9c78",
            "e2d724874661498a85129fd29b666e26",
            "7ae58558244444a0a51ece81a457eec8",
            "02140f657562464d81d340afb816f6a5",
            "3c4ab23d9ef343a08b9a7e69187c3e9a",
            "7c6a02d1765443aeb9dfb9b03e057465",
            "382d908a2df8475eac1fa1c3925437ed",
            "fbc95ccde7b14b67be460e071080a670",
            "fa5f830f91c740e4ad0f789bcc137653",
            "ddc82478befd447ca8c19fbdb153b845"
          ]
        },
        "id": "RdeCMcT4wIPP",
        "outputId": "eddfe266-e416-4660-8c4a-386deada4e64"
      },
      "execution_count": null,
      "outputs": [
        {
          "output_type": "display_data",
          "data": {
            "text/plain": [
              "Computing transition probabilities:   0%|          | 0/13767 [00:00<?, ?it/s]"
            ],
            "application/vnd.jupyter.widget-view+json": {
              "version_major": 2,
              "version_minor": 0,
              "model_id": "8d35aac9948d4bcd8be43f24e1885693"
            }
          },
          "metadata": {}
        },
        {
          "output_type": "stream",
          "name": "stderr",
          "text": [
            "Generating walks (CPU: 1): 100%|██████████| 10/10 [00:35<00:00,  3.56s/it]\n"
          ]
        }
      ]
    },
    {
      "cell_type": "code",
      "source": [
        "modelTG.save(Finalpath +'modelTsTG_Train_AccGrp.wv')"
      ],
      "metadata": {
        "id": "vG8oA4xoxzUR"
      },
      "execution_count": null,
      "outputs": []
    },
    {
      "cell_type": "code",
      "source": [
        "node2vec = Node2Vec(Grp_Test_G, dimensions=2)\n",
        "# Embed nodes\n",
        "modelTstG = node2vec.fit(window=10, min_count=1, batch_words=4)\n",
        "embeddings = modelTstG.wv\n",
        "\n",
        "modelTstG.wv.save_word2vec_format(Finalpath +  'EMBEDDING_Test_AccGrp.emb')"
      ],
      "metadata": {
        "colab": {
          "base_uri": "https://localhost:8080/",
          "referenced_widgets": [
            "7c2d1872adc54c548d4ac200949e5c8d",
            "d68808cc04af433e9333d95a5d209e97",
            "542cea0445b844d0b7f0c78468a139cf",
            "99d38e54328f45c7ba94f95d0aa3c26a",
            "b78c2ec4fc124bc3a332f68c96c157e5",
            "c60d8e519fe84c9f8500de0713c46b88",
            "05090d221c2a4fb09c29479eeb838139",
            "21bffdd5c0864299abacc2034df25d59",
            "fb56b78dace646e2a3a5efc469b0ee40",
            "38cf326e45484a6388d35bead03d8ea7",
            "2b586511e2f74efdb042e1432091fb47"
          ]
        },
        "id": "0i4XtpStx7rD",
        "outputId": "7d3825ec-333f-44b4-928e-879cca60a9d5"
      },
      "execution_count": null,
      "outputs": [
        {
          "output_type": "display_data",
          "data": {
            "text/plain": [
              "Computing transition probabilities:   0%|          | 0/2098 [00:00<?, ?it/s]"
            ],
            "application/vnd.jupyter.widget-view+json": {
              "version_major": 2,
              "version_minor": 0,
              "model_id": "7c2d1872adc54c548d4ac200949e5c8d"
            }
          },
          "metadata": {}
        },
        {
          "output_type": "stream",
          "name": "stderr",
          "text": [
            "Generating walks (CPU: 1): 100%|██████████| 10/10 [00:02<00:00,  4.62it/s]\n"
          ]
        }
      ]
    },
    {
      "cell_type": "code",
      "source": [
        "modelTstG.save(Finalpath +'modelTstG_test_AccGrp.wv')"
      ],
      "metadata": {
        "id": "nLq1C6uoyKpp"
      },
      "execution_count": null,
      "outputs": []
    },
    {
      "cell_type": "code",
      "execution_count": null,
      "metadata": {
        "id": "SnTEVGlWYgIH"
      },
      "outputs": [],
      "source": [
        "#---------------------Load Data Model -------------------------------------------------\n",
        "train_node_embeddings =KeyedVectors.load_word2vec_format(path +  'EMBEDDING_Train_AccGrp.emb')\n",
        "Train_model = Word2Vec.load(Finalpath + 'modelTsTG_Train_AccGrp.wv')\n",
        "test_node_embeddings =KeyedVectors.load_word2vec_format(path +  'EMBEDDING_Test_AccGrp.emb')\n",
        "Test_model = Word2Vec.load(Finalpath + 'modelTstG_test_AccGrp.wv')"
      ]
    },
    {
      "cell_type": "code",
      "source": [
        "train_embeddings=Train_model.wv\n",
        "node_embeddingslist = train_embeddings.vectors.tolist()\n",
        "node_features_train=torch.tensor(node_embeddingslist , dtype = torch.float)\n",
        "\n",
        "test_embeddings=Test_model.wv\n",
        "node_embeddingslist = test_embeddings.vectors.tolist()\n",
        "node_features_test=torch.tensor(node_embeddingslist , dtype = torch.float)"
      ],
      "metadata": {
        "id": "Gi6d97K4yia4"
      },
      "execution_count": null,
      "outputs": []
    },
    {
      "cell_type": "code",
      "source": [
        "Col_Feature_Final=['f_amount_in','f_amount_out']\n",
        "#Feature_test_df[Col_Feature_Final]"
      ],
      "metadata": {
        "id": "uCPdkx7k3dgd"
      },
      "execution_count": null,
      "outputs": []
    },
    {
      "cell_type": "code",
      "source": [
        "# Grp_X_train=node_features_train\n",
        "# Grp_y_train= torch.tensor((train_partitiondf['Label'].values).tolist(), dtype=torch.long)\n",
        "# Grp_X_test=node_features_test\n",
        "# Grp_y_test=torch.tensor((test_partitiondf['Label'].values).tolist(), dtype=torch.long)"
      ],
      "metadata": {
        "id": "Vh4TnPYGyrj9"
      },
      "execution_count": null,
      "outputs": []
    },
    {
      "cell_type": "code",
      "source": [
        "#featurename=['len_Community' ,'f_amount_in','f_amount_out','f_nr_trans_in','f_nr_trans_out']\n",
        "#featurename=['f_amount_in','f_amount_out', 'f_nr_trans_in','f_nr_trans_out']\n",
        "Grp_X_train=torch.tensor((Feature_train_df[Col_Feature_Final].values).tolist(), dtype=torch.float)\n",
        "Grp_X_test =torch.tensor((Feature_test_df[Col_Feature_Final].values).tolist(), dtype=torch.float)\n",
        "#Grp_X_train=torch.tensor(node_features_train)\n",
        "#Grp_X_test=torch.tensor(node_features_test)\n",
        "Grp_y_train=torch.tensor((Feature_train_df['Label'].values).tolist(), dtype=torch.long)\n",
        "Grp_y_test=torch.tensor((Feature_test_df['Label'].values).tolist(), dtype=torch.long)"
      ],
      "metadata": {
        "id": "-VpZ-0Z2zBCV"
      },
      "execution_count": null,
      "outputs": []
    },
    {
      "cell_type": "code",
      "source": [
        "# listfeaturel_test=(Feature_test_df[Col_Feature_Final].values).tolist()\n",
        "\n",
        "# merged_featurelist_test = []\n",
        "# for item1, item2 in zip(listfeaturel_test, node_features_test.tolist()):\n",
        "#     merged_item = item1 + item2  # Concatenate the lists\n",
        "#     merged_featurelist_test.append(merged_item)\n",
        "\n",
        "\n",
        "# listfeaturel_train=(Feature_train_df[Col_Feature_Final].values).tolist()\n",
        "# merged_featurelist_train = []\n",
        "# for item1, item2 in zip(listfeaturel_train, node_features_train.tolist()):\n",
        "#     merged_item = item1 + item2  # Concatenate the lists\n",
        "#     merged_featurelist_train.append(merged_item)\n",
        "\n",
        "# #-------------------------------------------------------------------------------------------\n",
        "# Grp_X_train=torch.tensor( merged_featurelist_train, dtype=torch.float)\n",
        "# Grp_X_test =torch.tensor(merged_featurelist_test, dtype=torch.float)\n"
      ],
      "metadata": {
        "id": "8WVS83slzEqW"
      },
      "execution_count": null,
      "outputs": []
    },
    {
      "cell_type": "code",
      "source": [
        "class Grp_Classifier(nn.Module):\n",
        "    def __init__(self, encoder):\n",
        "        super(Grp_Classifier, self).__init__()\n",
        "        self.encoder = encoder\n",
        "        self.fc = nn.Linear(16, 2)\n",
        "\n",
        "    def forward(self, x):\n",
        "        x = self.encoder(x)\n",
        "        x = self.fc(x)\n",
        "        return x"
      ],
      "metadata": {
        "id": "FHNEU4t0z2En"
      },
      "execution_count": null,
      "outputs": []
    },
    {
      "cell_type": "code",
      "source": [
        "class Grp_Autoencoder(nn.Module):\n",
        "    def __init__(self):\n",
        "        super(Grp_Autoencoder, self).__init__()\n",
        "\n",
        "        # Encoder\n",
        "        self.encoder = nn.Sequential(\n",
        "            nn.Linear(input_dim, 64),\n",
        "            nn.ReLU(),\n",
        "            #nn.Linear(64, 32),\n",
        "            #nn.ReLU(),\n",
        "            nn.Linear(64, 16),\n",
        "            nn.ReLU()\n",
        "        )\n",
        "\n",
        "        # Decoder\n",
        "        self.decoder = nn.Sequential(\n",
        "            nn.Linear(16, 64),\n",
        "            nn.ReLU(),\n",
        "            #nn.Linear(64, 32),\n",
        "            #nn.ReLU(),\n",
        "            nn.Linear(64, input_dim),\n",
        "            nn.Sigmoid()  # Sigmoid for output between 0 and 1\n",
        "        )\n",
        "    def forward(self, x):\n",
        "        x = self.encoder(x)\n",
        "        x = self.decoder(x)\n",
        "        return x"
      ],
      "metadata": {
        "id": "8RA_mpbpzKkT"
      },
      "execution_count": null,
      "outputs": []
    },
    {
      "cell_type": "code",
      "execution_count": null,
      "metadata": {
        "id": "mxLQDdyVZLuY"
      },
      "outputs": [],
      "source": [
        "Grp_class_weights=Get_class_weights(Grp_y_train)"
      ]
    },
    {
      "cell_type": "code",
      "source": [
        "import tensorflow as tf\n",
        "seed=42\n",
        "learning_rate_Grp=0.003\n",
        "batch_size_Grp =len(Grp_X_train)\n",
        "batch_size_Grp_tst =len(Grp_X_test)\n",
        "epochs=80\n",
        "input_dim=Grp_X_train.shape[1]\n",
        "tf.random.set_seed(42)\n",
        "autoencoder = Grp_Autoencoder()\n",
        "classifier = Grp_Classifier(autoencoder.encoder)\n",
        "torch.manual_seed(seed)\n",
        "np.random.seed(seed)"
      ],
      "metadata": {
        "id": "EE2J0uLtzbX5"
      },
      "execution_count": null,
      "outputs": []
    },
    {
      "cell_type": "code",
      "source": [
        "train_dateset=torch.utils.data.TensorDataset(Grp_X_train,Grp_y_train)\n",
        "train_loader_Grp=torch.utils.data.DataLoader(train_dateset , batch_size=batch_size_Grp, shuffle=True)\n",
        "\n",
        "\n",
        "test_dataset=torch.utils.data.TensorDataset(Grp_X_test,Grp_y_test)\n",
        "test_loader_Grp=torch.utils.data.DataLoader(test_dataset , batch_size=batch_size_Grp_tst, shuffle=False )"
      ],
      "metadata": {
        "id": "oAfUB4-fzfVP"
      },
      "execution_count": null,
      "outputs": []
    },
    {
      "cell_type": "code",
      "source": [
        "torch.backends.cudnn.deterministic = True\n",
        "Grp_model=train(model=classifier, train_loader=train_loader_Grp, epochs=epochs , class_weights=Grp_class_weights , learning_rate=learning_rate_Grp)"
      ],
      "metadata": {
        "id": "EwFSls6RzijB"
      },
      "execution_count": null,
      "outputs": []
    },
    {
      "cell_type": "code",
      "source": [
        "evaluate(model=Grp_model, test_loader=test_loader_Grp)"
      ],
      "metadata": {
        "colab": {
          "base_uri": "https://localhost:8080/"
        },
        "id": "nTgEjUa-zskn",
        "outputId": "cba12e40-de60-4c50-d440-05007b81f0a9"
      },
      "execution_count": null,
      "outputs": [
        {
          "output_type": "stream",
          "name": "stdout",
          "text": [
            "              precision    recall  f1-score   support\n",
            "\n",
            "           0       0.98      0.86      0.91      2041\n",
            "           1       0.07      0.39      0.12        57\n",
            "\n",
            "    accuracy                           0.84      2098\n",
            "   macro avg       0.53      0.62      0.52      2098\n",
            "weighted avg       0.96      0.84      0.89      2098\n",
            "\n"
          ]
        },
        {
          "output_type": "display_data",
          "data": {
            "text/plain": [
              "<Figure size 800x800 with 1 Axes>"
            ],
            "image/png": "[encoded data removed]"
          },
          "metadata": {}
        },
        {
          "output_type": "execute_result",
          "data": {
            "text/plain": [
              "0.8441372513771057"
            ]
          },
          "metadata": {},
          "execution_count": 315
        }
      ]
    },
    {
      "cell_type": "markdown",
      "source": [
        "# ACCGroup prediction with Subgraph embedding Feature"
      ],
      "metadata": {
        "id": "AorHl0hWMNEO"
      }
    },
    {
      "cell_type": "code",
      "source": [
        "columnname=['Index','subgraph_embedding_0','subgraph_embedding_1','embedded_Laplacian_0','embedded_Laplacian_1']\n",
        "test_Embedding_List_df=pd.read_csv(Finalpath + 'Embedding_List_TST.csv')\n",
        "test_Embedding_List_df=test_Embedding_List_df[columnname]\n",
        "Feature_test_df = pd.merge(test_Embedding_List_df,test_partitiondf, on='Index', how='inner')\n",
        "Col_Feature_Final=['subgraph_embedding_0','subgraph_embedding_1']\n",
        "F_TST_df=Feature_test_df[Col_Feature_Final]\n",
        "Grp_X_test=torch.tensor(F_TST_df.values.tolist(), dtype=torch.float)\n",
        "Grp_y_test=torch.tensor((Feature_test_df['Label'].values).tolist(), dtype=torch.long)\n",
        "\n",
        "F_TR_df=Feature_train_df[Col_Feature_Final]\n",
        "Grp_X_train=torch.tensor(F_TR_df.values.tolist(), dtype=torch.float)\n",
        "Grp_y_train=torch.tensor((Feature_train_df['Label'].values).tolist(), dtype=torch.long)"
      ],
      "metadata": {
        "id": "ISGaWnI6NUsr"
      },
      "execution_count": null,
      "outputs": []
    },
    {
      "cell_type": "code",
      "source": [
        "class SubG_Classifier(nn.Module):\n",
        "    def __init__(self, encoder):\n",
        "        super(SubG_Classifier, self).__init__()\n",
        "        self.encoder = encoder\n",
        "        self.fc = nn.Linear(16, 2)\n",
        "\n",
        "    def forward(self, x):\n",
        "        x = self.encoder(x)\n",
        "        x = self.fc(x)\n",
        "        return x"
      ],
      "metadata": {
        "id": "w-3a0Wn8NEuU"
      },
      "execution_count": null,
      "outputs": []
    },
    {
      "cell_type": "code",
      "source": [
        "class SubG_Autoencoder(nn.Module):\n",
        "    def __init__(self):\n",
        "        super(SubG_Autoencoder, self).__init__()\n",
        "\n",
        "        # Encoder\n",
        "        self.encoder = nn.Sequential(\n",
        "            nn.Linear(input_dim, 32),\n",
        "            nn.ReLU(),\n",
        "            #nn.Linear(64, 32),\n",
        "            #nn.ReLU(),\n",
        "            nn.Linear(32, 16),\n",
        "            nn.ReLU()\n",
        "        )\n",
        "\n",
        "        # Decoder\n",
        "        self.decoder = nn.Sequential(\n",
        "            nn.Linear(16, 32),\n",
        "            nn.ReLU(),\n",
        "            #nn.Linear(32, 64),\n",
        "            #nn.ReLU(),\n",
        "            nn.Linear(32, input_dim),\n",
        "            nn.Sigmoid()  # Sigmoid for output between 0 and 1\n",
        "        )\n",
        "    def forward(self, x):\n",
        "        x = self.encoder(x)\n",
        "        x = self.decoder(x)\n",
        "        return x"
      ],
      "metadata": {
        "id": "CuTB5cFKMdfS"
      },
      "execution_count": null,
      "outputs": []
    },
    {
      "cell_type": "code",
      "source": [
        "SubG_class_weights=Get_class_weights(Grp_y_train)"
      ],
      "metadata": {
        "id": "kOHLFQ3HM01-"
      },
      "execution_count": null,
      "outputs": []
    },
    {
      "cell_type": "code",
      "source": [
        "import tensorflow as tf\n",
        "seed=42\n",
        "learning_rate_Grp=0.09\n",
        "batch_size_Grp =len(Grp_X_train)\n",
        "batch_size_Grp_tst =len(Grp_X_test)\n",
        "epochs=80\n",
        "input_dim=Grp_X_train.shape[1]\n",
        "tf.random.set_seed(42)\n",
        "autoencoder = SubG_Autoencoder()\n",
        "classifier = SubG_Classifier(autoencoder.encoder)\n",
        "torch.manual_seed(seed)\n",
        "np.random.seed(seed)"
      ],
      "metadata": {
        "id": "M2x9mT0kM4ZX"
      },
      "execution_count": null,
      "outputs": []
    },
    {
      "cell_type": "code",
      "source": [
        "train_dateset=torch.utils.data.TensorDataset(Grp_X_train,Grp_y_train)\n",
        "train_loader_Grp=torch.utils.data.DataLoader(train_dateset , batch_size=batch_size_Grp, shuffle=True)\n",
        "\n",
        "\n",
        "test_dataset=torch.utils.data.TensorDataset(Grp_X_test,Grp_y_test)\n",
        "test_loader_Grp=torch.utils.data.DataLoader(test_dataset , batch_size=batch_size_Grp_tst, shuffle=False )"
      ],
      "metadata": {
        "id": "Vg3zPf33N4jO"
      },
      "execution_count": null,
      "outputs": []
    },
    {
      "cell_type": "code",
      "source": [
        "torch.backends.cudnn.deterministic = True\n",
        "SubGGrp_model=train(model=classifier, train_loader=train_loader_Grp, epochs=epochs , class_weights=SubG_class_weights , learning_rate=learning_rate_Grp)"
      ],
      "metadata": {
        "colab": {
          "base_uri": "https://localhost:8080/",
          "height": 773
        },
        "id": "FpWtj4p2N9RW",
        "outputId": "9c78e22e-5aae-4679-f0f8-9777d90b5d1f"
      },
      "execution_count": null,
      "outputs": [
        {
          "output_type": "stream",
          "name": "stdout",
          "text": [
            "In epoch 0, loss: 0.695)\n",
            "In epoch 5, loss: 0.691)\n",
            "In epoch 10, loss: 0.671)\n",
            "In epoch 15, loss: 0.660)\n",
            "In epoch 20, loss: 0.651)\n",
            "In epoch 25, loss: 0.646)\n",
            "In epoch 30, loss: 0.640)\n",
            "In epoch 35, loss: 0.641)\n",
            "In epoch 40, loss: 0.634)\n",
            "In epoch 45, loss: 0.629)\n",
            "In epoch 50, loss: 0.625)\n",
            "In epoch 55, loss: 0.622)\n",
            "In epoch 60, loss: 0.621)\n",
            "In epoch 65, loss: 0.620)\n",
            "In epoch 70, loss: 0.619)\n",
            "In epoch 75, loss: 0.618)\n"
          ]
        },
        {
          "output_type": "display_data",
          "data": {
            "text/plain": [
              "<Figure size 640x480 with 1 Axes>"
            ],
            "image/png": "[encoded data removed]"
          },
          "metadata": {}
        }
      ]
    },
    {
      "cell_type": "code",
      "source": [
        "evaluate(model=SubGGrp_model, test_loader=test_loader_Grp)"
      ],
      "metadata": {
        "colab": {
          "base_uri": "https://localhost:8080/",
          "height": 906
        },
        "id": "pM7EwO5UOCx2",
        "outputId": "e05dcd24-d5cf-4c5c-bcb8-7178ad4f6bdd"
      },
      "execution_count": null,
      "outputs": [
        {
          "output_type": "stream",
          "name": "stdout",
          "text": [
            "              precision    recall  f1-score   support\n",
            "\n",
            "           0       0.98      0.76      0.86      2041\n",
            "           1       0.05      0.46      0.09        57\n",
            "\n",
            "    accuracy                           0.76      2098\n",
            "   macro avg       0.52      0.61      0.48      2098\n",
            "weighted avg       0.96      0.76      0.84      2098\n",
            "\n"
          ]
        },
        {
          "output_type": "display_data",
          "data": {
            "text/plain": [
              "<Figure size 800x800 with 1 Axes>"
            ],
            "image/png": "[encoded data removed]"
          },
          "metadata": {}
        },
        {
          "output_type": "execute_result",
          "data": {
            "text/plain": [
              "0.7564346790313721"
            ]
          },
          "metadata": {},
          "execution_count": 413
        }
      ]
    },
    {
      "cell_type": "code",
      "execution_count": null,
      "metadata": {
        "id": "NRPoMk_dGj09"
      },
      "outputs": [],
      "source": [
        "class NodeClassifier(nn.Module):\n",
        "    def __init__(self, input_dim, hidden_dim, output_dim):\n",
        "        super(NodeClassifier, self).__init__()\n",
        "        self.fc1 = nn.Linear(input_dim, hidden_dim)\n",
        "        self.fc2 = nn.Linear(hidden_dim, output_dim)\n",
        "        self.relu = nn.ReLU()\n",
        "\n",
        "    def forward(self, x):\n",
        "        x = self.fc1(x)\n",
        "        x = self.relu(x)\n",
        "        x = self.fc2(x)\n",
        "        return x\n",
        "class EdgeClassifier(nn.Module):\n",
        "    def __init__(self, input_dim, hidden_dim, output_dim):\n",
        "        super(EdgeClassifier, self).__init__()\n",
        "        self.fc1 = nn.Linear(input_dim, hidden_dim)\n",
        "        self.fc2 = nn.Linear(hidden_dim, output_dim)\n",
        "        self.relu = nn.ReLU()\n",
        "\n",
        "    def forward(self, x):\n",
        "        x = self.fc1(x)\n",
        "        x = self.relu(x)\n",
        "        x = self.fc2(x)\n",
        "        return x\n",
        "\n",
        "class GrpClassifier(nn.Module):\n",
        "    def __init__(self, input_dim, hidden_dim, output_dim):\n",
        "        super(GrpClassifier, self).__init__()\n",
        "        self.fc1 = nn.Linear(input_dim, hidden_dim)\n",
        "        self.fc2 = nn.Linear(hidden_dim, output_dim)\n",
        "        self.relu = nn.ReLU()\n",
        "\n",
        "    def forward(self, x):\n",
        "        x = self.fc1(x)\n",
        "        x = self.relu(x)\n",
        "        x = self.fc2(x)\n",
        "        return x"
      ]
    },
    {
      "cell_type": "code",
      "execution_count": null,
      "metadata": {
        "id": "pwwKZ5atGuTf"
      },
      "outputs": [],
      "source": [
        "node_features = X_train_Node\n",
        "edge_features = X_train_tensor_e\n",
        "Grp_features =Grp_X_train\n",
        "node_labels = y_train_Node\n",
        "edge_labels = y_train_tensor_e\n",
        "Grp_labels = Grp_y_train"
      ]
    },
    {
      "cell_type": "code",
      "execution_count": null,
      "metadata": {
        "id": "CFxgdkC6IT7d"
      },
      "outputs": [],
      "source": [
        "# Initialize models\n",
        "node_classifier = NodeClassifier(input_dim=node_features.shape[1], hidden_dim=128, output_dim=2)\n",
        "Grp_classifier = GrpClassifier(input_dim=Grp_features.shape[1], hidden_dim=128, output_dim=2)\n",
        "edge_classifier = EdgeClassifier(input_dim=edge_features.shape[1], hidden_dim=64, output_dim=2)\n"
      ]
    },
    {
      "cell_type": "code",
      "execution_count": null,
      "metadata": {
        "id": "kw5eSyX-I4Br"
      },
      "outputs": [],
      "source": [
        "node_criterion = nn.CrossEntropyLoss(weight=n_class_weights)\n",
        "Grp_criterion = nn.CrossEntropyLoss(weight=Grp_class_weights)\n",
        "edge_criterion = nn.CrossEntropyLoss(weight=e_class_weights)"
      ]
    },
    {
      "cell_type": "code",
      "execution_count": null,
      "metadata": {
        "id": "V-g7JhOBI-PP"
      },
      "outputs": [],
      "source": [
        "optimizer = optim.Adam(list(node_classifier.parameters()) + list(Grp_classifier.parameters()) + list(edge_classifier.parameters()), lr=0.1)"
      ]
    },
    {
      "cell_type": "code",
      "execution_count": null,
      "metadata": {
        "colab": {
          "base_uri": "https://localhost:8080/"
        },
        "id": "u8RNC-bBJHYu",
        "outputId": "3328203c-46c1-487f-e872-195c948adf52"
      },
      "outputs": [
        {
          "name": "stdout",
          "output_type": "stream",
          "text": [
            "Epoch 1/100, Node Loss: 0.7007476687431335, Edge Loss: 0.6994136571884155\n",
            "Epoch 6/100, Node Loss: 0.7411178946495056, Edge Loss: 1.107591986656189\n",
            "Epoch 11/100, Node Loss: 0.6987518072128296, Edge Loss: 0.718412458896637\n",
            "Epoch 16/100, Node Loss: 0.6950927972793579, Edge Loss: 0.6830258369445801\n",
            "Epoch 21/100, Node Loss: 0.6854108572006226, Edge Loss: 0.6814351081848145\n",
            "Epoch 26/100, Node Loss: 0.6847144961357117, Edge Loss: 0.6812490820884705\n",
            "Epoch 31/100, Node Loss: 0.683143138885498, Edge Loss: 0.6809812188148499\n",
            "Epoch 36/100, Node Loss: 0.6826592683792114, Edge Loss: 0.6804746389389038\n",
            "Epoch 41/100, Node Loss: 0.6814199090003967, Edge Loss: 0.6802200675010681\n",
            "Epoch 46/100, Node Loss: 0.680841326713562, Edge Loss: 0.6802020072937012\n",
            "Epoch 51/100, Node Loss: 0.6806012392044067, Edge Loss: 0.6801195740699768\n",
            "Epoch 56/100, Node Loss: 0.679592490196228, Edge Loss: 0.6800472736358643\n",
            "Epoch 61/100, Node Loss: 0.6789810061454773, Edge Loss: 0.6798875331878662\n",
            "Epoch 66/100, Node Loss: 0.6785498261451721, Edge Loss: 0.6798139214515686\n",
            "Epoch 71/100, Node Loss: 0.6781182885169983, Edge Loss: 0.6797944903373718\n",
            "Epoch 76/100, Node Loss: 0.6776431202888489, Edge Loss: 0.6798169612884521\n",
            "Epoch 81/100, Node Loss: 0.6771777868270874, Edge Loss: 0.6796294450759888\n",
            "Epoch 86/100, Node Loss: 0.6767372488975525, Edge Loss: 0.6793286204338074\n",
            "Epoch 91/100, Node Loss: 0.6763108968734741, Edge Loss: 0.6791110038757324\n",
            "Epoch 96/100, Node Loss: 0.675906777381897, Edge Loss: 0.678801953792572\n"
          ]
        }
      ],
      "source": [
        "# Training loop\n",
        "epochs = 100\n",
        "for epoch in range(epochs):\n",
        "    optimizer.zero_grad()\n",
        "\n",
        "    # Forward pass\n",
        "    node_logits = node_classifier(node_features)\n",
        "    Grp_logits = Grp_classifier(Grp_features)\n",
        "    edge_logits = edge_classifier(edge_features)\n",
        "\n",
        "    # Compute losses\n",
        "    node_loss = node_criterion(node_logits, node_labels)\n",
        "    Grp_loss = node_criterion(Grp_logits, Grp_labels)\n",
        "    edge_loss = edge_criterion(edge_logits, edge_labels.long())\n",
        "\n",
        "    # Total loss (you can weight the losses if needed)\n",
        "    total_loss = node_loss + edge_loss + Grp_loss\n",
        "\n",
        "    # Backpropagation\n",
        "    total_loss.backward()\n",
        "    optimizer.step()\n",
        "\n",
        "    if epoch % 5 == 0:\n",
        "        print(f'Epoch {epoch+1}/{epochs}, Node Loss: {node_loss.item()}, Edge Loss: {edge_loss.item()}')"
      ]
    },
    {
      "cell_type": "code",
      "execution_count": null,
      "metadata": {
        "colab": {
          "base_uri": "https://localhost:8080/",
          "height": 892
        },
        "id": "VQKEbTDNKx_u",
        "outputId": "35163e5e-e3bb-45bc-d870-b535ad24a65c"
      },
      "outputs": [
        {
          "name": "stdout",
          "output_type": "stream",
          "text": [
            "              precision    recall  f1-score   support\n",
            "\n",
            "           0       0.99      0.83      0.91     12889\n",
            "           1       0.01      0.23      0.02        74\n",
            "\n",
            "    accuracy                           0.83     12963\n",
            "   macro avg       0.50      0.53      0.46     12963\n",
            "weighted avg       0.99      0.83      0.90     12963\n",
            "\n"
          ]
        },
        {
          "data": {
            "image/png": "[encoded data removed]",
            "text/plain": [
              "<Figure size 800x800 with 1 Axes>"
            ]
          },
          "metadata": {},
          "output_type": "display_data"
        },
        {
          "data": {
            "text/plain": [
              "(0.8312119245529175, tensor([1, 1, 1,  ..., 0, 1, 0]))"
            ]
          },
          "execution_count": 108,
          "metadata": {},
          "output_type": "execute_result"
        }
      ],
      "source": [
        "evaluate(model=node_classifier, test_loader=test_loader_node)"
      ]
    },
    {
      "cell_type": "code",
      "execution_count": null,
      "metadata": {
        "colab": {
          "base_uri": "https://localhost:8080/",
          "height": 1000
        },
        "id": "fTK8Bid0MS0e",
        "outputId": "bb99f4dd-06d6-4805-d579-c2663bb711f5"
      },
      "outputs": [
        {
          "name": "stdout",
          "output_type": "stream",
          "text": [
            "              precision    recall  f1-score   support\n",
            "\n",
            "           0       1.00      1.00      1.00     12948\n",
            "           1       0.00      0.00      0.00         6\n",
            "\n",
            "    accuracy                           1.00     12954\n",
            "   macro avg       0.50      0.50      0.50     12954\n",
            "weighted avg       1.00      1.00      1.00     12954\n",
            "\n"
          ]
        },
        {
          "name": "stderr",
          "output_type": "stream",
          "text": [
            "/usr/local/lib/python3.10/dist-packages/sklearn/metrics/_classification.py:1344: UndefinedMetricWarning: Precision and F-score are ill-defined and being set to 0.0 in labels with no predicted samples. Use `zero_division` parameter to control this behavior.\n",
            "  _warn_prf(average, modifier, msg_start, len(result))\n",
            "/usr/local/lib/python3.10/dist-packages/sklearn/metrics/_classification.py:1344: UndefinedMetricWarning: Precision and F-score are ill-defined and being set to 0.0 in labels with no predicted samples. Use `zero_division` parameter to control this behavior.\n",
            "  _warn_prf(average, modifier, msg_start, len(result))\n",
            "/usr/local/lib/python3.10/dist-packages/sklearn/metrics/_classification.py:1344: UndefinedMetricWarning: Precision and F-score are ill-defined and being set to 0.0 in labels with no predicted samples. Use `zero_division` parameter to control this behavior.\n",
            "  _warn_prf(average, modifier, msg_start, len(result))\n"
          ]
        },
        {
          "data": {
            "image/png": "[encoded data removed]",
            "text/plain": [
              "<Figure size 800x800 with 1 Axes>"
            ]
          },
          "metadata": {},
          "output_type": "display_data"
        },
        {
          "data": {
            "text/plain": [
              "(0.9995368123054504, tensor([0, 0, 0,  ..., 0, 0, 0]))"
            ]
          },
          "execution_count": 109,
          "metadata": {},
          "output_type": "execute_result"
        }
      ],
      "source": [
        "evaluate(model=Grp_classifier, test_loader=test_loader_Grp)\n"
      ]
    },
    {
      "cell_type": "code",
      "execution_count": null,
      "metadata": {
        "colab": {
          "base_uri": "https://localhost:8080/",
          "height": 892
        },
        "id": "LLEpi8xiMV0K",
        "outputId": "1d6a524c-703c-4f76-94e4-3a683a84935e"
      },
      "outputs": [
        {
          "name": "stdout",
          "output_type": "stream",
          "text": [
            "              precision    recall  f1-score   support\n",
            "\n",
            "         0.0       1.00      0.14      0.25     16196\n",
            "         1.0       0.00      0.88      0.00        26\n",
            "\n",
            "    accuracy                           0.14     16222\n",
            "   macro avg       0.50      0.51      0.13     16222\n",
            "weighted avg       1.00      0.14      0.25     16222\n",
            "\n"
          ]
        },
        {
          "data": {
            "image/png": "[encoded data removed]",
            "text/plain": [
              "<Figure size 800x800 with 1 Axes>"
            ]
          },
          "metadata": {},
          "output_type": "display_data"
        },
        {
          "data": {
            "text/plain": [
              "(0.1449882835149765, tensor([1, 1, 1,  ..., 1, 1, 1]))"
            ]
          },
          "execution_count": 110,
          "metadata": {},
          "output_type": "execute_result"
        }
      ],
      "source": [
        "evaluate(model=edge_classifier, test_loader=test_loader_e)"
      ]
    },
    {
      "cell_type": "markdown",
      "metadata": {
        "id": "4ZLgR_DHUMUM"
      },
      "source": [
        "# Create Model and Method"
      ]
    },
    {
      "cell_type": "code",
      "execution_count": null,
      "metadata": {
        "id": "LQUz0nB7ZxlX"
      },
      "outputs": [],
      "source": [
        "class Classifier(nn.Module):\n",
        "    def __init__(self, encoder):\n",
        "        super(Classifier, self).__init__()\n",
        "        self.encoder = encoder\n",
        "        self.fc = nn.Linear(8, 2)\n",
        "\n",
        "    def forward(self, x):\n",
        "        x = self.encoder(x)\n",
        "        x = self.fc(x)\n",
        "        return x\n"
      ]
    },
    {
      "cell_type": "code",
      "execution_count": null,
      "metadata": {
        "id": "H87unEB8MplN"
      },
      "outputs": [],
      "source": [
        "def evaluate(model,test_loader):\n",
        "    torch.backends.cudnn.deterministic = True\n",
        "    model.eval()\n",
        "    with torch.no_grad():\n",
        "        for data in test_loader:\n",
        "            inputs, labels = data\n",
        "            logits = model(inputs)\n",
        "            _, predicted = torch.max(logits, 1)\n",
        "\n",
        "            accuracy = (predicted == labels).float().mean().item()\n",
        "\n",
        "\n",
        "        print(classification_report(labels, predicted))\n",
        "\n",
        "    #--------------------Plot AUC----------------------------\n",
        "        fpr, tpr, thresholds = roc_curve(labels, predicted)\n",
        "\n",
        "        # Calculate the AUC\n",
        "        roc_auc = auc(fpr, tpr)\n",
        "        # Calculate the AUC\n",
        "        roc_auc = auc(fpr, tpr)\n",
        "\n",
        "        # Plot the ROC curve\n",
        "        plt.figure(figsize=(8, 8))\n",
        "        plt.plot(fpr, tpr, color='darkorange', lw=2, label=f'ROC curve (area = {roc_auc:.2f})')\n",
        "        plt.plot([0, 1], [0, 1], color='navy', lw=2, linestyle='--', label='Random Guess')\n",
        "        plt.xlabel('False Positive Rate')\n",
        "        plt.ylabel('True Positive Rate')\n",
        "        plt.title('ROC Curve for Classification')\n",
        "        plt.legend(loc='lower right')\n",
        "        plt.show()\n",
        "\n",
        "    return accuracy"
      ]
    },
    {
      "cell_type": "code",
      "execution_count": null,
      "metadata": {
        "id": "UQl8ylWypZPu"
      },
      "outputs": [],
      "source": [
        "def train (model,train_loader , epochs , class_weights , learning_rate):\n",
        "    torch.backends.cudnn.deterministic = True\n",
        "    criterion = nn.CrossEntropyLoss(weight=class_weights)\n",
        "    optimizer = optim.Adam(model.parameters(), lr=learning_rate)\n",
        "    loss_list: list = []\n",
        "    # Training loop\n",
        "    for epoch in range(epochs):\n",
        "        model.train()\n",
        "        for data in train_loader:\n",
        "            inputs, labels = data\n",
        "            optimizer.zero_grad()\n",
        "            outputs = model(inputs)\n",
        "            loss = criterion(outputs, labels.long())\n",
        "            loss_list.append(loss.item())\n",
        "            loss.backward()\n",
        "            optimizer.step()\n",
        "\n",
        "        #print(f'Epoch [{epoch+1}/{epochs}], Loss: {loss.item():.4f}')\n",
        "        if epoch % 5 == 0:\n",
        "            print(f\"In epoch {epoch}, loss: {loss:.3f})\"\n",
        "                )\n",
        "    plt.plot(loss_list)\n",
        "    plt.xlabel('Epoch')\n",
        "    plt.ylabel('Loss')\n",
        "    plt.title('Loss Chart')\n",
        "    plt.show()\n",
        "    return model"
      ]
    },
    {
      "cell_type": "code",
      "execution_count": null,
      "metadata": {
        "id": "ysXXbFmBqqM3"
      },
      "outputs": [],
      "source": [
        "from sklearn.utils.class_weight import compute_class_weight\n",
        "def Get_class_weights(data):\n",
        "    class_labels=torch.unique(data)\n",
        "    class_labels=np.array(class_labels)\n",
        "    y=np.array(data)\n",
        "    class_weight =compute_class_weight(class_weight='balanced', classes=class_labels, y=y)\n",
        "    class_weights=torch.tensor(class_weight ,  dtype = torch.float)\n",
        "    return class_weights\n"
      ]
    },
    {
      "cell_type": "markdown",
      "metadata": {
        "id": "5m6448DORGZP"
      },
      "source": [
        "# Model For Multi Task Learning"
      ]
    },
    {
      "cell_type": "code",
      "source": [
        "class SubClassifier(nn.Module):\n",
        "    def __init__(self, encoder):\n",
        "        super(SubClassifier, self).__init__()\n",
        "        self.encoder = encoder\n",
        "        self.fc = nn.Linear(16, 2)\n",
        "\n",
        "    def forward(self, x):\n",
        "        x = self.encoder(x)\n",
        "        x = self.fc(x)\n",
        "        return x\n",
        "\n",
        "\n",
        "class GrpSub_Autoencoder(nn.Module):\n",
        "    def __init__(self, input_dim):\n",
        "        super(GrpSub_Autoencoder, self).__init__()\n",
        "\n",
        "        # Encoder\n",
        "        self.encoder = nn.Sequential(\n",
        "            nn.Linear(input_dim, 64),\n",
        "            nn.ReLU(),\n",
        "            #nn.Linear(64, 32),\n",
        "            #nn.ReLU(),\n",
        "            nn.Linear(64, 16),\n",
        "            nn.ReLU()\n",
        "        )\n",
        "\n",
        "        # Decoder\n",
        "        self.decoder = nn.Sequential(\n",
        "            nn.Linear(16, 64),\n",
        "            nn.ReLU(),\n",
        "            #nn.Linear(32, 64),\n",
        "            #nn.ReLU(),\n",
        "            nn.Linear(64, input_dim),\n",
        "            nn.Sigmoid()  # Sigmoid for output between 0 and 1\n",
        "        )\n",
        "    def forward(self, x):\n",
        "        x = self.encoder(x)\n",
        "        x = self.decoder(x)\n",
        "        return x"
      ],
      "metadata": {
        "id": "XHQylk2KVIyl"
      },
      "execution_count": null,
      "outputs": []
    },
    {
      "cell_type": "code",
      "source": [
        "class LpClassifier(nn.Module):\n",
        "    def __init__(self, encoder):\n",
        "        super(LpClassifier, self).__init__()\n",
        "        self.encoder = encoder\n",
        "        self.fc = nn.Linear(8, 2)\n",
        "\n",
        "    def forward(self, x):\n",
        "        x = self.encoder(x)\n",
        "        x = self.fc(x)\n",
        "        return x\n",
        "class GrpLp_Autoencoder(nn.Module):\n",
        "    def __init__(self,input_dim):\n",
        "        super(GrpLp_Autoencoder, self).__init__()\n",
        "\n",
        "        # Encoder\n",
        "        self.encoder = nn.Sequential(\n",
        "            nn.Linear(input_dim, 32),\n",
        "            nn.ReLU(),\n",
        "            #nn.Linear(64, 32),\n",
        "            #nn.ReLU(),\n",
        "            nn.Linear(32, 8),\n",
        "            nn.ReLU()\n",
        "        )\n",
        "\n",
        "        # Decoder\n",
        "        self.decoder = nn.Sequential(\n",
        "            nn.Linear(8, 32),\n",
        "            nn.ReLU(),\n",
        "            #nn.Linear(32, 64),\n",
        "            #nn.ReLU(),\n",
        "            nn.Linear(32, input_dim),\n",
        "            nn.Sigmoid()  # Sigmoid for output between 0 and 1\n",
        "        )\n",
        "    def forward(self, x):\n",
        "        x = self.encoder(x)\n",
        "        x = self.decoder(x)\n",
        "        return x"
      ],
      "metadata": {
        "id": "RMgyfghLVRG7"
      },
      "execution_count": null,
      "outputs": []
    },
    {
      "cell_type": "code",
      "source": [
        "class FIClassifier(nn.Module):\n",
        "    def __init__(self, encoder):\n",
        "        super(FIClassifier, self).__init__()\n",
        "        self.encoder = encoder\n",
        "        self.fc = nn.Linear(16, 2)\n",
        "\n",
        "    def forward(self, x):\n",
        "        x = self.encoder(x)\n",
        "        x = self.fc(x)\n",
        "        return x\n",
        "\n",
        "class GrpFI_Autoencoder(nn.Module):\n",
        "    def __init__(self, input_dim):\n",
        "        super(GrpFI_Autoencoder, self).__init__()\n",
        "\n",
        "        # Encoder\n",
        "        self.encoder = nn.Sequential(\n",
        "            nn.Linear(input_dim, 64),\n",
        "            nn.ReLU(),\n",
        "            #nn.Linear(64, 32),\n",
        "            #nn.ReLU(),\n",
        "            nn.Linear(64, 16),\n",
        "            nn.ReLU()\n",
        "        )\n",
        "\n",
        "        # Decoder\n",
        "        self.decoder = nn.Sequential(\n",
        "            nn.Linear(16, 64),\n",
        "            nn.ReLU(),\n",
        "            #nn.Linear(64, 32),\n",
        "            #nn.ReLU(),\n",
        "            nn.Linear(64, input_dim),\n",
        "            nn.Sigmoid()  # Sigmoid for output between 0 and 1\n",
        "        )\n",
        "    def forward(self, x):\n",
        "        x = self.encoder(x)\n",
        "        x = self.decoder(x)\n",
        "        return x"
      ],
      "metadata": {
        "id": "-kNAzmHGVny_"
      },
      "execution_count": null,
      "outputs": []
    },
    {
      "cell_type": "markdown",
      "source": [],
      "metadata": {
        "id": "UAXmPTWs1GKM"
      }
    },
    {
      "cell_type": "code",
      "source": [
        "len(GrpLP_y_train)"
      ],
      "metadata": {
        "colab": {
          "base_uri": "https://localhost:8080/"
        },
        "id": "aVZy2Q0R2lxs",
        "outputId": "42869fe0-7aef-4360-d78c-941247fe06c2"
      },
      "execution_count": null,
      "outputs": [
        {
          "output_type": "execute_result",
          "data": {
            "text/plain": [
              "13767"
            ]
          },
          "metadata": {},
          "execution_count": 490
        }
      ]
    },
    {
      "cell_type": "code",
      "source": [
        "Col_Feature_sub=['subgraph_embedding_0','subgraph_embedding_1']\n",
        "F_TST_df=Feature_test_df[Col_Feature_sub]\n",
        "Grpsub_X_test=torch.tensor(F_TST_df.values.tolist(), dtype=torch.float)\n",
        "Grpsub_y_test=torch.tensor((Feature_test_df['Label'].values).tolist(), dtype=torch.long)\n",
        "\n",
        "F_TR_df=Feature_train_df[Col_Feature_sub]\n",
        "Grpsub_X_train=torch.tensor(F_TR_df.values.tolist(), dtype=torch.float)\n",
        "Grpsub_y_train=torch.tensor((Feature_train_df['Label'].values).tolist(), dtype=torch.long)\n",
        "#-------------------------------------------------------------------------------------------\n",
        "Col_Feature_Final=['f_amount_in','f_amount_out']\n",
        "F_TST_df=Feature_test_df[Col_Feature_Final]\n",
        "GrpFI_X_test=torch.tensor(F_TST_df.values.tolist(), dtype=torch.float)\n",
        "GrpFI_y_test=torch.tensor((Feature_test_df['Label'].values).tolist(), dtype=torch.long)\n",
        "\n",
        "F_TR_df=Feature_train_df[Col_Feature_Final]\n",
        "GrpFI_X_train=torch.tensor(F_TR_df.values.tolist(), dtype=torch.float)\n",
        "GrpFI_y_train=torch.tensor((Feature_train_df['Label'].values).tolist(), dtype=torch.long)\n",
        "#--------------------------------------------------------------------------------------------\n",
        "Col_Feature_LP=['embedded_Laplacian_0','embedded_Laplacian_1']\n",
        "F_TST_df=Feature_test_df[Col_Feature_LP]\n",
        "GrpLP_X_test=torch.tensor(F_TST_df.values.tolist(), dtype=torch.float)\n",
        "GrpLP_y_test=torch.tensor((Feature_test_df['Label'].values).tolist(), dtype=torch.long)\n",
        "\n",
        "F_TR_df=Feature_train_df[Col_Feature_LP]\n",
        "GrpLP_X_train=torch.tensor(F_TR_df.values.tolist(), dtype=torch.float)\n",
        "GrpLP_y_train=torch.tensor((Feature_train_df['Label'].values).tolist(), dtype=torch.long)\n"
      ],
      "metadata": {
        "id": "9uaz5sHGWYoC"
      },
      "execution_count": null,
      "outputs": []
    },
    {
      "cell_type": "code",
      "execution_count": null,
      "metadata": {
        "id": "MRDhdAjGnv9s"
      },
      "outputs": [],
      "source": [
        "G_class_weights=Get_class_weights(Grpsub_y_train)\n",
        "batch_size_TR= len(Grpsub_X_train)\n",
        "batch_size_TST= len(Grpsub_X_test)"
      ]
    },
    {
      "cell_type": "code",
      "execution_count": null,
      "metadata": {
        "id": "nUG2A0bygDB4"
      },
      "outputs": [],
      "source": [
        "Sub_learning_rate=0.09\n",
        "train_dateset=torch.utils.data.TensorDataset(Grpsub_X_train,Grpsub_y_train)\n",
        "train_loader_subGrp=torch.utils.data.DataLoader(train_dateset , batch_size=batch_size_TR, shuffle=True)\n",
        "test_dataset=torch.utils.data.TensorDataset(Grpsub_X_test,Grpsub_y_test)\n",
        "test_loader_subGrp=torch.utils.data.DataLoader(test_dataset , batch_size=batch_size_TST, shuffle=False )\n",
        "#----------------------------------------------------\n",
        "FI_learning_rate=0.003\n",
        "train_dateset=torch.utils.data.TensorDataset(GrpFI_X_train,GrpFI_y_train)\n",
        "train_loader_FIGrp=torch.utils.data.DataLoader(train_dateset , batch_size=batch_size_TR, shuffle=True)\n",
        "test_dataset=torch.utils.data.TensorDataset(GrpFI_X_test,GrpFI_y_test)\n",
        "test_loader_FIGrp=torch.utils.data.DataLoader(test_dataset , batch_size=batch_size_TST, shuffle=False )\n",
        "#----------------------------------------------------\n",
        "LP_learning_rate=0.2\n",
        "train_dateset=torch.utils.data.TensorDataset(GrpLP_X_train,GrpLP_y_train)\n",
        "train_loader_LPGrp=torch.utils.data.DataLoader(train_dateset , batch_size=batch_size_TR, shuffle=True)\n",
        "test_dataset=torch.utils.data.TensorDataset(GrpLP_X_test,GrpLP_y_test)\n",
        "test_loader_LPGrp=torch.utils.data.DataLoader(test_dataset , batch_size=batch_size_TST, shuffle=False )\n",
        "\n"
      ]
    },
    {
      "cell_type": "code",
      "source": [
        "Grpsub_X_train.shape[1]"
      ],
      "metadata": {
        "colab": {
          "base_uri": "https://localhost:8080/"
        },
        "id": "mv-5_SNKu-W-",
        "outputId": "c3e18241-1f60-4b3b-bb5d-08d810276cc8"
      },
      "execution_count": null,
      "outputs": [
        {
          "output_type": "execute_result",
          "data": {
            "text/plain": [
              "2"
            ]
          },
          "metadata": {},
          "execution_count": 441
        }
      ]
    },
    {
      "cell_type": "code",
      "execution_count": null,
      "metadata": {
        "id": "QOkxGEQvn1LM"
      },
      "outputs": [],
      "source": [
        "autoencoder = GrpSub_Autoencoder(input_dim=Grpsub_X_train.shape[1])\n",
        "GrpSub_classifier = SubClassifier(autoencoder.encoder )\n",
        "\n",
        "autoencoder = GrpFI_Autoencoder(input_dim=GrpFI_X_train.shape[1])\n",
        "GrpFI_classifier = FIClassifier(autoencoder.encoder)\n",
        "\n",
        "autoencoder = GrpLp_Autoencoder(input_dim=GrpLP_X_train.shape[1])\n",
        "GrpLpclassifier = LpClassifier(autoencoder.encoder)\n"
      ]
    },
    {
      "cell_type": "code",
      "execution_count": null,
      "metadata": {
        "id": "x8Fzpo2U3tiB"
      },
      "outputs": [],
      "source": [
        "criterion = nn.CrossEntropyLoss(weight=G_class_weights)"
      ]
    },
    {
      "cell_type": "code",
      "execution_count": null,
      "metadata": {
        "id": "ympG8oH2szod"
      },
      "outputs": [],
      "source": [
        "#optimizer = optim.Adam(list(GrpSub_classifier.parameters()) + list(GrpFI_classifier.parameters()) + list(GrpLpclassifier.parameters()), lr=0.07)\n",
        "optimizer = optim.Adam(list(GrpSub_classifier.parameters()) + list(GrpLpclassifier.parameters()) , lr=0.07)"
      ]
    },
    {
      "cell_type": "code",
      "execution_count": null,
      "metadata": {
        "colab": {
          "base_uri": "https://localhost:8080/"
        },
        "id": "UTXekWQTs2hN",
        "outputId": "06187566-1471-4eb6-d892-25a469032f60"
      },
      "outputs": [
        {
          "output_type": "stream",
          "name": "stdout",
          "text": [
            "Epoch 1/80, SubGraph Loss: 0.6218695044517517, FI Loss: 0.6931472420692444 , LP Loss: 0.6057228446006775\n",
            "Epoch 6/80, SubGraph Loss: 0.6479236483573914, FI Loss: 0.6931472420692444 , LP Loss: 0.6158574819564819\n",
            "Epoch 11/80, SubGraph Loss: 0.6354581713676453, FI Loss: 0.6931472420692444 , LP Loss: 0.6099659204483032\n",
            "Epoch 16/80, SubGraph Loss: 0.6331208944320679, FI Loss: 0.6931472420692444 , LP Loss: 0.6067715883255005\n",
            "Epoch 21/80, SubGraph Loss: 0.6255561113357544, FI Loss: 0.6931472420692444 , LP Loss: 0.6039458513259888\n",
            "Epoch 26/80, SubGraph Loss: 0.6225571632385254, FI Loss: 0.6931472420692444 , LP Loss: 0.6017563939094543\n",
            "Epoch 31/80, SubGraph Loss: 0.6232227683067322, FI Loss: 0.6931472420692444 , LP Loss: 0.6009964942932129\n",
            "Epoch 36/80, SubGraph Loss: 0.6271392107009888, FI Loss: 0.6931472420692444 , LP Loss: 0.6004971265792847\n",
            "Epoch 41/80, SubGraph Loss: 0.6232098937034607, FI Loss: 0.6931472420692444 , LP Loss: 0.6047139763832092\n",
            "Epoch 46/80, SubGraph Loss: 0.6215105652809143, FI Loss: 0.6931472420692444 , LP Loss: 0.6022917628288269\n",
            "Epoch 51/80, SubGraph Loss: 0.6210017204284668, FI Loss: 0.6931472420692444 , LP Loss: 0.599502444267273\n",
            "Epoch 56/80, SubGraph Loss: 0.643316388130188, FI Loss: 0.6931472420692444 , LP Loss: 0.5977663993835449\n",
            "Epoch 61/80, SubGraph Loss: 0.6208228468894958, FI Loss: 0.6931472420692444 , LP Loss: 0.5966951251029968\n",
            "Epoch 66/80, SubGraph Loss: 0.6210552453994751, FI Loss: 0.6931472420692444 , LP Loss: 0.5957411527633667\n",
            "Epoch 71/80, SubGraph Loss: 0.6204777956008911, FI Loss: 0.6931472420692444 , LP Loss: 0.5937322378158569\n",
            "Epoch 76/80, SubGraph Loss: 0.6203488111495972, FI Loss: 0.6931472420692444 , LP Loss: 0.5932630896568298\n"
          ]
        }
      ],
      "source": [
        "# Training loop\n",
        "torch.backends.cudnn.deterministic = True\n",
        "epochs = 80\n",
        "for epoch in range(epochs):\n",
        "    optimizer.zero_grad()\n",
        "\n",
        "    # Forward pass\n",
        "    GrpSub_logits = GrpSub_classifier(Grpsub_X_train)\n",
        "    GrpFI_logits = GrpFI_classifier(GrpFI_X_train)\n",
        "    GrpLp_logits = GrpLpclassifier(GrpLP_X_train)\n",
        "\n",
        "    # Compute losses\n",
        "    GrpSub_loss = criterion(GrpSub_logits, Grpsub_y_train)\n",
        "    #GrpFI_loss = criterion(GrpFI_logits, GrpFI_y_train)\n",
        "    GrpLp_loss = criterion(GrpLp_logits, GrpLP_y_train)\n",
        "\n",
        "    # Total loss (you can weight the losses if needed)\n",
        "    total_loss = GrpSub_loss + GrpLp_loss\n",
        "    loss_mean = torch.mean(total_loss)\n",
        "    # Backpropagation\n",
        "    #total_loss.backward()\n",
        "    loss_mean.backward()\n",
        "    optimizer.step()\n",
        "\n",
        "    if epoch % 5 == 0:\n",
        "        print(f'Epoch {epoch+1}/{epochs}, SubGraph Loss: {GrpSub_loss.item()}, FI Loss: {GrpFI_loss.item()} , LP Loss: {GrpLp_loss.item()}')"
      ]
    },
    {
      "cell_type": "code",
      "execution_count": null,
      "metadata": {
        "colab": {
          "base_uri": "https://localhost:8080/",
          "height": 906
        },
        "id": "Tmv2iEBBaXfr",
        "outputId": "5462bb9d-4aec-4569-e2d0-e1ce85c59618"
      },
      "outputs": [
        {
          "output_type": "stream",
          "name": "stdout",
          "text": [
            "              precision    recall  f1-score   support\n",
            "\n",
            "           0       0.98      0.71      0.82      2041\n",
            "           1       0.05      0.54      0.09        57\n",
            "\n",
            "    accuracy                           0.70      2098\n",
            "   macro avg       0.52      0.63      0.46      2098\n",
            "weighted avg       0.96      0.70      0.80      2098\n",
            "\n"
          ]
        },
        {
          "output_type": "display_data",
          "data": {
            "text/plain": [
              "<Figure size 800x800 with 1 Axes>"
            ],
            "image/png": "[encoded data removed]"
          },
          "metadata": {}
        },
        {
          "output_type": "execute_result",
          "data": {
            "text/plain": [
              "0.7044804692268372"
            ]
          },
          "metadata": {},
          "execution_count": 583
        }
      ],
      "source": [
        "evaluate(model=GrpSub_classifier, test_loader=test_loader_subGrp)"
      ]
    },
    {
      "cell_type": "code",
      "source": [
        "evaluate(model=GrpLpclassifier, test_loader=test_loader_LPGrp)"
      ],
      "metadata": {
        "colab": {
          "base_uri": "https://localhost:8080/",
          "height": 906
        },
        "id": "8mKQsWH4_cLd",
        "outputId": "c0a3f401-256e-4c5f-86be-e44205c17a3a"
      },
      "execution_count": null,
      "outputs": [
        {
          "output_type": "stream",
          "name": "stdout",
          "text": [
            "              precision    recall  f1-score   support\n",
            "\n",
            "           0       0.98      0.90      0.94      2041\n",
            "           1       0.07      0.26      0.11        57\n",
            "\n",
            "    accuracy                           0.88      2098\n",
            "   macro avg       0.52      0.58      0.52      2098\n",
            "weighted avg       0.95      0.88      0.92      2098\n",
            "\n"
          ]
        },
        {
          "output_type": "display_data",
          "data": {
            "text/plain": [
              "<Figure size 800x800 with 1 Axes>"
            ],
            "image/png": "[encoded data removed]"
          },
          "metadata": {}
        },
        {
          "output_type": "execute_result",
          "data": {
            "text/plain": [
              "0.8841754198074341"
            ]
          },
          "metadata": {},
          "execution_count": 584
        }
      ]
    }
  ],
  "metadata": {
    "colab": {
      "collapsed_sections": [
        "WEYzbCKSsnJk",
        "ggtcpXObqX5G",
        "GTeEuMJ7UH10",
        "mCcO8OK5o1aT",
        "AorHl0hWMNEO",
        "4ZLgR_DHUMUM"
      ],
      "provenance": [],
      "authorship_tag": "ABX9TyOgpBivg7LIUJostFCNa21m",
      "include_colab_link": true
    },
    "kernelspec": {
      "display_name": "Python 3",
      "name": "python3"
    },
    "language_info": {
      "name": "python"
    },
    "widgets": {
      "application/vnd.jupyter.widget-state+json": {
        "9bcd54a78891409c9cbde8eb20a6da1a": {
          "model_module": "@jupyter-widgets/controls",
          "model_name": "HBoxModel",
          "model_module_version": "1.5.0",
          "state": {
            "_dom_classes": [],
            "_model_module": "@jupyter-widgets/controls",
            "_model_module_version": "1.5.0",
            "_model_name": "HBoxModel",
            "_view_count": null,
            "_view_module": "@jupyter-widgets/controls",
            "_view_module_version": "1.5.0",
            "_view_name": "HBoxView",
            "box_style": "",
            "children": [
              "IPY_MODEL_a35db2bc6d0644808f4dcf3b58cc9126",
              "IPY_MODEL_2a3a02a8e3ab496bbda87dc29243a914",
              "IPY_MODEL_392edb81d6f04e7bae9ceb87c0906031"
            ],
            "layout": "IPY_MODEL_c7b61e505d144658a45f0ed6936b9a68"
          }
        },
        "a35db2bc6d0644808f4dcf3b58cc9126": {
          "model_module": "@jupyter-widgets/controls",
          "model_name": "HTMLModel",
          "model_module_version": "1.5.0",
          "state": {
            "_dom_classes": [],
            "_model_module": "@jupyter-widgets/controls",
            "_model_module_version": "1.5.0",
            "_model_name": "HTMLModel",
            "_view_count": null,
            "_view_module": "@jupyter-widgets/controls",
            "_view_module_version": "1.5.0",
            "_view_name": "HTMLView",
            "description": "",
            "description_tooltip": null,
            "layout": "IPY_MODEL_54f91727d5804453a3d50b5c9d8db409",
            "placeholder": "​",
            "style": "IPY_MODEL_466267b54de64bd1b201c11540ebd995",
            "value": "Computing transition probabilities: 100%"
          }
        },
        "2a3a02a8e3ab496bbda87dc29243a914": {
          "model_module": "@jupyter-widgets/controls",
          "model_name": "FloatProgressModel",
          "model_module_version": "1.5.0",
          "state": {
            "_dom_classes": [],
            "_model_module": "@jupyter-widgets/controls",
            "_model_module_version": "1.5.0",
            "_model_name": "FloatProgressModel",
            "_view_count": null,
            "_view_module": "@jupyter-widgets/controls",
            "_view_module_version": "1.5.0",
            "_view_name": "ProgressView",
            "bar_style": "success",
            "description": "",
            "description_tooltip": null,
            "layout": "IPY_MODEL_6dab2b9e55e44f97b9f6f9a308e6068a",
            "max": 13,
            "min": 0,
            "orientation": "horizontal",
            "style": "IPY_MODEL_9bf09e51a77c44a782745c3751440117",
            "value": 13
          }
        },
        "392edb81d6f04e7bae9ceb87c0906031": {
          "model_module": "@jupyter-widgets/controls",
          "model_name": "HTMLModel",
          "model_module_version": "1.5.0",
          "state": {
            "_dom_classes": [],
            "_model_module": "@jupyter-widgets/controls",
            "_model_module_version": "1.5.0",
            "_model_name": "HTMLModel",
            "_view_count": null,
            "_view_module": "@jupyter-widgets/controls",
            "_view_module_version": "1.5.0",
            "_view_name": "HTMLView",
            "description": "",
            "description_tooltip": null,
            "layout": "IPY_MODEL_ee8c28747e434e749f95f8dde31bdc3e",
            "placeholder": "​",
            "style": "IPY_MODEL_f7fca206745b4ddca4a3d08f5f3f243d",
            "value": " 13/13 [00:00&lt;00:00, 375.22it/s]"
          }
        },
        "c7b61e505d144658a45f0ed6936b9a68": {
          "model_module": "@jupyter-widgets/base",
          "model_name": "LayoutModel",
          "model_module_version": "1.2.0",
          "state": {
            "_model_module": "@jupyter-widgets/base",
            "_model_module_version": "1.2.0",
            "_model_name": "LayoutModel",
            "_view_count": null,
            "_view_module": "@jupyter-widgets/base",
            "_view_module_version": "1.2.0",
            "_view_name": "LayoutView",
            "align_content": null,
            "align_items": null,
            "align_self": null,
            "border": null,
            "bottom": null,
            "display": null,
            "flex": null,
            "flex_flow": null,
            "grid_area": null,
            "grid_auto_columns": null,
            "grid_auto_flow": null,
            "grid_auto_rows": null,
            "grid_column": null,
            "grid_gap": null,
            "grid_row": null,
            "grid_template_areas": null,
            "grid_template_columns": null,
            "grid_template_rows": null,
            "height": null,
            "justify_content": null,
            "justify_items": null,
            "left": null,
            "margin": null,
            "max_height": null,
            "max_width": null,
            "min_height": null,
            "min_width": null,
            "object_fit": null,
            "object_position": null,
            "order": null,
            "overflow": null,
            "overflow_x": null,
            "overflow_y": null,
            "padding": null,
            "right": null,
            "top": null,
            "visibility": null,
            "width": null
          }
        },
        "54f91727d5804453a3d50b5c9d8db409": {
          "model_module": "@jupyter-widgets/base",
          "model_name": "LayoutModel",
          "model_module_version": "1.2.0",
          "state": {
            "_model_module": "@jupyter-widgets/base",
            "_model_module_version": "1.2.0",
            "_model_name": "LayoutModel",
            "_view_count": null,
            "_view_module": "@jupyter-widgets/base",
            "_view_module_version": "1.2.0",
            "_view_name": "LayoutView",
            "align_content": null,
            "align_items": null,
            "align_self": null,
            "border": null,
            "bottom": null,
            "display": null,
            "flex": null,
            "flex_flow": null,
            "grid_area": null,
            "grid_auto_columns": null,
            "grid_auto_flow": null,
            "grid_auto_rows": null,
            "grid_column": null,
            "grid_gap": null,
            "grid_row": null,
            "grid_template_areas": null,
            "grid_template_columns": null,
            "grid_template_rows": null,
            "height": null,
            "justify_content": null,
            "justify_items": null,
            "left": null,
            "margin": null,
            "max_height": null,
            "max_width": null,
            "min_height": null,
            "min_width": null,
            "object_fit": null,
            "object_position": null,
            "order": null,
            "overflow": null,
            "overflow_x": null,
            "overflow_y": null,
            "padding": null,
            "right": null,
            "top": null,
            "visibility": null,
            "width": null
          }
        },
        "466267b54de64bd1b201c11540ebd995": {
          "model_module": "@jupyter-widgets/controls",
          "model_name": "DescriptionStyleModel",
          "model_module_version": "1.5.0",
          "state": {
            "_model_module": "@jupyter-widgets/controls",
            "_model_module_version": "1.5.0",
            "_model_name": "DescriptionStyleModel",
            "_view_count": null,
            "_view_module": "@jupyter-widgets/base",
            "_view_module_version": "1.2.0",
            "_view_name": "StyleView",
            "description_width": ""
          }
        },
        "6dab2b9e55e44f97b9f6f9a308e6068a": {
          "model_module": "@jupyter-widgets/base",
          "model_name": "LayoutModel",
          "model_module_version": "1.2.0",
          "state": {
            "_model_module": "@jupyter-widgets/base",
            "_model_module_version": "1.2.0",
            "_model_name": "LayoutModel",
            "_view_count": null,
            "_view_module": "@jupyter-widgets/base",
            "_view_module_version": "1.2.0",
            "_view_name": "LayoutView",
            "align_content": null,
            "align_items": null,
            "align_self": null,
            "border": null,
            "bottom": null,
            "display": null,
            "flex": null,
            "flex_flow": null,
            "grid_area": null,
            "grid_auto_columns": null,
            "grid_auto_flow": null,
            "grid_auto_rows": null,
            "grid_column": null,
            "grid_gap": null,
            "grid_row": null,
            "grid_template_areas": null,
            "grid_template_columns": null,
            "grid_template_rows": null,
            "height": null,
            "justify_content": null,
            "justify_items": null,
            "left": null,
            "margin": null,
            "max_height": null,
            "max_width": null,
            "min_height": null,
            "min_width": null,
            "object_fit": null,
            "object_position": null,
            "order": null,
            "overflow": null,
            "overflow_x": null,
            "overflow_y": null,
            "padding": null,
            "right": null,
            "top": null,
            "visibility": null,
            "width": null
          }
        },
        "9bf09e51a77c44a782745c3751440117": {
          "model_module": "@jupyter-widgets/controls",
          "model_name": "ProgressStyleModel",
          "model_module_version": "1.5.0",
          "state": {
            "_model_module": "@jupyter-widgets/controls",
            "_model_module_version": "1.5.0",
            "_model_name": "ProgressStyleModel",
            "_view_count": null,
            "_view_module": "@jupyter-widgets/base",
            "_view_module_version": "1.2.0",
            "_view_name": "StyleView",
            "bar_color": null,
            "description_width": ""
          }
        },
        "ee8c28747e434e749f95f8dde31bdc3e": {
          "model_module": "@jupyter-widgets/base",
          "model_name": "LayoutModel",
          "model_module_version": "1.2.0",
          "state": {
            "_model_module": "@jupyter-widgets/base",
            "_model_module_version": "1.2.0",
            "_model_name": "LayoutModel",
            "_view_count": null,
            "_view_module": "@jupyter-widgets/base",
            "_view_module_version": "1.2.0",
            "_view_name": "LayoutView",
            "align_content": null,
            "align_items": null,
            "align_self": null,
            "border": null,
            "bottom": null,
            "display": null,
            "flex": null,
            "flex_flow": null,
            "grid_area": null,
            "grid_auto_columns": null,
            "grid_auto_flow": null,
            "grid_auto_rows": null,
            "grid_column": null,
            "grid_gap": null,
            "grid_row": null,
            "grid_template_areas": null,
            "grid_template_columns": null,
            "grid_template_rows": null,
            "height": null,
            "justify_content": null,
            "justify_items": null,
            "left": null,
            "margin": null,
            "max_height": null,
            "max_width": null,
            "min_height": null,
            "min_width": null,
            "object_fit": null,
            "object_position": null,
            "order": null,
            "overflow": null,
            "overflow_x": null,
            "overflow_y": null,
            "padding": null,
            "right": null,
            "top": null,
            "visibility": null,
            "width": null
          }
        },
        "f7fca206745b4ddca4a3d08f5f3f243d": {
          "model_module": "@jupyter-widgets/controls",
          "model_name": "DescriptionStyleModel",
          "model_module_version": "1.5.0",
          "state": {
            "_model_module": "@jupyter-widgets/controls",
            "_model_module_version": "1.5.0",
            "_model_name": "DescriptionStyleModel",
            "_view_count": null,
            "_view_module": "@jupyter-widgets/base",
            "_view_module_version": "1.2.0",
            "_view_name": "StyleView",
            "description_width": ""
          }
        },
        "8d35aac9948d4bcd8be43f24e1885693": {
          "model_module": "@jupyter-widgets/controls",
          "model_name": "HBoxModel",
          "model_module_version": "1.5.0",
          "state": {
            "_dom_classes": [],
            "_model_module": "@jupyter-widgets/controls",
            "_model_module_version": "1.5.0",
            "_model_name": "HBoxModel",
            "_view_count": null,
            "_view_module": "@jupyter-widgets/controls",
            "_view_module_version": "1.5.0",
            "_view_name": "HBoxView",
            "box_style": "",
            "children": [
              "IPY_MODEL_65b650e548b242168a269f877f3a9c78",
              "IPY_MODEL_e2d724874661498a85129fd29b666e26",
              "IPY_MODEL_7ae58558244444a0a51ece81a457eec8"
            ],
            "layout": "IPY_MODEL_02140f657562464d81d340afb816f6a5"
          }
        },
        "65b650e548b242168a269f877f3a9c78": {
          "model_module": "@jupyter-widgets/controls",
          "model_name": "HTMLModel",
          "model_module_version": "1.5.0",
          "state": {
            "_dom_classes": [],
            "_model_module": "@jupyter-widgets/controls",
            "_model_module_version": "1.5.0",
            "_model_name": "HTMLModel",
            "_view_count": null,
            "_view_module": "@jupyter-widgets/controls",
            "_view_module_version": "1.5.0",
            "_view_name": "HTMLView",
            "description": "",
            "description_tooltip": null,
            "layout": "IPY_MODEL_3c4ab23d9ef343a08b9a7e69187c3e9a",
            "placeholder": "​",
            "style": "IPY_MODEL_7c6a02d1765443aeb9dfb9b03e057465",
            "value": "Computing transition probabilities: 100%"
          }
        },
        "e2d724874661498a85129fd29b666e26": {
          "model_module": "@jupyter-widgets/controls",
          "model_name": "FloatProgressModel",
          "model_module_version": "1.5.0",
          "state": {
            "_dom_classes": [],
            "_model_module": "@jupyter-widgets/controls",
            "_model_module_version": "1.5.0",
            "_model_name": "FloatProgressModel",
            "_view_count": null,
            "_view_module": "@jupyter-widgets/controls",
            "_view_module_version": "1.5.0",
            "_view_name": "ProgressView",
            "bar_style": "success",
            "description": "",
            "description_tooltip": null,
            "layout": "IPY_MODEL_382d908a2df8475eac1fa1c3925437ed",
            "max": 13767,
            "min": 0,
            "orientation": "horizontal",
            "style": "IPY_MODEL_fbc95ccde7b14b67be460e071080a670",
            "value": 13767
          }
        },
        "7ae58558244444a0a51ece81a457eec8": {
          "model_module": "@jupyter-widgets/controls",
          "model_name": "HTMLModel",
          "model_module_version": "1.5.0",
          "state": {
            "_dom_classes": [],
            "_model_module": "@jupyter-widgets/controls",
            "_model_module_version": "1.5.0",
            "_model_name": "HTMLModel",
            "_view_count": null,
            "_view_module": "@jupyter-widgets/controls",
            "_view_module_version": "1.5.0",
            "_view_name": "HTMLView",
            "description": "",
            "description_tooltip": null,
            "layout": "IPY_MODEL_fa5f830f91c740e4ad0f789bcc137653",
            "placeholder": "​",
            "style": "IPY_MODEL_ddc82478befd447ca8c19fbdb153b845",
            "value": " 13767/13767 [00:10&lt;00:00, 3599.92it/s]"
          }
        },
        "02140f657562464d81d340afb816f6a5": {
          "model_module": "@jupyter-widgets/base",
          "model_name": "LayoutModel",
          "model_module_version": "1.2.0",
          "state": {
            "_model_module": "@jupyter-widgets/base",
            "_model_module_version": "1.2.0",
            "_model_name": "LayoutModel",
            "_view_count": null,
            "_view_module": "@jupyter-widgets/base",
            "_view_module_version": "1.2.0",
            "_view_name": "LayoutView",
            "align_content": null,
            "align_items": null,
            "align_self": null,
            "border": null,
            "bottom": null,
            "display": null,
            "flex": null,
            "flex_flow": null,
            "grid_area": null,
            "grid_auto_columns": null,
            "grid_auto_flow": null,
            "grid_auto_rows": null,
            "grid_column": null,
            "grid_gap": null,
            "grid_row": null,
            "grid_template_areas": null,
            "grid_template_columns": null,
            "grid_template_rows": null,
            "height": null,
            "justify_content": null,
            "justify_items": null,
            "left": null,
            "margin": null,
            "max_height": null,
            "max_width": null,
            "min_height": null,
            "min_width": null,
            "object_fit": null,
            "object_position": null,
            "order": null,
            "overflow": null,
            "overflow_x": null,
            "overflow_y": null,
            "padding": null,
            "right": null,
            "top": null,
            "visibility": null,
            "width": null
          }
        },
        "3c4ab23d9ef343a08b9a7e69187c3e9a": {
          "model_module": "@jupyter-widgets/base",
          "model_name": "LayoutModel",
          "model_module_version": "1.2.0",
          "state": {
            "_model_module": "@jupyter-widgets/base",
            "_model_module_version": "1.2.0",
            "_model_name": "LayoutModel",
            "_view_count": null,
            "_view_module": "@jupyter-widgets/base",
            "_view_module_version": "1.2.0",
            "_view_name": "LayoutView",
            "align_content": null,
            "align_items": null,
            "align_self": null,
            "border": null,
            "bottom": null,
            "display": null,
            "flex": null,
            "flex_flow": null,
            "grid_area": null,
            "grid_auto_columns": null,
            "grid_auto_flow": null,
            "grid_auto_rows": null,
            "grid_column": null,
            "grid_gap": null,
            "grid_row": null,
            "grid_template_areas": null,
            "grid_template_columns": null,
            "grid_template_rows": null,
            "height": null,
            "justify_content": null,
            "justify_items": null,
            "left": null,
            "margin": null,
            "max_height": null,
            "max_width": null,
            "min_height": null,
            "min_width": null,
            "object_fit": null,
            "object_position": null,
            "order": null,
            "overflow": null,
            "overflow_x": null,
            "overflow_y": null,
            "padding": null,
            "right": null,
            "top": null,
            "visibility": null,
            "width": null
          }
        },
        "7c6a02d1765443aeb9dfb9b03e057465": {
          "model_module": "@jupyter-widgets/controls",
          "model_name": "DescriptionStyleModel",
          "model_module_version": "1.5.0",
          "state": {
            "_model_module": "@jupyter-widgets/controls",
            "_model_module_version": "1.5.0",
            "_model_name": "DescriptionStyleModel",
            "_view_count": null,
            "_view_module": "@jupyter-widgets/base",
            "_view_module_version": "1.2.0",
            "_view_name": "StyleView",
            "description_width": ""
          }
        },
        "382d908a2df8475eac1fa1c3925437ed": {
          "model_module": "@jupyter-widgets/base",
          "model_name": "LayoutModel",
          "model_module_version": "1.2.0",
          "state": {
            "_model_module": "@jupyter-widgets/base",
            "_model_module_version": "1.2.0",
            "_model_name": "LayoutModel",
            "_view_count": null,
            "_view_module": "@jupyter-widgets/base",
            "_view_module_version": "1.2.0",
            "_view_name": "LayoutView",
            "align_content": null,
            "align_items": null,
            "align_self": null,
            "border": null,
            "bottom": null,
            "display": null,
            "flex": null,
            "flex_flow": null,
            "grid_area": null,
            "grid_auto_columns": null,
            "grid_auto_flow": null,
            "grid_auto_rows": null,
            "grid_column": null,
            "grid_gap": null,
            "grid_row": null,
            "grid_template_areas": null,
            "grid_template_columns": null,
            "grid_template_rows": null,
            "height": null,
            "justify_content": null,
            "justify_items": null,
            "left": null,
            "margin": null,
            "max_height": null,
            "max_width": null,
            "min_height": null,
            "min_width": null,
            "object_fit": null,
            "object_position": null,
            "order": null,
            "overflow": null,
            "overflow_x": null,
            "overflow_y": null,
            "padding": null,
            "right": null,
            "top": null,
            "visibility": null,
            "width": null
          }
        },
        "fbc95ccde7b14b67be460e071080a670": {
          "model_module": "@jupyter-widgets/controls",
          "model_name": "ProgressStyleModel",
          "model_module_version": "1.5.0",
          "state": {
            "_model_module": "@jupyter-widgets/controls",
            "_model_module_version": "1.5.0",
            "_model_name": "ProgressStyleModel",
            "_view_count": null,
            "_view_module": "@jupyter-widgets/base",
            "_view_module_version": "1.2.0",
            "_view_name": "StyleView",
            "bar_color": null,
            "description_width": ""
          }
        },
        "fa5f830f91c740e4ad0f789bcc137653": {
          "model_module": "@jupyter-widgets/base",
          "model_name": "LayoutModel",
          "model_module_version": "1.2.0",
          "state": {
            "_model_module": "@jupyter-widgets/base",
            "_model_module_version": "1.2.0",
            "_model_name": "LayoutModel",
            "_view_count": null,
            "_view_module": "@jupyter-widgets/base",
            "_view_module_version": "1.2.0",
            "_view_name": "LayoutView",
            "align_content": null,
            "align_items": null,
            "align_self": null,
            "border": null,
            "bottom": null,
            "display": null,
            "flex": null,
            "flex_flow": null,
            "grid_area": null,
            "grid_auto_columns": null,
            "grid_auto_flow": null,
            "grid_auto_rows": null,
            "grid_column": null,
            "grid_gap": null,
            "grid_row": null,
            "grid_template_areas": null,
            "grid_template_columns": null,
            "grid_template_rows": null,
            "height": null,
            "justify_content": null,
            "justify_items": null,
            "left": null,
            "margin": null,
            "max_height": null,
            "max_width": null,
            "min_height": null,
            "min_width": null,
            "object_fit": null,
            "object_position": null,
            "order": null,
            "overflow": null,
            "overflow_x": null,
            "overflow_y": null,
            "padding": null,
            "right": null,
            "top": null,
            "visibility": null,
            "width": null
          }
        },
        "ddc82478befd447ca8c19fbdb153b845": {
          "model_module": "@jupyter-widgets/controls",
          "model_name": "DescriptionStyleModel",
          "model_module_version": "1.5.0",
          "state": {
            "_model_module": "@jupyter-widgets/controls",
            "_model_module_version": "1.5.0",
            "_model_name": "DescriptionStyleModel",
            "_view_count": null,
            "_view_module": "@jupyter-widgets/base",
            "_view_module_version": "1.2.0",
            "_view_name": "StyleView",
            "description_width": ""
          }
        },
        "7c2d1872adc54c548d4ac200949e5c8d": {
          "model_module": "@jupyter-widgets/controls",
          "model_name": "HBoxModel",
          "model_module_version": "1.5.0",
          "state": {
            "_dom_classes": [],
            "_model_module": "@jupyter-widgets/controls",
            "_model_module_version": "1.5.0",
            "_model_name": "HBoxModel",
            "_view_count": null,
            "_view_module": "@jupyter-widgets/controls",
            "_view_module_version": "1.5.0",
            "_view_name": "HBoxView",
            "box_style": "",
            "children": [
              "IPY_MODEL_d68808cc04af433e9333d95a5d209e97",
              "IPY_MODEL_542cea0445b844d0b7f0c78468a139cf",
              "IPY_MODEL_99d38e54328f45c7ba94f95d0aa3c26a"
            ],
            "layout": "IPY_MODEL_b78c2ec4fc124bc3a332f68c96c157e5"
          }
        },
        "d68808cc04af433e9333d95a5d209e97": {
          "model_module": "@jupyter-widgets/controls",
          "model_name": "HTMLModel",
          "model_module_version": "1.5.0",
          "state": {
            "_dom_classes": [],
            "_model_module": "@jupyter-widgets/controls",
            "_model_module_version": "1.5.0",
            "_model_name": "HTMLModel",
            "_view_count": null,
            "_view_module": "@jupyter-widgets/controls",
            "_view_module_version": "1.5.0",
            "_view_name": "HTMLView",
            "description": "",
            "description_tooltip": null,
            "layout": "IPY_MODEL_c60d8e519fe84c9f8500de0713c46b88",
            "placeholder": "​",
            "style": "IPY_MODEL_05090d221c2a4fb09c29479eeb838139",
            "value": "Computing transition probabilities: 100%"
          }
        },
        "542cea0445b844d0b7f0c78468a139cf": {
          "model_module": "@jupyter-widgets/controls",
          "model_name": "FloatProgressModel",
          "model_module_version": "1.5.0",
          "state": {
            "_dom_classes": [],
            "_model_module": "@jupyter-widgets/controls",
            "_model_module_version": "1.5.0",
            "_model_name": "FloatProgressModel",
            "_view_count": null,
            "_view_module": "@jupyter-widgets/controls",
            "_view_module_version": "1.5.0",
            "_view_name": "ProgressView",
            "bar_style": "success",
            "description": "",
            "description_tooltip": null,
            "layout": "IPY_MODEL_21bffdd5c0864299abacc2034df25d59",
            "max": 2098,
            "min": 0,
            "orientation": "horizontal",
            "style": "IPY_MODEL_fb56b78dace646e2a3a5efc469b0ee40",
            "value": 2098
          }
        },
        "99d38e54328f45c7ba94f95d0aa3c26a": {
          "model_module": "@jupyter-widgets/controls",
          "model_name": "HTMLModel",
          "model_module_version": "1.5.0",
          "state": {
            "_dom_classes": [],
            "_model_module": "@jupyter-widgets/controls",
            "_model_module_version": "1.5.0",
            "_model_name": "HTMLModel",
            "_view_count": null,
            "_view_module": "@jupyter-widgets/controls",
            "_view_module_version": "1.5.0",
            "_view_name": "HTMLView",
            "description": "",
            "description_tooltip": null,
            "layout": "IPY_MODEL_38cf326e45484a6388d35bead03d8ea7",
            "placeholder": "​",
            "style": "IPY_MODEL_2b586511e2f74efdb042e1432091fb47",
            "value": " 2098/2098 [00:00&lt;00:00, 11484.83it/s]"
          }
        },
        "b78c2ec4fc124bc3a332f68c96c157e5": {
          "model_module": "@jupyter-widgets/base",
          "model_name": "LayoutModel",
          "model_module_version": "1.2.0",
          "state": {
            "_model_module": "@jupyter-widgets/base",
            "_model_module_version": "1.2.0",
            "_model_name": "LayoutModel",
            "_view_count": null,
            "_view_module": "@jupyter-widgets/base",
            "_view_module_version": "1.2.0",
            "_view_name": "LayoutView",
            "align_content": null,
            "align_items": null,
            "align_self": null,
            "border": null,
            "bottom": null,
            "display": null,
            "flex": null,
            "flex_flow": null,
            "grid_area": null,
            "grid_auto_columns": null,
            "grid_auto_flow": null,
            "grid_auto_rows": null,
            "grid_column": null,
            "grid_gap": null,
            "grid_row": null,
            "grid_template_areas": null,
            "grid_template_columns": null,
            "grid_template_rows": null,
            "height": null,
            "justify_content": null,
            "justify_items": null,
            "left": null,
            "margin": null,
            "max_height": null,
            "max_width": null,
            "min_height": null,
            "min_width": null,
            "object_fit": null,
            "object_position": null,
            "order": null,
            "overflow": null,
            "overflow_x": null,
            "overflow_y": null,
            "padding": null,
            "right": null,
            "top": null,
            "visibility": null,
            "width": null
          }
        },
        "c60d8e519fe84c9f8500de0713c46b88": {
          "model_module": "@jupyter-widgets/base",
          "model_name": "LayoutModel",
          "model_module_version": "1.2.0",
          "state": {
            "_model_module": "@jupyter-widgets/base",
            "_model_module_version": "1.2.0",
            "_model_name": "LayoutModel",
            "_view_count": null,
            "_view_module": "@jupyter-widgets/base",
            "_view_module_version": "1.2.0",
            "_view_name": "LayoutView",
            "align_content": null,
            "align_items": null,
            "align_self": null,
            "border": null,
            "bottom": null,
            "display": null,
            "flex": null,
            "flex_flow": null,
            "grid_area": null,
            "grid_auto_columns": null,
            "grid_auto_flow": null,
            "grid_auto_rows": null,
            "grid_column": null,
            "grid_gap": null,
            "grid_row": null,
            "grid_template_areas": null,
            "grid_template_columns": null,
            "grid_template_rows": null,
            "height": null,
            "justify_content": null,
            "justify_items": null,
            "left": null,
            "margin": null,
            "max_height": null,
            "max_width": null,
            "min_height": null,
            "min_width": null,
            "object_fit": null,
            "object_position": null,
            "order": null,
            "overflow": null,
            "overflow_x": null,
            "overflow_y": null,
            "padding": null,
            "right": null,
            "top": null,
            "visibility": null,
            "width": null
          }
        },
        "05090d221c2a4fb09c29479eeb838139": {
          "model_module": "@jupyter-widgets/controls",
          "model_name": "DescriptionStyleModel",
          "model_module_version": "1.5.0",
          "state": {
            "_model_module": "@jupyter-widgets/controls",
            "_model_module_version": "1.5.0",
            "_model_name": "DescriptionStyleModel",
            "_view_count": null,
            "_view_module": "@jupyter-widgets/base",
            "_view_module_version": "1.2.0",
            "_view_name": "StyleView",
            "description_width": ""
          }
        },
        "21bffdd5c0864299abacc2034df25d59": {
          "model_module": "@jupyter-widgets/base",
          "model_name": "LayoutModel",
          "model_module_version": "1.2.0",
          "state": {
            "_model_module": "@jupyter-widgets/base",
            "_model_module_version": "1.2.0",
            "_model_name": "LayoutModel",
            "_view_count": null,
            "_view_module": "@jupyter-widgets/base",
            "_view_module_version": "1.2.0",
            "_view_name": "LayoutView",
            "align_content": null,
            "align_items": null,
            "align_self": null,
            "border": null,
            "bottom": null,
            "display": null,
            "flex": null,
            "flex_flow": null,
            "grid_area": null,
            "grid_auto_columns": null,
            "grid_auto_flow": null,
            "grid_auto_rows": null,
            "grid_column": null,
            "grid_gap": null,
            "grid_row": null,
            "grid_template_areas": null,
            "grid_template_columns": null,
            "grid_template_rows": null,
            "height": null,
            "justify_content": null,
            "justify_items": null,
            "left": null,
            "margin": null,
            "max_height": null,
            "max_width": null,
            "min_height": null,
            "min_width": null,
            "object_fit": null,
            "object_position": null,
            "order": null,
            "overflow": null,
            "overflow_x": null,
            "overflow_y": null,
            "padding": null,
            "right": null,
            "top": null,
            "visibility": null,
            "width": null
          }
        },
        "fb56b78dace646e2a3a5efc469b0ee40": {
          "model_module": "@jupyter-widgets/controls",
          "model_name": "ProgressStyleModel",
          "model_module_version": "1.5.0",
          "state": {
            "_model_module": "@jupyter-widgets/controls",
            "_model_module_version": "1.5.0",
            "_model_name": "ProgressStyleModel",
            "_view_count": null,
            "_view_module": "@jupyter-widgets/base",
            "_view_module_version": "1.2.0",
            "_view_name": "StyleView",
            "bar_color": null,
            "description_width": ""
          }
        },
        "38cf326e45484a6388d35bead03d8ea7": {
          "model_module": "@jupyter-widgets/base",
          "model_name": "LayoutModel",
          "model_module_version": "1.2.0",
          "state": {
            "_model_module": "@jupyter-widgets/base",
            "_model_module_version": "1.2.0",
            "_model_name": "LayoutModel",
            "_view_count": null,
            "_view_module": "@jupyter-widgets/base",
            "_view_module_version": "1.2.0",
            "_view_name": "LayoutView",
            "align_content": null,
            "align_items": null,
            "align_self": null,
            "border": null,
            "bottom": null,
            "display": null,
            "flex": null,
            "flex_flow": null,
            "grid_area": null,
            "grid_auto_columns": null,
            "grid_auto_flow": null,
            "grid_auto_rows": null,
            "grid_column": null,
            "grid_gap": null,
            "grid_row": null,
            "grid_template_areas": null,
            "grid_template_columns": null,
            "grid_template_rows": null,
            "height": null,
            "justify_content": null,
            "justify_items": null,
            "left": null,
            "margin": null,
            "max_height": null,
            "max_width": null,
            "min_height": null,
            "min_width": null,
            "object_fit": null,
            "object_position": null,
            "order": null,
            "overflow": null,
            "overflow_x": null,
            "overflow_y": null,
            "padding": null,
            "right": null,
            "top": null,
            "visibility": null,
            "width": null
          }
        },
        "2b586511e2f74efdb042e1432091fb47": {
          "model_module": "@jupyter-widgets/controls",
          "model_name": "DescriptionStyleModel",
          "model_module_version": "1.5.0",
          "state": {
            "_model_module": "@jupyter-widgets/controls",
            "_model_module_version": "1.5.0",
            "_model_name": "DescriptionStyleModel",
            "_view_count": null,
            "_view_module": "@jupyter-widgets/base",
            "_view_module_version": "1.2.0",
            "_view_name": "StyleView",
            "description_width": ""
          }
        }
      }
    }
  },
  "nbformat": 4,
  "nbformat_minor": 0
}